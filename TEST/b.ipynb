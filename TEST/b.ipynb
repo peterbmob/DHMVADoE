{
  "nbformat": 4,
  "nbformat_minor": 0,
  "metadata": {
    "colab": {
      "provenance": [],
      "authorship_tag": "ABX9TyPWgAGP2IGifYKZg/EX3M5y",
      "include_colab_link": true
    },
    "kernelspec": {
      "name": "python3",
      "display_name": "Python 3"
    },
    "language_info": {
      "name": "python"
    }
  },
  "cells": [
    {
      "cell_type": "markdown",
      "metadata": {
        "id": "view-in-github",
        "colab_type": "text"
      },
      "source": [
        "<a href=\"https://colab.research.google.com/github/peterbmob/DHMVADoE/blob/main/Excercises_2.ipynb\" target=\"_parent\"><img src=\"https://colab.research.google.com/assets/colab-badge.svg\" alt=\"Open In Colab\"/></a>"
      ]
    },
    {
      "cell_type": "markdown",
      "source": [
        "# Tasks t-test and ANOVA\n",
        "\n",
        "1. Researchers took 20 cars of the same to take part in a study. These cars are randomly doped with one of the four-engine oils and allowed to run freely for 100 kilometers each. At the end of the journey, the performance of each of the cars is noted."
      ],
      "metadata": {
        "id": "VV5YsP7reZQa"
      }
    },
    {
      "cell_type": "code",
      "execution_count": null,
      "metadata": {
        "id": "OhDZ8v0eeUNV"
      },
      "outputs": [],
      "source": []
    },
    {
      "cell_type": "markdown",
      "source": [
        "2. Scientists need to know whether plant growth is affected by fertilizers and watering frequency. They planted exactly 30 plants and allowed them to grow for six months under different conditions for fertilizers and watering frequency. After exactly six months, they recorded the heights of each plant centimeters."
      ],
      "metadata": {
        "id": "LX_H5SL1el9r"
      }
    },
    {
      "cell_type": "markdown",
      "source": [
        "3. Let us consider an example, researchers are curious to know if four different engine oils lead to different mileage of cars. In order to test this, they measured the mileage of 5 cars using four different engine oils. Since each car’s mileage is measured by applying each of the four-engine oils one by one so we can use ANOVA."
      ],
      "metadata": {
        "id": "uPFZmUbRjZSl"
      }
    },
    {
      "cell_type": "code",
      "source": [
        "# Import the library\n",
        "import numpy as np\n",
        "import pandas as pd\n",
        "\n",
        "# Create the data\n",
        "df = pd.DataFrame({'Cars': np.repeat([1, 2, 3, 4, 5], 4),\n",
        "                          'Oil': np.tile([1, 2, 3, 4], 5),\n",
        "                          'Mileage': [36, 38, 30, 29,\n",
        "                                      34, 38, 30, 29,\n",
        "                                      34, 28, 38, 32,\n",
        "                                      38, 34, 20, 44,\n",
        "                                      26, 28, 34, 50]})\n",
        "\n",
        "# Print the dataframe\n",
        "df"
      ],
      "metadata": {
        "id": "cjxVkYfOenwy"
      },
      "execution_count": null,
      "outputs": []
    },
    {
      "cell_type": "code",
      "source": [
        "import seaborn as sns\n",
        "import matplotlib.pyplot as plt\n",
        "\n",
        "sns.histplot(df, bins=10, stat=\"density\", kde=True,kde_kws=dict(cut=3),alpha=.4, edgecolor=(1, 1, 1, .4))\n",
        "\n",
        "#plt.legend()\n",
        "plt.show()"
      ],
      "metadata": {
        "id": "sTQSnBKhjjjk"
      },
      "execution_count": null,
      "outputs": []
    },
    {
      "cell_type": "code",
      "source": [],
      "metadata": {
        "id": "CAnWNnriofkS"
      },
      "execution_count": null,
      "outputs": []
    },
    {
      "cell_type": "markdown",
      "source": [
        "# Final task!\n",
        "Generate a population of 30 dogs of an imaginary bread. The following rows of data should be present and stored in a pandas data-frame:\n",
        "\"Bread\": str, name of you bread \"Age\" : integer, age of the dog when it died (I know it is a bit sad...) \"Fur\" : float [0,1] , lenght of fur 0=very short, 1=very long \"Color\" : float [0,1] , 0=light color, 1=dark color\n",
        "\n",
        "Test a claim on you generated data. Can we claim that dogs of our bread become older than 8 years?\n",
        "\n",
        "Save your data as an csv-file and share with at-least two peers to make a larger pool of data.\n",
        "\n",
        "Make statistical ANOVA and pair-wise t-tests of your \"pooled\" data and comment amd reflect on your results. E.g. test a claim if bread A is darker than bread B."
      ],
      "metadata": {
        "id": "lmo0kZ_zogOG"
      }
    }
  ]
}
