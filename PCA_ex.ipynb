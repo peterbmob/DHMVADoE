{
  "nbformat": 4,
  "nbformat_minor": 0,
  "metadata": {
    "colab": {
      "provenance": [],
      "authorship_tag": "ABX9TyO+pd8q5KQckvzhFKhmfVbd",
      "include_colab_link": true
    },
    "kernelspec": {
      "name": "python3",
      "display_name": "Python 3"
    },
    "language_info": {
      "name": "python"
    }
  },
  "cells": [
    {
      "cell_type": "markdown",
      "metadata": {
        "id": "view-in-github",
        "colab_type": "text"
      },
      "source": [
        "<a href=\"https://colab.research.google.com/github/peterbmob/DHMVADoE/blob/main/PCA_ex.ipynb\" target=\"_parent\"><img src=\"https://colab.research.google.com/assets/colab-badge.svg\" alt=\"Open In Colab\"/></a>"
      ]
    },
    {
      "cell_type": "markdown",
      "source": [
        "# Principal Component Analysis\n",
        "\n",
        "Adapted from The E-Learning project SOGA-Py was developed at the Department of Earth Sciences by Annette Rudolph, Joachim Krois and Kai Hartmann. You can reach us via mail by soga[at]zedat.fu-berlin.de."
      ],
      "metadata": {
        "id": "ngLZGv2HAI5S"
      }
    },
    {
      "cell_type": "code",
      "execution_count": 1,
      "metadata": {
        "id": "15qzLfje_uol"
      },
      "outputs": [],
      "source": [
        "from matplotlib import pyplot as plt\n",
        "import numpy as np\n",
        "import pandas as pd\n",
        "from sklearn.decomposition import PCA\n"
      ]
    },
    {
      "cell_type": "code",
      "source": [
        "food = pd.read_csv(\"https://userpage.fu-berlin.de/soga/data/raw-data/food-texture.csv\")\n",
        "# exclude first column\n",
        "food = food.iloc[:, 1:]\n",
        "food.head()"
      ],
      "metadata": {
        "colab": {
          "base_uri": "https://localhost:8080/",
          "height": 206
        },
        "id": "3SLeAbwhAS70",
        "outputId": "5ce99a75-700b-473b-da66-a9ed01e9a4c4"
      },
      "execution_count": 2,
      "outputs": [
        {
          "output_type": "execute_result",
          "data": {
            "text/plain": [
              "    Oil  Density  Crispy  Fracture  Hardness\n",
              "0  16.5     2955      10        23        97\n",
              "1  17.7     2660      14         9       139\n",
              "2  16.2     2870      12        17       143\n",
              "3  16.7     2920      10        31        95\n",
              "4  16.3     2975      11        26       143"
            ],
            "text/html": [
              "\n",
              "  <div id=\"df-937bdce8-0ca2-4d2d-b66f-dc1a28b492aa\" class=\"colab-df-container\">\n",
              "    <div>\n",
              "<style scoped>\n",
              "    .dataframe tbody tr th:only-of-type {\n",
              "        vertical-align: middle;\n",
              "    }\n",
              "\n",
              "    .dataframe tbody tr th {\n",
              "        vertical-align: top;\n",
              "    }\n",
              "\n",
              "    .dataframe thead th {\n",
              "        text-align: right;\n",
              "    }\n",
              "</style>\n",
              "<table border=\"1\" class=\"dataframe\">\n",
              "  <thead>\n",
              "    <tr style=\"text-align: right;\">\n",
              "      <th></th>\n",
              "      <th>Oil</th>\n",
              "      <th>Density</th>\n",
              "      <th>Crispy</th>\n",
              "      <th>Fracture</th>\n",
              "      <th>Hardness</th>\n",
              "    </tr>\n",
              "  </thead>\n",
              "  <tbody>\n",
              "    <tr>\n",
              "      <th>0</th>\n",
              "      <td>16.5</td>\n",
              "      <td>2955</td>\n",
              "      <td>10</td>\n",
              "      <td>23</td>\n",
              "      <td>97</td>\n",
              "    </tr>\n",
              "    <tr>\n",
              "      <th>1</th>\n",
              "      <td>17.7</td>\n",
              "      <td>2660</td>\n",
              "      <td>14</td>\n",
              "      <td>9</td>\n",
              "      <td>139</td>\n",
              "    </tr>\n",
              "    <tr>\n",
              "      <th>2</th>\n",
              "      <td>16.2</td>\n",
              "      <td>2870</td>\n",
              "      <td>12</td>\n",
              "      <td>17</td>\n",
              "      <td>143</td>\n",
              "    </tr>\n",
              "    <tr>\n",
              "      <th>3</th>\n",
              "      <td>16.7</td>\n",
              "      <td>2920</td>\n",
              "      <td>10</td>\n",
              "      <td>31</td>\n",
              "      <td>95</td>\n",
              "    </tr>\n",
              "    <tr>\n",
              "      <th>4</th>\n",
              "      <td>16.3</td>\n",
              "      <td>2975</td>\n",
              "      <td>11</td>\n",
              "      <td>26</td>\n",
              "      <td>143</td>\n",
              "    </tr>\n",
              "  </tbody>\n",
              "</table>\n",
              "</div>\n",
              "    <div class=\"colab-df-buttons\">\n",
              "\n",
              "  <div class=\"colab-df-container\">\n",
              "    <button class=\"colab-df-convert\" onclick=\"convertToInteractive('df-937bdce8-0ca2-4d2d-b66f-dc1a28b492aa')\"\n",
              "            title=\"Convert this dataframe to an interactive table.\"\n",
              "            style=\"display:none;\">\n",
              "\n",
              "  <svg xmlns=\"http://www.w3.org/2000/svg\" height=\"24px\" viewBox=\"0 -960 960 960\">\n",
              "    <path d=\"M120-120v-720h720v720H120Zm60-500h600v-160H180v160Zm220 220h160v-160H400v160Zm0 220h160v-160H400v160ZM180-400h160v-160H180v160Zm440 0h160v-160H620v160ZM180-180h160v-160H180v160Zm440 0h160v-160H620v160Z\"/>\n",
              "  </svg>\n",
              "    </button>\n",
              "\n",
              "  <style>\n",
              "    .colab-df-container {\n",
              "      display:flex;\n",
              "      gap: 12px;\n",
              "    }\n",
              "\n",
              "    .colab-df-convert {\n",
              "      background-color: #E8F0FE;\n",
              "      border: none;\n",
              "      border-radius: 50%;\n",
              "      cursor: pointer;\n",
              "      display: none;\n",
              "      fill: #1967D2;\n",
              "      height: 32px;\n",
              "      padding: 0 0 0 0;\n",
              "      width: 32px;\n",
              "    }\n",
              "\n",
              "    .colab-df-convert:hover {\n",
              "      background-color: #E2EBFA;\n",
              "      box-shadow: 0px 1px 2px rgba(60, 64, 67, 0.3), 0px 1px 3px 1px rgba(60, 64, 67, 0.15);\n",
              "      fill: #174EA6;\n",
              "    }\n",
              "\n",
              "    .colab-df-buttons div {\n",
              "      margin-bottom: 4px;\n",
              "    }\n",
              "\n",
              "    [theme=dark] .colab-df-convert {\n",
              "      background-color: #3B4455;\n",
              "      fill: #D2E3FC;\n",
              "    }\n",
              "\n",
              "    [theme=dark] .colab-df-convert:hover {\n",
              "      background-color: #434B5C;\n",
              "      box-shadow: 0px 1px 3px 1px rgba(0, 0, 0, 0.15);\n",
              "      filter: drop-shadow(0px 1px 2px rgba(0, 0, 0, 0.3));\n",
              "      fill: #FFFFFF;\n",
              "    }\n",
              "  </style>\n",
              "\n",
              "    <script>\n",
              "      const buttonEl =\n",
              "        document.querySelector('#df-937bdce8-0ca2-4d2d-b66f-dc1a28b492aa button.colab-df-convert');\n",
              "      buttonEl.style.display =\n",
              "        google.colab.kernel.accessAllowed ? 'block' : 'none';\n",
              "\n",
              "      async function convertToInteractive(key) {\n",
              "        const element = document.querySelector('#df-937bdce8-0ca2-4d2d-b66f-dc1a28b492aa');\n",
              "        const dataTable =\n",
              "          await google.colab.kernel.invokeFunction('convertToInteractive',\n",
              "                                                    [key], {});\n",
              "        if (!dataTable) return;\n",
              "\n",
              "        const docLinkHtml = 'Like what you see? Visit the ' +\n",
              "          '<a target=\"_blank\" href=https://colab.research.google.com/notebooks/data_table.ipynb>data table notebook</a>'\n",
              "          + ' to learn more about interactive tables.';\n",
              "        element.innerHTML = '';\n",
              "        dataTable['output_type'] = 'display_data';\n",
              "        await google.colab.output.renderOutput(dataTable, element);\n",
              "        const docLink = document.createElement('div');\n",
              "        docLink.innerHTML = docLinkHtml;\n",
              "        element.appendChild(docLink);\n",
              "      }\n",
              "    </script>\n",
              "  </div>\n",
              "\n",
              "\n",
              "<div id=\"df-10bff54b-868b-45c3-a757-3aa27ce25e8f\">\n",
              "  <button class=\"colab-df-quickchart\" onclick=\"quickchart('df-10bff54b-868b-45c3-a757-3aa27ce25e8f')\"\n",
              "            title=\"Suggest charts.\"\n",
              "            style=\"display:none;\">\n",
              "\n",
              "<svg xmlns=\"http://www.w3.org/2000/svg\" height=\"24px\"viewBox=\"0 0 24 24\"\n",
              "     width=\"24px\">\n",
              "    <g>\n",
              "        <path d=\"M19 3H5c-1.1 0-2 .9-2 2v14c0 1.1.9 2 2 2h14c1.1 0 2-.9 2-2V5c0-1.1-.9-2-2-2zM9 17H7v-7h2v7zm4 0h-2V7h2v10zm4 0h-2v-4h2v4z\"/>\n",
              "    </g>\n",
              "</svg>\n",
              "  </button>\n",
              "\n",
              "<style>\n",
              "  .colab-df-quickchart {\n",
              "      --bg-color: #E8F0FE;\n",
              "      --fill-color: #1967D2;\n",
              "      --hover-bg-color: #E2EBFA;\n",
              "      --hover-fill-color: #174EA6;\n",
              "      --disabled-fill-color: #AAA;\n",
              "      --disabled-bg-color: #DDD;\n",
              "  }\n",
              "\n",
              "  [theme=dark] .colab-df-quickchart {\n",
              "      --bg-color: #3B4455;\n",
              "      --fill-color: #D2E3FC;\n",
              "      --hover-bg-color: #434B5C;\n",
              "      --hover-fill-color: #FFFFFF;\n",
              "      --disabled-bg-color: #3B4455;\n",
              "      --disabled-fill-color: #666;\n",
              "  }\n",
              "\n",
              "  .colab-df-quickchart {\n",
              "    background-color: var(--bg-color);\n",
              "    border: none;\n",
              "    border-radius: 50%;\n",
              "    cursor: pointer;\n",
              "    display: none;\n",
              "    fill: var(--fill-color);\n",
              "    height: 32px;\n",
              "    padding: 0;\n",
              "    width: 32px;\n",
              "  }\n",
              "\n",
              "  .colab-df-quickchart:hover {\n",
              "    background-color: var(--hover-bg-color);\n",
              "    box-shadow: 0 1px 2px rgba(60, 64, 67, 0.3), 0 1px 3px 1px rgba(60, 64, 67, 0.15);\n",
              "    fill: var(--button-hover-fill-color);\n",
              "  }\n",
              "\n",
              "  .colab-df-quickchart-complete:disabled,\n",
              "  .colab-df-quickchart-complete:disabled:hover {\n",
              "    background-color: var(--disabled-bg-color);\n",
              "    fill: var(--disabled-fill-color);\n",
              "    box-shadow: none;\n",
              "  }\n",
              "\n",
              "  .colab-df-spinner {\n",
              "    border: 2px solid var(--fill-color);\n",
              "    border-color: transparent;\n",
              "    border-bottom-color: var(--fill-color);\n",
              "    animation:\n",
              "      spin 1s steps(1) infinite;\n",
              "  }\n",
              "\n",
              "  @keyframes spin {\n",
              "    0% {\n",
              "      border-color: transparent;\n",
              "      border-bottom-color: var(--fill-color);\n",
              "      border-left-color: var(--fill-color);\n",
              "    }\n",
              "    20% {\n",
              "      border-color: transparent;\n",
              "      border-left-color: var(--fill-color);\n",
              "      border-top-color: var(--fill-color);\n",
              "    }\n",
              "    30% {\n",
              "      border-color: transparent;\n",
              "      border-left-color: var(--fill-color);\n",
              "      border-top-color: var(--fill-color);\n",
              "      border-right-color: var(--fill-color);\n",
              "    }\n",
              "    40% {\n",
              "      border-color: transparent;\n",
              "      border-right-color: var(--fill-color);\n",
              "      border-top-color: var(--fill-color);\n",
              "    }\n",
              "    60% {\n",
              "      border-color: transparent;\n",
              "      border-right-color: var(--fill-color);\n",
              "    }\n",
              "    80% {\n",
              "      border-color: transparent;\n",
              "      border-right-color: var(--fill-color);\n",
              "      border-bottom-color: var(--fill-color);\n",
              "    }\n",
              "    90% {\n",
              "      border-color: transparent;\n",
              "      border-bottom-color: var(--fill-color);\n",
              "    }\n",
              "  }\n",
              "</style>\n",
              "\n",
              "  <script>\n",
              "    async function quickchart(key) {\n",
              "      const quickchartButtonEl =\n",
              "        document.querySelector('#' + key + ' button');\n",
              "      quickchartButtonEl.disabled = true;  // To prevent multiple clicks.\n",
              "      quickchartButtonEl.classList.add('colab-df-spinner');\n",
              "      try {\n",
              "        const charts = await google.colab.kernel.invokeFunction(\n",
              "            'suggestCharts', [key], {});\n",
              "      } catch (error) {\n",
              "        console.error('Error during call to suggestCharts:', error);\n",
              "      }\n",
              "      quickchartButtonEl.classList.remove('colab-df-spinner');\n",
              "      quickchartButtonEl.classList.add('colab-df-quickchart-complete');\n",
              "    }\n",
              "    (() => {\n",
              "      let quickchartButtonEl =\n",
              "        document.querySelector('#df-10bff54b-868b-45c3-a757-3aa27ce25e8f button');\n",
              "      quickchartButtonEl.style.display =\n",
              "        google.colab.kernel.accessAllowed ? 'block' : 'none';\n",
              "    })();\n",
              "  </script>\n",
              "</div>\n",
              "    </div>\n",
              "  </div>\n"
            ]
          },
          "metadata": {},
          "execution_count": 2
        }
      ]
    },
    {
      "cell_type": "code",
      "source": [
        "# center and scale the data\n",
        "food_scaled = (food - food.mean()) / food.std()\n",
        "food_scaled.head()\n",
        "\n",
        "# Calculate the PCA\n",
        "food_pca = PCA().fit(food_scaled)"
      ],
      "metadata": {
        "id": "WqPlAaOwAVoZ"
      },
      "execution_count": 3,
      "outputs": []
    },
    {
      "cell_type": "markdown",
      "source": [
        "The object stores the eigenvectors as a matrix in the components_ attribute. The name relates to the term rotation matrix and emphasis that a matrix-multiplication of the data-matrix with the rotation matrix returns the coordinates of the data in the rotated coordinate system, and thus the principal component scores."
      ],
      "metadata": {
        "id": "RYp2XMipB8om"
      }
    },
    {
      "cell_type": "code",
      "source": [
        "print(f\"Rotation matrix:\\n{food_pca.components_}\")"
      ],
      "metadata": {
        "colab": {
          "base_uri": "https://localhost:8080/"
        },
        "id": "i2X6VN4bAaj9",
        "outputId": "7f1025ab-5dc9-450b-c672-87aa3f0a617d"
      },
      "execution_count": 4,
      "outputs": [
        {
          "output_type": "stream",
          "name": "stdout",
          "text": [
            "Rotation matrix:\n",
            "[[-0.45753343  0.4787455  -0.53238767  0.50447688 -0.15340262]\n",
            " [ 0.37043885 -0.35674997 -0.19766103  0.22123992 -0.8046661 ]\n",
            " [-0.6590302  -0.01623973  0.17888443 -0.54227938 -0.48923298]\n",
            " [-0.46794489 -0.71846318  0.13252692  0.45693168  0.19618432]\n",
            " [-0.01204121 -0.35648161 -0.79242064 -0.44011646  0.22614798]]\n"
          ]
        }
      ]
    },
    {
      "cell_type": "markdown",
      "source": [
        "The standard deviation can be obtained from the attribute explained_variance_ attribute."
      ],
      "metadata": {
        "id": "_9iQlLc9CJzT"
      }
    },
    {
      "cell_type": "code",
      "source": [
        "print(f\"Standard deviation of each principal component:\\n{np.sqrt(food_pca.explained_variance_)}\")\n"
      ],
      "metadata": {
        "colab": {
          "base_uri": "https://localhost:8080/"
        },
        "id": "-UitzXlIAfst",
        "outputId": "6c0d68ff-447c-4073-af21-b8e5a3e98ffa"
      },
      "execution_count": 5,
      "outputs": [
        {
          "output_type": "stream",
          "name": "stdout",
          "text": [
            "Standard deviation of each principal component:\n",
            "[1.74103796 1.13829072 0.55682074 0.49185372 0.34801098]\n"
          ]
        }
      ]
    },
    {
      "cell_type": "markdown",
      "source": [
        "This means that the variance explained by each principal component can be obtained from the explained_variance_ attribute."
      ],
      "metadata": {
        "id": "IvCOOY8HCGWM"
      }
    },
    {
      "cell_type": "code",
      "source": [
        "print(f\"Variance explained by each principal component:\\n{food_pca.explained_variance_}\")"
      ],
      "metadata": {
        "colab": {
          "base_uri": "https://localhost:8080/"
        },
        "id": "Jr07G_nmAjRB",
        "outputId": "e776ffc6-9655-4008-edf4-4df94aa36eea"
      },
      "execution_count": 6,
      "outputs": [
        {
          "output_type": "stream",
          "name": "stdout",
          "text": [
            "Variance explained by each principal component:\n",
            "[3.03121317 1.29570576 0.31004934 0.24192008 0.12111165]\n"
          ]
        }
      ]
    },
    {
      "cell_type": "markdown",
      "source": [
        "To compute the proportion of variance explained by each principal component, we simply divide the variance explained by each principal component by the total variance explained by all principal components:"
      ],
      "metadata": {
        "id": "1DoQ186TCgFx"
      }
    },
    {
      "cell_type": "code",
      "source": [
        "print(f\"Proportion of variance explained by each principal component:\\n{food_pca.explained_variance_ratio_}\")"
      ],
      "metadata": {
        "colab": {
          "base_uri": "https://localhost:8080/"
        },
        "id": "ICb0fqvxAp4v",
        "outputId": "c7a32bd3-9034-4363-d13d-7f85b6f759aa"
      },
      "execution_count": 7,
      "outputs": [
        {
          "output_type": "stream",
          "name": "stdout",
          "text": [
            "Proportion of variance explained by each principal component:\n",
            "[0.60624263 0.25914115 0.06200987 0.04838402 0.02422233]\n"
          ]
        }
      ]
    },
    {
      "cell_type": "markdown",
      "source": [
        "We see that the first principal component explains 61% of the variance in the data, the second principal component explains 26% of the variance, and so forth.\n",
        "\n",
        "Finally, we are interested in the principal component scores, which correspond to the projection of the original data on the directions of the principal component. The principal component scores can be extracted as follows. We will print only the first 10 rows here."
      ],
      "metadata": {
        "id": "slpSePgXCpoE"
      }
    },
    {
      "cell_type": "code",
      "source": [
        "scores = food_pca.transform(food_scaled)\n",
        "print(f\"Principal component scores:\\n{scores[:10, :]}\")"
      ],
      "metadata": {
        "colab": {
          "base_uri": "https://localhost:8080/"
        },
        "id": "MOp9OlvlAwq0",
        "outputId": "87b3c564-453f-4d00-866e-5ccc25778384"
      },
      "execution_count": 8,
      "outputs": [
        {
          "output_type": "stream",
          "name": "stdout",
          "text": [
            "Principal component scores:\n",
            "[[ 1.38321116  0.61940609  0.40251151 -0.48680785  0.00594816]\n",
            " [-2.79447694 -0.35372463  1.07602689  0.25580128  0.48877325]\n",
            " [-0.23755641 -0.86145822  0.61154857  0.02952179  0.17632331]\n",
            " [ 1.93934057  1.14173664 -0.43794713  0.31253089 -0.55402198]\n",
            " [ 1.26793706 -0.66346458 -0.43716522  0.07190367 -0.40345029]\n",
            " [-1.99745643 -1.29835426 -1.1015333  -0.0802596   0.35187991]\n",
            " [-1.48818776  0.63265249  0.27302642 -0.03277424 -0.15370096]\n",
            " [ 0.82886358  2.3825485   0.24943519  0.32334864  0.03952609]\n",
            " [ 1.18515331 -0.350181    0.42578589 -0.01315433 -0.24539644]\n",
            " [ 0.99346261 -0.35082583 -0.10334451 -0.02088279 -0.23718893]]\n"
          ]
        }
      ]
    },
    {
      "cell_type": "markdown",
      "source": [
        "# Visualization and interpretation\n",
        "The biplot is a very popular way for visualization of results from PCA, as it combines both, the **principal component scores** and the **loading vectors** in a single biplot display. We can create a biplot graph in Python as follows:"
      ],
      "metadata": {
        "id": "gsCuxDjQC0bz"
      }
    },
    {
      "cell_type": "code",
      "source": [
        "# biplot\n",
        "fig, ax = plt.subplots(figsize=(8, 8))\n",
        "ax.scatter(\n",
        "    scores[:, 0],\n",
        "    scores[:, 1],\n",
        "    color=\"none\",\n",
        "    edgecolor=\"k\",\n",
        "    alpha=0.5,\n",
        ")\n",
        "for i in range(food_pca.components_.shape[1]):\n",
        "    ax.arrow(\n",
        "        0,\n",
        "        0,\n",
        "        food_pca.components_[0, i],\n",
        "        food_pca.components_[1, i],\n",
        "        head_width=0.1,\n",
        "        head_length=0.1,\n",
        "        linewidth=2,\n",
        "        color=\"red\",\n",
        "    )\n",
        "    ax.text(\n",
        "        food_pca.components_[0, i] + 0.1,\n",
        "        food_pca.components_[1, i] + 0.1,\n",
        "        food.columns[i],\n",
        "        color=\"red\",\n",
        "        ha=\"center\",\n",
        "        va=\"center\",\n",
        "    )\n",
        "for i in range(scores.shape[0]):\n",
        "    ax.text(\n",
        "        scores[i, 0] + 0.2,\n",
        "        scores[i, 1],\n",
        "        food.index[i],\n",
        "        color=\"blue\",\n",
        "        ha=\"center\",\n",
        "        va=\"center\",\n",
        "    )\n",
        "ax.set_xlabel(\"PC1\")\n",
        "ax.set_ylabel(\"PC2\")\n",
        "ax.set_title(\"Biplot\")\n",
        "plt.show()"
      ],
      "metadata": {
        "colab": {
          "base_uri": "https://localhost:8080/",
          "height": 718
        },
        "id": "8-7_M069A1ap",
        "outputId": "781b8053-39ec-46f5-f1ad-af55fd8e61e5"
      },
      "execution_count": 10,
      "outputs": [
        {
          "output_type": "display_data",
          "data": {
            "text/plain": [
              "<Figure size 800x800 with 1 Axes>"
            ],
            "image/png": "[encoded data removed]"
          },
          "metadata": {}
        }
      ]
    },
    {
      "cell_type": "markdown",
      "source": [
        "In the biplot the observations are labeled by the observation number (e.g. the row name in data frame). The position in the plot represents the scores for the first two principal components. The original variables are shown as vectors (arrows). They begin at the origin [0,0] and extend to coordinates given by the first two principal component loading vectors. For example, the loading for Oil on the first component is -0.45, and its loading on the second principal component 0.48 (the label \"Oil\" is centered at the point (-0.45, 0.48))."
      ],
      "metadata": {
        "id": "fxKAag3_DIy6"
      }
    },
    {
      "cell_type": "code",
      "source": [],
      "metadata": {
        "id": "d3i1zAHQBKK1"
      },
      "execution_count": null,
      "outputs": []
    }
  ]
}