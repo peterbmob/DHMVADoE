{
  "cells": [
    {
      "cell_type": "markdown",
      "metadata": {
        "id": "view-in-github",
        "colab_type": "text"
      },
      "source": [
        "<a href=\"https://colab.research.google.com/github/peterbmob/DHMVADoE/blob/main/EXTRA/MultiVariateInPython.ipynb\" target=\"_parent\"><img src=\"https://colab.research.google.com/assets/colab-badge.svg\" alt=\"Open In Colab\"/></a>"
      ]
    },
    {
      "cell_type": "markdown",
      "metadata": {
        "id": "4cDWVFkkYyrB"
      },
      "source": [
        "# Multivariate in Python\n",
        "\n",
        "Adapted from [\"A little book of Python for Multivariate Analysis\"](https://python-for-multivariate-analysis.readthedocs.io/a_little_book_of_python_for_multivariate_analysis.html) by YYiannis Gatsoulis."
      ]
    },
    {
      "cell_type": "markdown",
      "metadata": {
        "id": "hAYMSwVDYyrG"
      },
      "source": [
        "## Libraries\n",
        "Python can typically do less out of the box than other languages, and this is due to being a genaral programming language taking a more modular approach, relying on other packages for specialized tasks.\n",
        "\n",
        "The following libraries are used in this example:\n",
        "\n",
        "| Libraries | Capabilities\n",
        "-|-\n",
        "| pandas:    | The Python Data Analysis Library is used for storing the data in dataframes and manipulation.\n",
        "| numpy:     | Python scientific computing library.\n",
        "| matplotlib: | Python plotting library.\n",
        "| seaborn: | Statistical data visualization based on matplotlib.\n",
        "| scikit-learn: | Sklearn is a machine learning library for Python.\n",
        "| scipy.stats: | Provides a number of probability distributions and statistical functions.\n",
        "\n",
        "These should have been installed for you if you have installed the Anaconda Python distribution."
      ]
    },
    {
      "cell_type": "markdown",
      "metadata": {
        "id": "QkzzabptYyrH"
      },
      "source": [
        "### Importing the libraries"
      ]
    },
    {
      "cell_type": "code",
      "execution_count": 1,
      "metadata": {
        "id": "jiobY58pYyrH"
      },
      "outputs": [],
      "source": [
        "#from pydoc import help  # can type in the python console `help(name of function)` to get the documentation\n",
        "import pandas as pd\n",
        "import numpy as np\n",
        "import matplotlib.pyplot as plt\n",
        "import seaborn as sns\n",
        "from sklearn.preprocessing import scale\n",
        "from sklearn.decomposition import PCA\n",
        "from sklearn.discriminant_analysis import LinearDiscriminantAnalysis\n",
        "from scipy import stats\n",
        "from IPython.display import display, HTML\n",
        "\n",
        "# figures inline in notebook\n",
        "%matplotlib inline\n",
        "\n",
        "np.set_printoptions(suppress=True)\n",
        "\n",
        "DISPLAY_MAX_ROWS = 20  # number of max rows to print for a DataFrame\n",
        "pd.set_option('display.max_rows', DISPLAY_MAX_ROWS)"
      ]
    },
    {
      "cell_type": "markdown",
      "metadata": {
        "id": "lyN-CT6tYyrI"
      },
      "source": [
        "### Reading Multivariate Analysis Data"
      ]
    },
    {
      "cell_type": "markdown",
      "metadata": {
        "id": "8niUeWTuYyrJ"
      },
      "source": [
        "The first thing that you will want to do to analyse your multivariate data will be to read it into Python, and to plot the data. For data analysis an I will be using the [Python Data Analysis Library](http://pandas.pydata.org/) (pandas, imported as pd), which provides a number of useful functions for reading and analyzing the data, as well as a DataFrame storage structure, similar to that found in other popular data analytics languages, such as R.\n",
        "\n",
        "For example, the file http://archive.ics.uci.edu/ml/machine-learning-databases/wine/wine.data contains data on concentrations of 13 different chemicals in wines grown in the same region in Italy that are derived from three different cultivars. The data set looks like this:"
      ]
    },
    {
      "cell_type": "code",
      "execution_count": 4,
      "metadata": {
        "id": "g7eL-5hqYyrJ"
      },
      "outputs": [],
      "source": [
        "## fetch the data\n",
        "data=pd.read_csv('http://archive.ics.uci.edu/ml/machine-learning-databases/wine/wine.data', header=None)\n"
      ]
    },
    {
      "cell_type": "markdown",
      "metadata": {
        "id": "4kWmVsXmYyrK"
      },
      "source": [
        "You can look at the data using the techniques we learned in Data Handling tutorial. If you do that, you will see that there is one row per wine sample. The first column contains the cultivar of a wine sample (labelled 1, 2 or 3), and the following thirteen columns contain the concentrations of the 13 different chemicals in that sample. The columns are separated by commas, i.e. it is a comma-separated (csv) file without a header row. Here, we will used pandas to directly read in the data in to a DataFrame."
      ]
    },
    {
      "cell_type": "code",
      "execution_count": null,
      "metadata": {
        "id": "z0HhWVwWYyrK"
      },
      "outputs": [],
      "source": [
        "data.columns = [\"V\"+str(i) for i in range(1, len(data.columns)+1)]  # rename column names to be similar to R naming convention\n",
        "data.V1 = data.V1.astype(str)\n",
        "X = data.loc[:, \"V2\":]  # independent variables data\n",
        "y = data.V1  # dependednt variable data\n",
        "data"
      ]
    },
    {
      "cell_type": "markdown",
      "metadata": {
        "id": "qwPRAv3LYyrL"
      },
      "source": [
        "In this case the data on 178 samples of wine has been read into the variable ```data```."
      ]
    },
    {
      "cell_type": "markdown",
      "metadata": {
        "id": "vhBPGRnjYyrL"
      },
      "source": [
        "## Plotting MultiVariate Data\n",
        "\n",
        "Once you have read a multivariate data set into python, the next step is usually to make a plot of the data."
      ]
    },
    {
      "cell_type": "markdown",
      "metadata": {
        "id": "-SMY68O6YyrL"
      },
      "source": [
        "### A Matrix Scatterplot\n",
        "One common way of plotting multivariate data is to make a matrix scatterplot, showing each pair of variables plotted against each other. We can use the ```scatter_matrix()``` function from the ```pandas.tools.plotting``` package to do this.\n",
        "\n",
        "To use the ```scatter_matrix()``` function, you need to give it as its input the variables that you want included in the plot. Say for example, that we just want to include the variables corresponding to the concentrations of the first five chemicals. These are stored in columns V2-V6 of the variable ```data```. The parameter ```diagonal``` allows us to specify whether to plot a histogram (```\"hist\"```) or a Kernel Density Estimation (```\"kde\"```) for the variable. We can extract just these columns from the variable data by typing:"
      ]
    },
    {
      "cell_type": "code",
      "execution_count": null,
      "metadata": {
        "id": "ZqAz42lsYyrL"
      },
      "outputs": [],
      "source": [
        "data.loc[:, \"V2\":\"V6\"]"
      ]
    },
    {
      "cell_type": "markdown",
      "metadata": {
        "id": "MQ2xow7xYyrP"
      },
      "source": [
        "To make a matrix scatterplot of just these 5 variables using the ```scatter_matrix()``` function we type:"
      ]
    },
    {
      "cell_type": "code",
      "execution_count": null,
      "metadata": {
        "id": "fof2R0vYYyrP"
      },
      "outputs": [],
      "source": [
        "sns.pairplot(data.loc[:, \"V2\":\"V6\"], kind='scatter',diag_kind='hist')"
      ]
    },
    {
      "cell_type": "markdown",
      "metadata": {
        "id": "MyQBKf07YyrP"
      },
      "source": [
        "In this matrix scatterplot, the diagonal cells show histograms of each of the variables, in this case the concentrations of the first five chemicals (variables V2, V3, V4, V5, V6).\n",
        "\n",
        "Each of the off-diagonal cells is a scatterplot of two of the five chemicals, for example, the second cell in the first row is a scatterplot of V2 (y-axis) against V3 (x-axis)."
      ]
    },
    {
      "cell_type": "markdown",
      "metadata": {
        "id": "Azh7LRl9YyrP"
      },
      "source": [
        "### A Scatterplot with the Data Points Labelled by their Group\n",
        "If you see an interesting scatterplot for two variables in the matrix scatterplot, you may want to plot that scatterplot in more detail, with the data points labelled by their group (their cultivar in this case).\n",
        "\n",
        "For example, in the matrix scatterplot above, the cell in the third column of the fourth row down is a scatterplot of V5 (x-axis) against V4 (y-axis). If you look at this scatterplot, it appears that there may be a positive relationship between V5 and V4.\n",
        "\n",
        "We may therefore decide to examine the relationship between ```V5``` and ```V4``` more closely, by plotting a scatterplot of these two variables, with the data points labelled by their group (their cultivar). To plot a scatterplot of two variables, we can use the ```lmplot``` function from the ```seaborn``` package. The ```V4``` and ```V5``` variables are stored in the columns V4 and V5 of the variable ```data```. The first two parameters in the ```lmplot()``` function are the columns to be plotted against each other in x-y, the third parameter specifies the data, the hue parameter is the column name used for the labels of the datapoints, i.e. the classes they belong to, lastly, the ```fit_reg``` parameter is set to ```False``` when we do not want to plot a regression model relating to the x-y variables. Therefore, to plot the scatterplot, we type:"
      ]
    },
    {
      "cell_type": "code",
      "execution_count": null,
      "metadata": {
        "id": "c7x4d1aaYyrQ"
      },
      "outputs": [],
      "source": [
        "sns.lmplot(data=data, x=\"V4\", y=\"V5\", hue=\"V1\", fit_reg=False)\n"
      ]
    },
    {
      "cell_type": "markdown",
      "metadata": {
        "id": "7_MNPJ3lYyrQ"
      },
      "source": [
        "We can see from the scatterplot of V4 versus V5 that the wines from cultivar 2 seem to have lower values of V4 compared to the wines of cultivar 1."
      ]
    },
    {
      "cell_type": "markdown",
      "metadata": {
        "id": "VnwRpuIxYyrQ"
      },
      "source": [
        "### A Profile Plot\n",
        "Another type of plot that is useful is a profile plot, which shows the variation in each of the variables, by plotting the value of each of the variables for each of the samples.\n",
        "\n",
        "This can be achieved using pandas plot facilities, which are built upon matplotlib, by running the following:"
      ]
    },
    {
      "cell_type": "code",
      "execution_count": null,
      "metadata": {
        "id": "TRIKlUi0YyrQ"
      },
      "outputs": [],
      "source": [
        "ax = data[[\"V2\",\"V3\",\"V4\",\"V5\",\"V6\"]].plot()\n",
        "ax.legend(loc='center left', bbox_to_anchor=(1, 0.5));"
      ]
    },
    {
      "cell_type": "markdown",
      "metadata": {
        "id": "9GPapeuKYyrQ"
      },
      "source": [
        "It is clear from the profile plot that the mean and standard deviation for V6 is quite a lot higher than that for the other variables."
      ]
    },
    {
      "cell_type": "markdown",
      "metadata": {
        "id": "S0V9IPPDYyrQ"
      },
      "source": [
        "### Calculating Summary Statistics for Multivariate Data\n",
        "Another thing that you are likely to want to do is to calculate summary statistics such as the mean and standard deviation for each of the variables in your multivariate data set.\n",
        "\n",
        "This is easy to do, using the ```mean()``` and ```std()``` functions in ```numpy``` and applying them to the dataframe using its member function ```apply```.\n",
        "\n",
        "Pandas allows to do simple operations directly calling them as methods, for example we could do compute the means of a dataframe `df` by calling `df.mean()`.\n",
        "An alternative option is to use the ```apply``` method of the ```pandas.DataFrame``` class, which applies the passed argument function along the input axis of the DataFrame. This method is powerful as it allows passing any function we want to be applied in our data.\n",
        "\n",
        "For example, say we want to calculate the mean and standard deviations of each of the 13 chemical concentrations in the wine samples. These are stored in columns V2-V14 of the variable ```data```, which has been previously assigned to ```X``` for convenience. So we type:"
      ]
    },
    {
      "cell_type": "code",
      "execution_count": null,
      "metadata": {
        "id": "yIhTugBuYyrR"
      },
      "outputs": [],
      "source": [
        "X.mean()"
      ]
    },
    {
      "cell_type": "markdown",
      "metadata": {
        "id": "ZjmxU0c9YyrR"
      },
      "source": [
        "This tells us that the mean of variable V2 is 13.000618, the mean of V3 is 2.336348, and so on.\n",
        "\n",
        "Similarly, to get the standard deviations of the 13 chemical concentrations, we type:"
      ]
    },
    {
      "cell_type": "code",
      "execution_count": null,
      "metadata": {
        "id": "voT2SMMlYyrR",
        "outputId": "340fe3b4-0188-43d7-dcc6-a53b028b87e9",
        "colab": {
          "base_uri": "https://localhost:8080/"
        }
      },
      "outputs": [
        {
          "output_type": "execute_result",
          "data": {
            "text/plain": [
              "V2       0.811827\n",
              "V3       1.117146\n",
              "V4       0.274344\n",
              "V5       3.339564\n",
              "V6      14.282484\n",
              "V7       0.625851\n",
              "V8       0.998859\n",
              "V9       0.124453\n",
              "V10      0.572359\n",
              "V11      2.318286\n",
              "V12      0.228572\n",
              "V13      0.709990\n",
              "V14    314.907474\n",
              "dtype: float64"
            ]
          },
          "metadata": {},
          "execution_count": 12
        }
      ],
      "source": [
        "X.std()"
      ]
    },
    {
      "cell_type": "markdown",
      "metadata": {
        "id": "h-t_hSTcYyrR"
      },
      "source": [
        "We can see here that it would make sense to standardise in order to compare the variables because the variables have very different standard deviations - the standard deviation of V14 is 314.021657, while the standard deviation of V9 is just 0.124103. Thus, in order to compare the variables, we need to standardise each variable so that it has a sample variance of 1 and sample mean of 0. We will explain below how to standardise the variables."
      ]
    },
    {
      "cell_type": "markdown",
      "metadata": {
        "id": "h9w89AyDYyrR"
      },
      "source": [
        "### Means and Variances Per Group\n",
        "\n",
        "It is often interesting to calculate the means and standard deviations for just the samples from a particular group, for example, for the wine samples from each cultivar. The cultivar is stored in the column V1 of the variable data, which has been previously assigned to y for convenience.\n",
        "\n",
        "To extract out the data for just cultivar 2, we can type:"
      ]
    },
    {
      "cell_type": "code",
      "execution_count": 12,
      "metadata": {
        "id": "1pCbDM6-YyrR"
      },
      "outputs": [],
      "source": [
        "class2data = data[y==\"2\"]"
      ]
    },
    {
      "cell_type": "markdown",
      "metadata": {
        "id": "4shDOkd1YyrS"
      },
      "source": [
        "We can then calculate the mean and standard deviations of the 13 chemicals’ concentrations, for just the cultivar 2 samples:"
      ]
    },
    {
      "cell_type": "code",
      "execution_count": null,
      "metadata": {
        "id": "FewYa9i-YyrS"
      },
      "outputs": [],
      "source": [
        "class2data.loc[:, \"V2\":].mean()"
      ]
    },
    {
      "cell_type": "code",
      "execution_count": null,
      "metadata": {
        "id": "zGNxiMEPYyrS"
      },
      "outputs": [],
      "source": [
        "class2data.loc[:, \"V2\":].std()"
      ]
    },
    {
      "cell_type": "markdown",
      "metadata": {
        "id": "uJ2b23E-YyrS"
      },
      "source": [
        "You can calculate the mean and standard deviation of the 13 chemicals’ concentrations for just cultivar 1 samples, or for just cultivar 3 samples, in a similar way.\n",
        "\n",
        "However, for convenience, you might want to use the function ```printMeanAndSdByGroup()``` below, which prints out the mean and standard deviation of the variables for each group in your data set:"
      ]
    },
    {
      "cell_type": "code",
      "execution_count": 15,
      "metadata": {
        "id": "yV8tf44sYyrT"
      },
      "outputs": [],
      "source": [
        "def printMeanAndSdByGroup(variables, groupvariable):\n",
        "    data_groupby = variables.groupby(groupvariable)\n",
        "    print(\"## Means:\")\n",
        "    display(data_groupby.mean())\n",
        "    print(\"\\n## Standard deviations:\")\n",
        "    display(data_groupby.std())\n",
        "    print(\"\\n## Sample sizes:\")\n",
        "    display(pd.DataFrame(data_groupby.apply(len)))"
      ]
    },
    {
      "cell_type": "markdown",
      "metadata": {
        "id": "iyW5pcf4YyrT"
      },
      "source": [
        "The arguments of the function are the variables that you want to calculate means and standard deviations for (X), and the variable containing the group of each sample (y). For example, to calculate the mean and standard deviation for each of the 13 chemical concentrations, for each of the three different wine cultivars, we type:"
      ]
    },
    {
      "cell_type": "code",
      "execution_count": null,
      "metadata": {
        "id": "SbPmhnwNYyrT"
      },
      "outputs": [],
      "source": [
        "printMeanAndSdByGroup(X, y)"
      ]
    },
    {
      "cell_type": "markdown",
      "metadata": {
        "id": "j7WwZ-cgYyrT"
      },
      "source": [
        "The function ```printMeanAndSdByGroup()``` also prints out the number of samples in each group. In this case, we see that there are 59 samples of cultivar 1, 71 of cultivar 2, and 48 of cultivar 3."
      ]
    },
    {
      "cell_type": "markdown",
      "metadata": {
        "id": "aXuwgDD3YyrT"
      },
      "source": [
        "### Between-groups Variance and Within-groups Variance for a Variable\n",
        "\n",
        "If we want to calculate the within-groups variance for a particular variable (for example, for a particular chemical’s concentration), we can use the function ``` calcWithinGroupsVariance()``` below:"
      ]
    },
    {
      "cell_type": "code",
      "execution_count": 17,
      "metadata": {
        "id": "pGz0292DYyrT"
      },
      "outputs": [],
      "source": [
        "def calcWithinGroupsVariance(variable, groupvariable):\n",
        "    # find out how many values the group variable can take\n",
        "    levels = sorted(set(groupvariable))\n",
        "    numlevels = len(levels)\n",
        "    # get the mean and standard deviation for each group:\n",
        "    numtotal = 0\n",
        "    denomtotal = 0\n",
        "    for leveli in levels:\n",
        "        levelidata = variable[groupvariable==leveli]\n",
        "        levelilength = len(levelidata)\n",
        "        # get the standard deviation for group i:\n",
        "        sdi = np.std(levelidata)\n",
        "        numi = (levelilength)*sdi**2\n",
        "        denomi = levelilength\n",
        "        numtotal = numtotal + numi\n",
        "        denomtotal = denomtotal + denomi\n",
        "    # calculate the within-groups variance\n",
        "    Vw = numtotal / (denomtotal - numlevels)\n",
        "    return Vw"
      ]
    },
    {
      "cell_type": "markdown",
      "metadata": {
        "id": "0irkBVQmYyrU"
      },
      "source": [
        "The ```variable``` parameter of the function ```calcWithinGroupsVariance()``` is the input variable for which we wish to compute its within-groups variance for the groups given in ```groupvariable```.\n",
        "\n",
        "So for example, to calculate the within-groups variance of the variable V2 (the concentration of the first chemical), we type:"
      ]
    },
    {
      "cell_type": "code",
      "execution_count": null,
      "metadata": {
        "id": "kXoSactJYyrV"
      },
      "outputs": [],
      "source": [
        "calcWithinGroupsVariance(X.V2, y)"
      ]
    },
    {
      "cell_type": "markdown",
      "metadata": {
        "id": "YboYhO-YYyrV"
      },
      "source": [
        "Thus, the within-groups variance for V2 is 0.2620525.\n",
        "\n",
        "We can calculate the between-groups variance for a particular ```variable``` (eg. V2) using the function ```calcBetweenGroupsVariance()``` below:"
      ]
    },
    {
      "cell_type": "code",
      "execution_count": 19,
      "metadata": {
        "id": "HaqViXV6YyrV"
      },
      "outputs": [],
      "source": [
        "def calcBetweenGroupsVariance(variable, groupvariable):\n",
        "    # find out how many values the group variable can take\n",
        "    levels = sorted(set((groupvariable)))\n",
        "    numlevels = len(levels)\n",
        "    # calculate the overall grand mean:\n",
        "    grandmean = np.mean(variable)\n",
        "    # get the mean and standard deviation for each group:\n",
        "    numtotal = 0\n",
        "    denomtotal = 0\n",
        "    for leveli in levels:\n",
        "        levelidata = variable[groupvariable==leveli]\n",
        "        levelilength = len(levelidata)\n",
        "        # get the mean and standard deviation for group i:\n",
        "        meani = np.mean(levelidata)\n",
        "        sdi = np.std(levelidata)\n",
        "        numi = levelilength * ((meani - grandmean)**2)\n",
        "        denomi = levelilength\n",
        "        numtotal = numtotal + numi\n",
        "        denomtotal = denomtotal + denomi\n",
        "    # calculate the between-groups variance\n",
        "    Vb = numtotal / (numlevels - 1)\n",
        "    return(Vb)"
      ]
    },
    {
      "cell_type": "markdown",
      "metadata": {
        "id": "UPMPIWiOYyrV"
      },
      "source": [
        "Similarly to the parameters of the function ```calcWithinGroupsVariance()```, the ```variable``` parameter of the function ```calcBetweenGroupsVariance()``` is the input variable for which we wish to compute its between-groups variance for the groups given in ```groupvariable```.\n",
        "\n",
        "So for example, to calculate the between-groups variance of the variable V2 (the concentration of the first chemical), we type:"
      ]
    },
    {
      "cell_type": "code",
      "execution_count": null,
      "metadata": {
        "id": "tvtHjc0OYyrV"
      },
      "outputs": [],
      "source": [
        "calcBetweenGroupsVariance(X.V2, y)"
      ]
    },
    {
      "cell_type": "markdown",
      "metadata": {
        "id": "DyL8StWsYyrV"
      },
      "source": [
        "Thus, the between-groups variance of V2 is 35.397425.\n",
        "\n",
        "We can calculate the separation achieved by a variable as its between-groups variance devided by its within-groups variance. Thus, the separation achieved by V2 is calculated as:"
      ]
    },
    {
      "cell_type": "code",
      "execution_count": null,
      "metadata": {
        "id": "Vh1mYmzmYyrW"
      },
      "outputs": [],
      "source": [
        "# 35.397424960269106 / 0.2620524691539065\n",
        "calcBetweenGroupsVariance(X.V2, y) / calcWithinGroupsVariance(X.V2, y)"
      ]
    },
    {
      "cell_type": "markdown",
      "metadata": {
        "id": "-I9NdOTbYyrW"
      },
      "source": [
        "If you want to calculate the separations achieved by all of the variables in a multivariate data set, you can use the function ```calcSeparations()``` below:"
      ]
    },
    {
      "cell_type": "code",
      "execution_count": 22,
      "metadata": {
        "id": "jtfLL2hJYyrW"
      },
      "outputs": [],
      "source": [
        "def calcSeparations(variables, groupvariable):\n",
        "    # calculate the separation for each variable\n",
        "    for variablename in variables:\n",
        "        variablei = variables[variablename]\n",
        "        Vw = calcWithinGroupsVariance(variablei, groupvariable)\n",
        "        Vb = calcBetweenGroupsVariance(variablei, groupvariable)\n",
        "        sep = Vb/Vw\n",
        "        print(\"variable\", variablename, \"Vw=\", Vw, \"Vb=\", Vb, \"separation=\", sep)"
      ]
    },
    {
      "cell_type": "markdown",
      "metadata": {
        "id": "glu5GZF7YyrW"
      },
      "source": [
        "For example, to calculate the separations for each of the 13 chemical concentrations, we type:"
      ]
    },
    {
      "cell_type": "code",
      "execution_count": null,
      "metadata": {
        "id": "ujAuxg6zYyrW"
      },
      "outputs": [],
      "source": [
        "calcSeparations(X, y)"
      ]
    },
    {
      "cell_type": "markdown",
      "metadata": {
        "id": "YMq7rSbsYyrW"
      },
      "source": [
        "Thus, the individual variable which gives the greatest separations between the groups (the wine cultivars) is V8 (separation 233.9). As we will discuss below, the purpose of **linear discriminant analysis (LDA)** is to find the linear combination of the individual variables that will give the greatest separation between the groups (cultivars here). This hopefully will give a better separation than the best separation achievable by any individual variable (233.9 for V8 here)."
      ]
    },
    {
      "cell_type": "markdown",
      "metadata": {
        "id": "fKnblcKsYyrX"
      },
      "source": [
        "### Between-groups Covariance and Within-groups Covariance for Two Variables\n",
        "\n",
        "If you have a multivariate data set with several variables describing sampling units from different groups, such as the wine samples from different cultivars, it is often of interest to calculate the within-groups covariance and between-groups variance for pairs of the variables.\n",
        "\n",
        "This can be done using the following functions:"
      ]
    },
    {
      "cell_type": "code",
      "execution_count": 24,
      "metadata": {
        "id": "NihebsKSYyrX"
      },
      "outputs": [],
      "source": [
        "def calcWithinGroupsCovariance(variable1, variable2, groupvariable):\n",
        "    levels = sorted(set(groupvariable))\n",
        "    numlevels = len(levels)\n",
        "    Covw = 0.0\n",
        "    # get the covariance of variable 1 and variable 2 for each group:\n",
        "    for leveli in levels:\n",
        "        levelidata1 = variable1[groupvariable==leveli]\n",
        "        levelidata2 = variable2[groupvariable==leveli]\n",
        "        mean1 = np.mean(levelidata1)\n",
        "        mean2 = np.mean(levelidata2)\n",
        "        levelilength = len(levelidata1)\n",
        "        # get the covariance for this group:\n",
        "        term1 = 0.0\n",
        "        for levelidata1j, levelidata2j in zip(levelidata1, levelidata2):\n",
        "            term1 += (levelidata1j - mean1)*(levelidata2j - mean2)\n",
        "        Cov_groupi = term1 # covariance for this group\n",
        "        Covw += Cov_groupi\n",
        "    totallength = len(variable1)\n",
        "    Covw /= totallength - numlevels\n",
        "    return Covw"
      ]
    },
    {
      "cell_type": "markdown",
      "metadata": {
        "id": "-ZIsD_TYYyrX"
      },
      "source": [
        "For example, to calculate the within-groups covariance for variables V8 and V11, we type:"
      ]
    },
    {
      "cell_type": "code",
      "execution_count": null,
      "metadata": {
        "id": "B132xrVfYyrX"
      },
      "outputs": [],
      "source": [
        "calcWithinGroupsCovariance(X.V8, X.V11, y)"
      ]
    },
    {
      "cell_type": "code",
      "execution_count": 26,
      "metadata": {
        "id": "GVdCu9fXYyrY"
      },
      "outputs": [],
      "source": [
        "def calcBetweenGroupsCovariance(variable1, variable2, groupvariable):\n",
        "    # find out how many values the group variable can take\n",
        "    levels = sorted(set(groupvariable))\n",
        "    numlevels = len(levels)\n",
        "    # calculate the grand means\n",
        "    variable1mean = np.mean(variable1)\n",
        "    variable2mean = np.mean(variable2)\n",
        "    # calculate the between-groups covariance\n",
        "    Covb = 0.0\n",
        "    for leveli in levels:\n",
        "        levelidata1 = variable1[groupvariable==leveli]\n",
        "        levelidata2 = variable2[groupvariable==leveli]\n",
        "        mean1 = np.mean(levelidata1)\n",
        "        mean2 = np.mean(levelidata2)\n",
        "        levelilength = len(levelidata1)\n",
        "        term1 = (mean1 - variable1mean) * (mean2 - variable2mean) * levelilength\n",
        "        Covb += term1\n",
        "    Covb /= numlevels - 1\n",
        "    return Covb"
      ]
    },
    {
      "cell_type": "markdown",
      "metadata": {
        "id": "BwBNa6TGYyrY"
      },
      "source": [
        "For example, to calculate the between-groups covariance for variables V8 and V11, we type:"
      ]
    },
    {
      "cell_type": "code",
      "execution_count": null,
      "metadata": {
        "id": "Om46ENOsYyrY"
      },
      "outputs": [],
      "source": [
        "calcBetweenGroupsCovariance(X.V8, X.V11, y)"
      ]
    },
    {
      "cell_type": "markdown",
      "metadata": {
        "id": "8lanTNWyYyrY"
      },
      "source": [
        "Thus, for V8 and V11, the between-groups covariance is -60.41 and the within-groups covariance is 0.29. Since the within-groups covariance is positive (0.29), it means V8 and V11 are positively related within groups: for individuals from the same group, individuals with a high value of V8 tend to have a high value of V11, and vice versa. Since the between-groups covariance is negative (-60.41), V8 and V11 are negatively related between groups: groups with a high mean value of V8 tend to have a low mean value of V11, and vice versa."
      ]
    },
    {
      "cell_type": "markdown",
      "metadata": {
        "id": "Q8B4loHfYyrY"
      },
      "source": [
        "### Calculating Correlations for Multivariate Data\n",
        "\n",
        "It is often of interest to investigate whether any of the variables in a multivariate data set are significantly correlated.\n",
        "\n",
        "To calculate the linear (Pearson) correlation coefficient for a pair of variables, you can use the ```pearsonr()``` function from ```scipy.stats``` package. For example, to calculate the correlation coefficient for the first two chemicals’ concentrations, V2 and V3, we type:"
      ]
    },
    {
      "cell_type": "code",
      "execution_count": null,
      "metadata": {
        "id": "BjbsxKg8YyrY"
      },
      "outputs": [],
      "source": [
        "corr = stats.pearsonr(X.V2, X.V3)\n",
        "print(\"p-value:\\t\", corr[1])\n",
        "print(\"cor:\\t\\t\", corr[0])"
      ]
    },
    {
      "cell_type": "markdown",
      "metadata": {
        "id": "eqcrHzcBYyrZ"
      },
      "source": [
        "This tells us that the correlation coefficient is about 0.094, which is a very weak correlation. Furthermore, the p-value for the statistical test of whether the correlation coefficient is significantly different from zero is 0.21. This is much greater than 0.05 (which we can use here as a cutoff for statistical significance), so there is very weak evidence that that the correlation is non-zero.\n",
        "\n",
        "If you have a lot of variables, you can use the pandas.DataFrame method corr() to calculate a correlation matrix that shows the correlation coefficient for each pair of variables."
      ]
    },
    {
      "cell_type": "code",
      "execution_count": null,
      "metadata": {
        "id": "qHRQs96WYyrZ"
      },
      "outputs": [],
      "source": [
        "corrmat = X.corr()\n",
        "corrmat"
      ]
    },
    {
      "cell_type": "markdown",
      "metadata": {
        "id": "xGwwgaUBYyrZ"
      },
      "source": [
        "A better graphical representation of the correlation matrix is via a correlation matrix plot in the form of a heatmap. This data can be plotted directly using ```seaborn```."
      ]
    },
    {
      "cell_type": "code",
      "execution_count": null,
      "metadata": {
        "id": "thmTgVsNYyrZ"
      },
      "outputs": [],
      "source": [
        "sns.heatmap(X.corr(),annot=False,cmap='jet')"
      ]
    },
    {
      "cell_type": "markdown",
      "metadata": {
        "id": "wq1W3J5lYyrZ"
      },
      "source": [
        "Or an alternative nice visualization is via a Hinton diagram. The color of the boxes determines the sign of the correlation, in this case red for positive and blue for negative correlations; while the size of the boxes determines their magnitude, the bigger the box the higher the magnitude."
      ]
    },
    {
      "cell_type": "code",
      "execution_count": 31,
      "metadata": {
        "id": "cM0hOSGYYyrZ",
        "outputId": "65cf81a4-e15b-4178-c098-94affefed1ba",
        "colab": {
          "base_uri": "https://localhost:8080/",
          "height": 443
        }
      },
      "outputs": [
        {
          "output_type": "display_data",
          "data": {
            "text/plain": [
              "<Figure size 640x480 with 1 Axes>"
            ],
            "image/png": "[encoded data removed]"
          },
          "metadata": {}
        }
      ],
      "source": [
        "# adapted from http://matplotlib.org/examples/specialty_plots/hinton_demo.html\n",
        "def hinton(matrix, max_weight=None, ax=None):\n",
        "    \"\"\"Draw Hinton diagram for visualizing a weight matrix.\"\"\"\n",
        "    ax = ax if ax is not None else plt.gca()\n",
        "\n",
        "    if not max_weight:\n",
        "        max_weight = 2**np.ceil(np.log(np.abs(matrix).max())/np.log(2))\n",
        "\n",
        "    ax.patch.set_facecolor('lightgray')\n",
        "    ax.set_aspect('equal', 'box')\n",
        "    ax.xaxis.set_major_locator(plt.NullLocator())\n",
        "    ax.yaxis.set_major_locator(plt.NullLocator())\n",
        "\n",
        "    for (x, y), w in np.ndenumerate(matrix):\n",
        "        color = 'red' if w > 0 else 'blue'\n",
        "        size = np.sqrt(np.abs(w))\n",
        "        rect = plt.Rectangle([x - size / 2, y - size / 2], size, size,\n",
        "                             facecolor=color, edgecolor=color)\n",
        "        ax.add_patch(rect)\n",
        "\n",
        "    nticks = matrix.shape[0]\n",
        "    ax.xaxis.tick_top()\n",
        "    ax.set_xticks(range(nticks))\n",
        "    ax.set_xticklabels(list(matrix.columns), rotation=90)\n",
        "    ax.set_yticks(range(nticks))\n",
        "    ax.set_yticklabels(matrix.columns)\n",
        "    ax.grid(False)\n",
        "\n",
        "    ax.autoscale_view()\n",
        "    ax.invert_yaxis()\n",
        "\n",
        "hinton(corrmat)"
      ]
    },
    {
      "cell_type": "markdown",
      "metadata": {
        "id": "rcXFGptKYyra"
      },
      "source": [
        "Although the correlation matrix and diagrams are useful for quickly looking to identify the strongest correlations, they still require labor work to find the top N strongest correlations. For this you can use the function ```mosthighlycorrelated()``` below.\n",
        "\n",
        "The function ```mosthighlycorrelated()``` will print out the linear correlation coefficients for each pair of variables in your data set, in order of the correlation coefficient. This lets you see very easily which pair of variables are most highly correlated."
      ]
    },
    {
      "cell_type": "code",
      "execution_count": 32,
      "metadata": {
        "id": "uXGSY9sSYyra"
      },
      "outputs": [],
      "source": [
        "def mosthighlycorrelated(mydataframe, numtoreport):\n",
        "    # find the correlations\n",
        "    cormatrix = mydataframe.corr()\n",
        "    # set the correlations on the diagonal or lower triangle to zero,\n",
        "    # so they will not be reported as the highest ones:\n",
        "    cormatrix *= np.tri(*cormatrix.values.shape, k=-1).T\n",
        "    # find the top n correlations\n",
        "    cormatrix = cormatrix.stack()\n",
        "    cormatrix = cormatrix.reindex(cormatrix.abs().sort_values(ascending=False).index).reset_index()\n",
        "    # assign human-friendly names\n",
        "    cormatrix.columns = [\"FirstVariable\", \"SecondVariable\", \"Correlation\"]\n",
        "    return cormatrix.head(numtoreport)"
      ]
    },
    {
      "cell_type": "markdown",
      "metadata": {
        "id": "pEjQ3sBqYyra"
      },
      "source": [
        "The arguments of the function are the variables that you want to calculate the correlations for, and the number of top correlation coefficients to print out (for example, you can tell it to print out the largest 10 correlation coefficients, or the largest 20).\n",
        "\n",
        "For example, to calculate correlation coefficients between the concentrations of the 13 chemicals in the wine samples, and to print out the top 10 pairwise correlation coefficients, you can type:"
      ]
    },
    {
      "cell_type": "code",
      "execution_count": null,
      "metadata": {
        "id": "ow8LY4aEYyra"
      },
      "outputs": [],
      "source": [
        "mosthighlycorrelated(X, 10)"
      ]
    },
    {
      "cell_type": "markdown",
      "metadata": {
        "id": "yfBC6E7pYyra"
      },
      "source": [
        "This tells us that the pair of variables with the highest linear correlation coefficient are V7 and V8 (correlation = 0.86 approximately)."
      ]
    },
    {
      "cell_type": "markdown",
      "metadata": {
        "id": "jl-7Z1ulYyra"
      },
      "source": [
        "### Standardising Variables\n",
        "If you want to compare different variables that have different units, are very different variances, it is a good idea to first standardise the variables.\n",
        "\n",
        "For example, we found above that the concentrations of the 13 chemicals in the wine samples show a wide range of standard deviations, from 0.124103 for V9 (variance 0.015402) to 314.021657 for V14 (variance 98609.60). This is a range of approximately 6,402,389-fold in the variances.\n",
        "\n",
        "As a result, it is not a good idea to use the unstandardised chemical concentrations as the input for a principal component analysis (PCA, see below) of the wine samples, as if you did that, the first principal component would be dominated by the variables which show the largest variances, such as V14.\n",
        "\n",
        "Thus, it would be a better idea to first standardise the variables so that they all have variance 1 and mean 0, and to then carry out the principal component analysis on the standardised data. This would allow us to find the principal components that provide the best low-dimensional representation of the variation in the original data, without being overly biased by those variables that show the most variance in the original data.\n",
        "\n",
        "You can standardise variables by using the ```scale()``` function from the package ```sklearn.preprocessing```.\n",
        "\n",
        "For example, to standardise the concentrations of the 13 chemicals in the wine samples, we type:"
      ]
    },
    {
      "cell_type": "code",
      "execution_count": 34,
      "metadata": {
        "id": "a6HWfvLpYyrb"
      },
      "outputs": [],
      "source": [
        "standardisedX = scale(X)\n",
        "standardisedX = pd.DataFrame(standardisedX, index=X.index, columns=X.columns)"
      ]
    },
    {
      "cell_type": "code",
      "execution_count": null,
      "metadata": {
        "id": "8VtSgoCOYyrb"
      },
      "outputs": [],
      "source": [
        "standardisedX.apply(np.mean)"
      ]
    },
    {
      "cell_type": "code",
      "execution_count": 36,
      "metadata": {
        "id": "MO0Lp3o1Yyrb",
        "outputId": "9c347720-b1c8-4d92-91ff-5d7a36766d9b",
        "colab": {
          "base_uri": "https://localhost:8080/",
          "height": 491
        }
      },
      "outputs": [
        {
          "output_type": "execute_result",
          "data": {
            "text/plain": [
              "V2     1.0\n",
              "V3     1.0\n",
              "V4     1.0\n",
              "V5     1.0\n",
              "V6     1.0\n",
              "V7     1.0\n",
              "V8     1.0\n",
              "V9     1.0\n",
              "V10    1.0\n",
              "V11    1.0\n",
              "V12    1.0\n",
              "V13    1.0\n",
              "V14    1.0\n",
              "dtype: float64"
            ],
            "text/html": [
              "<div>\n",
              "<style scoped>\n",
              "    .dataframe tbody tr th:only-of-type {\n",
              "        vertical-align: middle;\n",
              "    }\n",
              "\n",
              "    .dataframe tbody tr th {\n",
              "        vertical-align: top;\n",
              "    }\n",
              "\n",
              "    .dataframe thead th {\n",
              "        text-align: right;\n",
              "    }\n",
              "</style>\n",
              "<table border=\"1\" class=\"dataframe\">\n",
              "  <thead>\n",
              "    <tr style=\"text-align: right;\">\n",
              "      <th></th>\n",
              "      <th>0</th>\n",
              "    </tr>\n",
              "  </thead>\n",
              "  <tbody>\n",
              "    <tr>\n",
              "      <th>V2</th>\n",
              "      <td>1.0</td>\n",
              "    </tr>\n",
              "    <tr>\n",
              "      <th>V3</th>\n",
              "      <td>1.0</td>\n",
              "    </tr>\n",
              "    <tr>\n",
              "      <th>V4</th>\n",
              "      <td>1.0</td>\n",
              "    </tr>\n",
              "    <tr>\n",
              "      <th>V5</th>\n",
              "      <td>1.0</td>\n",
              "    </tr>\n",
              "    <tr>\n",
              "      <th>V6</th>\n",
              "      <td>1.0</td>\n",
              "    </tr>\n",
              "    <tr>\n",
              "      <th>V7</th>\n",
              "      <td>1.0</td>\n",
              "    </tr>\n",
              "    <tr>\n",
              "      <th>V8</th>\n",
              "      <td>1.0</td>\n",
              "    </tr>\n",
              "    <tr>\n",
              "      <th>V9</th>\n",
              "      <td>1.0</td>\n",
              "    </tr>\n",
              "    <tr>\n",
              "      <th>V10</th>\n",
              "      <td>1.0</td>\n",
              "    </tr>\n",
              "    <tr>\n",
              "      <th>V11</th>\n",
              "      <td>1.0</td>\n",
              "    </tr>\n",
              "    <tr>\n",
              "      <th>V12</th>\n",
              "      <td>1.0</td>\n",
              "    </tr>\n",
              "    <tr>\n",
              "      <th>V13</th>\n",
              "      <td>1.0</td>\n",
              "    </tr>\n",
              "    <tr>\n",
              "      <th>V14</th>\n",
              "      <td>1.0</td>\n",
              "    </tr>\n",
              "  </tbody>\n",
              "</table>\n",
              "</div><br><label><b>dtype:</b> float64</label>"
            ]
          },
          "metadata": {},
          "execution_count": 36
        }
      ],
      "source": [
        "standardisedX.apply(np.std)"
      ]
    },
    {
      "cell_type": "markdown",
      "metadata": {
        "id": "-rNsrSj-Yyrb"
      },
      "source": [
        "### Principal Component Analysis\n",
        "The purpose of principal component analysis is to find the best low-dimensional representation of the variation in a multivariate data set. For example, in the case of the wine data set, we have 13 chemical concentrations describing wine samples from three different cultivars. We can carry out a principal component analysis to investigate whether we can capture most of the variation between samples using a smaller number of new variables (principal components), where each of these new variables is a linear combination of all or some of the 13 chemical concentrations.\n",
        "\n",
        "To carry out a principal component analysis (PCA) on a multivariate data set, the first step is often to standardise the variables under study using the ```scale()``` function (see above). This is necessary if the input variables have very different variances, which is true in this case as the concentrations of the 13 chemicals have very different variances (see above).\n",
        "\n",
        "Once you have standardised your variables, you can carry out a principal component analysis using the ```PCA``` class from ```sklearn.decomposition``` package and its ```fit``` method, which fits the model with the data ```X```. The default ```solver``` is Singular Value Decomposition (“svd”). For more information you can type ```help(PCA)``` in the python console.\n",
        "\n",
        "For example, to standardise the concentrations of the 13 chemicals in the wine samples, and carry out a principal components analysis on the standardised concentrations, we type:"
      ]
    },
    {
      "cell_type": "code",
      "execution_count": 37,
      "metadata": {
        "id": "a6u2f8AYYyrb"
      },
      "outputs": [],
      "source": [
        "pca = PCA().fit(standardisedX)"
      ]
    },
    {
      "cell_type": "markdown",
      "metadata": {
        "id": "KDcbQo5XYyrc"
      },
      "source": [
        "You can get a summary of the principal component analysis results using the ```pca_summary()``` function below, which simulates the output of R’s summary function on a PCA model:"
      ]
    },
    {
      "cell_type": "code",
      "execution_count": 38,
      "metadata": {
        "id": "WPdg7V0QYyrc"
      },
      "outputs": [],
      "source": [
        "def pca_summary(pca, standardised_data, out=True):\n",
        "    names = [\"PC\"+str(i) for i in range(1, len(pca.explained_variance_ratio_)+1)]\n",
        "    a = list(np.std(pca.transform(standardised_data), axis=0))\n",
        "    b = list(pca.explained_variance_ratio_)\n",
        "    c = [np.sum(pca.explained_variance_ratio_[:i]) for i in range(1, len(pca.explained_variance_ratio_)+1)]\n",
        "    columns = pd.MultiIndex.from_tuples([(\"sdev\", \"Standard deviation\"), (\"varprop\", \"Proportion of Variance\"), (\"cumprop\", \"Cumulative Proportion\")])\n",
        "    summary = pd.DataFrame(zip(a, b, c), index=names, columns=columns)\n",
        "    if out:\n",
        "        print(\"Importance of components:\")\n",
        "        display(summary)\n",
        "    return summary"
      ]
    },
    {
      "cell_type": "markdown",
      "metadata": {
        "id": "7EWh_7lwYyrc"
      },
      "source": [
        "The parameters of the ```print_pca_summary``` function are:\n",
        "\n",
        "- ```pca```: A PCA object\n",
        "- ```standardised_data```: The standardised data\n",
        "- ```out (True)```: Print to standard output"
      ]
    },
    {
      "cell_type": "code",
      "execution_count": null,
      "metadata": {
        "id": "n7huafTjYyrd"
      },
      "outputs": [],
      "source": [
        "summary = pca_summary(pca, standardisedX)"
      ]
    },
    {
      "cell_type": "markdown",
      "metadata": {
        "id": "ikmdJ52bYyrd"
      },
      "source": [
        "This gives us the standard deviation of each component, and the proportion of variance explained by each component. The standard deviation of the components is stored in a named row called ```sdev``` of the output variable made by the ```pca_summary``` function and stored in the summary variable:"
      ]
    },
    {
      "cell_type": "code",
      "execution_count": null,
      "metadata": {
        "id": "-M_w6UwbYyrd"
      },
      "outputs": [],
      "source": [
        "summary.sdev"
      ]
    },
    {
      "cell_type": "markdown",
      "metadata": {
        "id": "1NJWnkXlYyrd"
      },
      "source": [
        "The total variance explained by the components is the sum of the variances of the components:"
      ]
    },
    {
      "cell_type": "code",
      "execution_count": 41,
      "metadata": {
        "id": "62OzGC6eYyrd",
        "outputId": "8a811d1f-faba-485b-bb88-9b041f48f153",
        "colab": {
          "base_uri": "https://localhost:8080/",
          "height": 170
        }
      },
      "outputs": [
        {
          "output_type": "stream",
          "name": "stderr",
          "text": [
            "/usr/local/lib/python3.10/dist-packages/numpy/core/fromnumeric.py:86: FutureWarning: The behavior of DataFrame.sum with axis=None is deprecated, in a future version this will reduce over both axes and return a scalar. To retain the old behavior, pass axis=0 (or do not pass axis)\n",
            "  return reduction(axis=axis, out=out, **passkwargs)\n"
          ]
        },
        {
          "output_type": "execute_result",
          "data": {
            "text/plain": [
              "Standard deviation    13.0\n",
              "dtype: float64"
            ],
            "text/html": [
              "<div>\n",
              "<style scoped>\n",
              "    .dataframe tbody tr th:only-of-type {\n",
              "        vertical-align: middle;\n",
              "    }\n",
              "\n",
              "    .dataframe tbody tr th {\n",
              "        vertical-align: top;\n",
              "    }\n",
              "\n",
              "    .dataframe thead th {\n",
              "        text-align: right;\n",
              "    }\n",
              "</style>\n",
              "<table border=\"1\" class=\"dataframe\">\n",
              "  <thead>\n",
              "    <tr style=\"text-align: right;\">\n",
              "      <th></th>\n",
              "      <th>0</th>\n",
              "    </tr>\n",
              "  </thead>\n",
              "  <tbody>\n",
              "    <tr>\n",
              "      <th>Standard deviation</th>\n",
              "      <td>13.0</td>\n",
              "    </tr>\n",
              "  </tbody>\n",
              "</table>\n",
              "</div><br><label><b>dtype:</b> float64</label>"
            ]
          },
          "metadata": {},
          "execution_count": 41
        }
      ],
      "source": [
        "np.sum(summary.sdev**2)"
      ]
    },
    {
      "cell_type": "markdown",
      "metadata": {
        "id": "hhLubSazYyrd"
      },
      "source": [
        "In this case, we see that the total variance is 13, which is equal to the number of standardised variables (13 variables). This is because for standardised data, the variance of each standardised variable is 1. The total variance is equal to the sum of the variances of the individual variables, and since the variance of each standardised variable is 1, the total variance should be equal to the number of variables (13 here)."
      ]
    },
    {
      "cell_type": "markdown",
      "metadata": {
        "id": "-oKQe1tbYyre"
      },
      "source": [
        "### Deciding How Many Principal Components to Retain\n",
        "In order to decide how many principal components should be retained, it is common to summarise the results of a principal components analysis by making a scree plot, which we can do using the ```screeplot()``` function below:\n",
        "\n"
      ]
    },
    {
      "cell_type": "code",
      "execution_count": null,
      "metadata": {
        "id": "FdPh4HXcYyre"
      },
      "outputs": [],
      "source": [
        "def screeplot(pca, standardised_values):\n",
        "    y = np.std(pca.transform(standardised_values), axis=0)**2\n",
        "    x = np.arange(len(y)) + 1\n",
        "    plt.plot(x, y, \"o-\")\n",
        "    plt.xticks(x, [\"Comp.\"+str(i) for i in x], rotation=60)\n",
        "    plt.ylabel(\"Variance\")\n",
        "    plt.show()\n",
        "\n",
        "screeplot(pca, standardisedX)"
      ]
    },
    {
      "cell_type": "markdown",
      "metadata": {
        "id": "tW88qp2XYyre"
      },
      "source": [
        "The most obvious change in slope in the scree plot occurs at component 4, which is the “elbow” of the scree plot. Therefore, it can be argued based on the basis of the scree plot that the first three components should be retained.\n",
        "\n",
        "Another way of deciding how many components to retain is to use Kaiser’s criterion: that we should only retain principal components for which the variance is above 1 (when principal component analysis was applied to standardised data). We can check this by finding the variance of each of the principal components:"
      ]
    },
    {
      "cell_type": "code",
      "execution_count": null,
      "metadata": {
        "id": "s0OVfeHdYyre"
      },
      "outputs": [],
      "source": [
        "summary.sdev**2"
      ]
    },
    {
      "cell_type": "markdown",
      "metadata": {
        "id": "FR9ygstUYyre"
      },
      "source": [
        "We see that the variance is above 1 for principal components 1, 2, and 3 (which have variances 4.71, 2.50, and 1.45, respectively). Therefore, using Kaiser’s criterion, we would retain the first three principal components.\n",
        "\n",
        "A third way to decide how many principal components to retain is to decide to keep the number of components required to explain at least some minimum amount of the total variance. For example, if it is important to explain at least 80% of the variance, we would retain the first five principal components, as we can see from cumulative proportions (```summary.cumprop```) that the first five principal components explain 80.2% of the variance (while the first four components explain just 73.6%, so are not sufficient)."
      ]
    },
    {
      "cell_type": "markdown",
      "metadata": {
        "id": "Erm1WM1KYyre"
      },
      "source": [
        "### Loadings for the Principal Components\n",
        "The loadings for the principal components are stored in a named element components_ of the variable returned by PCA().fit(). This contains a matrix with the loadings of each principal component, where the first column in the matrix contains the loadings for the first principal component, the second column contains the loadings for the second principal component, and so on.\n",
        "\n",
        "Therefore, to obtain the loadings for the first principal component in our analysis of the 13 chemical concentrations in wine samples, we type:"
      ]
    },
    {
      "cell_type": "code",
      "execution_count": null,
      "metadata": {
        "id": "9ZQdlLdnYyrf"
      },
      "outputs": [],
      "source": [
        "pca.components_[0]"
      ]
    },
    {
      "cell_type": "markdown",
      "metadata": {
        "id": "L_0mAOYHYyrf"
      },
      "source": [
        "This means that the first principal component is a linear combination of the variables:\n",
        "\n",
        "```-0.144*Z2 + 0.245*Z3 + 0.002*Z4 + 0.239*Z5 - 0.142*Z6 - 0.395*Z7 - 0.423*Z8 + 0.299*Z9 -0.313*Z10 + 0.089*Z11 - 0.297*Z12 - 0.376*Z13 - 0.287*Z14```\n",
        "\n",
        "where Z2, Z3, Z4, ..., Z14 are the standardised versions of the variables V2, V3, V4, ..., V14 (that each have mean of 0 and variance of 1).\n",
        "\n",
        "Note that the square of the loadings sum to 1, as this is a constraint used in calculating the loadings:"
      ]
    },
    {
      "cell_type": "code",
      "execution_count": null,
      "metadata": {
        "id": "QRmdj0z3Yyrf"
      },
      "outputs": [],
      "source": [
        "np.sum(pca.components_[0]**2)"
      ]
    },
    {
      "cell_type": "markdown",
      "metadata": {
        "id": "ysoEdS8sYyrf"
      },
      "source": [
        "To calculate the values of the first principal component, we can define our own function to calculate a principal component given the loadings and the input variables’ values:"
      ]
    },
    {
      "cell_type": "code",
      "execution_count": 46,
      "metadata": {
        "id": "95sVFsvyYyrf"
      },
      "outputs": [],
      "source": [
        "def calcpc(variables, loadings):\n",
        "    # find the number of samples in the data set and the number of variables\n",
        "    numsamples, numvariables = variables.shape\n",
        "    # make a vector to store the component\n",
        "    pc = np.zeros(numsamples)\n",
        "    # calculate the value of the component for each sample\n",
        "    for i in range(numsamples):\n",
        "        valuei = 0\n",
        "        for j in range(numvariables):\n",
        "            valueij = variables.iloc[i, j]\n",
        "            loadingj = loadings[j]\n",
        "            valuei = valuei + (valueij * loadingj)\n",
        "        pc[i] = valuei\n",
        "    return pc"
      ]
    },
    {
      "cell_type": "markdown",
      "metadata": {
        "id": "v4RcoTPrYyrf"
      },
      "source": [
        "We can then use the function to calculate the values of the first principal component for each sample in our wine data:"
      ]
    },
    {
      "cell_type": "code",
      "execution_count": null,
      "metadata": {
        "id": "HW1kUIlyYyrf"
      },
      "outputs": [],
      "source": [
        "calcpc(standardisedX, pca.components_[0])"
      ]
    },
    {
      "cell_type": "markdown",
      "metadata": {
        "id": "3Bo-PQ9QYyrg"
      },
      "source": [
        "In fact, the values of the first principal component are computed with the following, so we can compare those values to the ones that we calculated, and they should agree:"
      ]
    },
    {
      "cell_type": "code",
      "execution_count": null,
      "metadata": {
        "id": "-W9t9VlyYyrg"
      },
      "outputs": [],
      "source": [
        "pca.transform(standardisedX)[:, 0]\n"
      ]
    },
    {
      "cell_type": "markdown",
      "metadata": {
        "id": "NKNqnZjmYyrg"
      },
      "source": [
        "We see that they do agree.\n",
        "\n",
        "The first principal component has highest (in absolute value) loadings for V8 (-0.423), V7 (-0.395), V13 (-0.376), V10 (-0.313), V12 (-0.297), V14 (-0.287), V9 (0.299), V3 (0.245), and V5 (0.239). The loadings for V8, V7, V13, V10, V12 and V14 are negative, while those for V9, V3, and V5 are positive. Therefore, an interpretation of the first principal component is that it represents a contrast between the concentrations of V8, V7, V13, V10, V12, and V14, and the concentrations of V9, V3 and V5.\n",
        "\n",
        "Similarly, we can obtain the loadings for the second principal component by typing:"
      ]
    },
    {
      "cell_type": "code",
      "execution_count": null,
      "metadata": {
        "id": "smc4jASZYyrg"
      },
      "outputs": [],
      "source": [
        "pca.components_[1]"
      ]
    },
    {
      "cell_type": "markdown",
      "metadata": {
        "id": "kNYG2SpXYyrg"
      },
      "source": [
        "This means that the second principal component is a linear combination of the variables:\n",
        "``` 0.484*Z2 + 0.225*Z3 + 0.316*Z4 - 0.011*Z5 + 0.300*Z6 + 0.065*Z7 - 0.003*Z8 + 0.029*Z9 + 0.039*Z10 + 0.530*Z11 - 0.279*Z12 - 0.164*Z13 + 0.365*Z14```\n",
        "\n",
        "where Z1, Z2, Z3, ..., Z14 are the standardised versions of variables V2, V3, ..., V14 that each have mean 0 and variance 1.\n",
        "\n",
        "Note that the square of the loadings sum to 1, as above:\n"
      ]
    },
    {
      "cell_type": "code",
      "execution_count": null,
      "metadata": {
        "id": "IcmOB2skYyrg"
      },
      "outputs": [],
      "source": [
        "np.sum(pca.components_[1]**2)"
      ]
    },
    {
      "cell_type": "markdown",
      "metadata": {
        "id": "PC1c8p8sYyrg"
      },
      "source": [
        "The second principal component has highest loadings for V11 (0.530), V2 (0.484), V14 (0.365), V4 (0.316), V6 (0.300), V12 (-0.279), and V3 (0.225). The loadings for V11, V2, V14, V4, V6 and V3 are positive, while the loading for V12 is negative. Therefore, an interpretation of the second principal component is that it represents a contrast between the concentrations of V11, V2, V14, V4, V6 and V3, and the concentration of V12. Note that the loadings for V11 (0.530) and V2 (0.484) are the largest, so the contrast is mainly between the concentrations of V11 and V2, and the concentration of V12."
      ]
    },
    {
      "cell_type": "markdown",
      "metadata": {
        "id": "BP-q0x3nYyrh"
      },
      "source": [
        "### Scatterplots of the Principal Components\n",
        "The values of the principal components can be computed by the ```transform()``` (or ```fit_transform()```) method of the ```PCA``` class. It returns a matrix with the principal components, where the first column in the matrix contains the first principal component, the second column the second component, and so on.\n",
        "\n",
        "Thus, in our example,```pca.transform(standardisedX)[:, 0]``` contains the first principal component, and ```pca.transform(standardisedX)[:, 1]``` contains the second principal component.\n",
        "\n",
        "We can make a scatterplot of the first two principal components, and label the data points with the cultivar that the wine samples come from, by typing:"
      ]
    },
    {
      "cell_type": "code",
      "execution_count": null,
      "metadata": {
        "id": "PrpKaky0Yyrh"
      },
      "outputs": [],
      "source": [
        "def pca_scatter(pca, standardised_values, classifs):\n",
        "    foo = pca.transform(standardised_values)\n",
        "    bar = pd.DataFrame(zip(foo[:, 0], foo[:, 1], classifs), columns=[\"PC1\", \"PC2\", \"Class\"])\n",
        "    sns.lmplot(data=bar, x=\"PC1\", y=\"PC2\", hue=\"Class\", fit_reg=False)\n",
        "\n",
        "pca_scatter(pca, standardisedX, y)"
      ]
    },
    {
      "cell_type": "markdown",
      "metadata": {
        "id": "YeUWxcqsYyrh"
      },
      "source": [
        "The scatterplot shows the first principal component on the x-axis, and the second principal component on the y-axis. We can see from the scatterplot that wine samples of cultivar 1 have much lower values of the first principal component than wine samples of cultivar 3. Therefore, the first principal component separates wine samples of cultivars 1 from those of cultivar 3.\n",
        "\n",
        "We can also see that wine samples of cultivar 2 have much higher values of the second principal component than wine samples of cultivars 1 and 3. Therefore, the second principal component separates samples of cultivar 2 from samples of cultivars 1 and 3.\n",
        "\n",
        "Therefore, the first two principal components are reasonably useful for distinguishing wine samples of the three different cultivars.\n",
        "\n",
        "Above, we interpreted the first principal component as a contrast between the concentrations of V8, V7, V13, V10, V12, and V14, and the concentrations of V9, V3 and V5. We can check whether this makes sense in terms of the concentrations of these chemicals in the different cultivars, by printing out the means of the standardised concentration variables in each cultivar, using the ```printMeanAndSdByGroup()``` function (see above):"
      ]
    },
    {
      "cell_type": "code",
      "execution_count": null,
      "metadata": {
        "id": "nkQ6xktMYyrh"
      },
      "outputs": [],
      "source": [
        "printMeanAndSdByGroup(standardisedX, y);"
      ]
    },
    {
      "cell_type": "markdown",
      "metadata": {
        "id": "gKhx3rA1Yyrh"
      },
      "source": [
        "Does it make sense that the first principal component can separate cultivar 1 from cultivar 3? In cultivar 1, the mean values of V8 (0.954), V7 (0.871), V13 (0.769), V10 (0.539), V12 (0.458) and V14 (1.171) are very high compared to the mean values of V9 (-0.577), V3 (-0.292) and V5 (-0.736). In cultivar 3, the mean values of V8 (-1.249), V7 (-0.985), V13 (-1.307), V10 (-0.764), V12 (-1.202) and V14 (-0.372) are very low compared to the mean values of V9 (0.688), V3 (0.893) and V5 (0.575). Therefore, it does make sense that principal component 1 is a contrast between the concentrations of V8, V7, V13, V10, V12, and V14, and the concentrations of V9, V3 and V5; and that principal component 1 can separate cultivar 1 from cultivar 3.\n",
        "\n",
        "Above, we intepreted the second principal component as a contrast between the concentrations of V11, V2, V14, V4, V6 and V3, and the concentration of V12. In the light of the mean values of these variables in the different cultivars, does it make sense that the second principal component can separate cultivar 2 from cultivars 1 and 3? In cultivar 1, the mean values of V11 (0.203), V2 (0.917), V14 (1.171), V4 (0.325), V6 (0.462) and V3 (-0.292) are not very different from the mean value of V12 (0.458). In cultivar 3, the mean values of V11 (1.009), V2 (0.189), V14 (-0.372), V4 (0.257), V6 (-0.030) and V3 (0.893) are also not very different from the mean value of V12 (-1.202). In contrast, in cultivar 2, the mean values of V11 (-0.850), V2 (-0.889), V14 (-0.722), V4 (-0.444), V6 (-0.364) and V3 (-0.361) are much less than the mean value of V12 (0.432). Therefore, it makes sense that principal component is a contrast between the concentrations of V11, V2, V14, V4, V6 and V3, and the concentration of V12; and that principal component 2 can separate cultivar 2 from cultivars 1 and 3."
      ]
    },
    {
      "cell_type": "markdown",
      "metadata": {
        "id": "YUzXR7YWYyrh"
      },
      "source": [
        "### Linear Discriminant Analysis (LDA)\n",
        "The purpose of principal component analysis is to find the best low-dimensional representation of the variation in a multivariate data set. For example, in the wine data set, we have 13 chemical concentrations describing wine samples from three cultivars. By carrying out a principal component analysis, we found that most of the variation in the chemical concentrations between the samples can be captured using the first two principal components, where each of the principal components is a particular linear combination of the 13 chemical concentrations.\n",
        "\n",
        "The purpose of linear discriminant analysis (LDA) is to find the linear combinations of the original variables (the 13 chemical concentrations here) that gives the best possible separation between the groups (wine cultivars here) in our data set. Linear discriminant analysis is also known as canonical discriminant analysis, or simply discriminant analysis.\n",
        "\n",
        "If we want to separate the wines by cultivar, the wines come from three different cultivars, so the number of groups (G) is 3, and the number of variables is 13 (13 chemicals’ concentrations; p = 13). The maximum number of useful discriminant functions that can separate the wines by cultivar is the minimum of G-1 and p, and so in this case it is the minimum of 2 and 13, which is 2. Thus, we can find at most 2 useful discriminant functions to separate the wines by cultivar, using the 13 chemical concentration variables.\n",
        "\n",
        "You can carry out a linear discriminant analysis by using the ```LinearDiscriminantAnalysis``` class model from the module ```sklearn.discriminant_analysis``` and using its method ```fit()``` to fit our ```X, y``` data.\n",
        "\n",
        "For example, to carry out a linear discriminant analysis using the 13 chemical concentrations in the wine samples, we type:"
      ]
    },
    {
      "cell_type": "code",
      "execution_count": 53,
      "metadata": {
        "id": "NrVsg_i5Yyri"
      },
      "outputs": [],
      "source": [
        "lda = LinearDiscriminantAnalysis().fit(X, y)"
      ]
    },
    {
      "cell_type": "markdown",
      "metadata": {
        "id": "5FPANA01Yyri"
      },
      "source": [
        "### Loadings for the Discriminant Functions\n",
        "The values of the loadings of the discriminant functions for the wine data are stored in the ```scalings_``` member of the ```lda``` object model. For a pretty print we can type:"
      ]
    },
    {
      "cell_type": "code",
      "execution_count": null,
      "metadata": {
        "id": "DxRav5igYyri"
      },
      "outputs": [],
      "source": [
        "def pretty_scalings(lda, X, out=False):\n",
        "    ret = pd.DataFrame(lda.scalings_, index=X.columns, columns=[\"LD\"+str(i+1) for i in range(lda.scalings_.shape[1])])\n",
        "    if out:\n",
        "        print(\"Coefficients of linear discriminants:\")\n",
        "        display(ret)\n",
        "    return ret\n",
        "\n",
        "pretty_scalings_ = pretty_scalings(lda, X, out=True)"
      ]
    },
    {
      "cell_type": "markdown",
      "metadata": {
        "id": "IgsMEoYsYyri"
      },
      "source": [
        "This means that the first discriminant function is a linear combination of the variables:\n",
        "\n",
        "```-0.403*V2 + 0.165*V3 - 0.369*V4 + 0.155*V5 - 0.002*V6 + 0.618*V7 - 1.661*V8 - 1.496*V9 + 0.134*V10 + 0.355*V11 - 0.818*V12 - 1.158*V13 - 0.003*V14```\n",
        "\n",
        "where V2, V3, ..., V14 are the concentrations of the 14 chemicals found in the wine samples. For convenience, the value for each discriminant function (eg. the first discriminant function) are scaled so that their mean value is zero (see below).\n",
        "\n",
        "Note that these loadings are calculated so that the within-group variance of each discriminant function for each group (cultivar) is equal to 1, as will be demonstrated below.\n",
        "\n",
        "As mentioned above, these scalings are stored in the named member ```scalings_``` of the object variable returned by ```LinearDiscriminantAnalysis().fit(X, y)```. This element contains a numpy array, in which the first column contains the loadings for the first discriminant function, the second column contains the loadings for the second discriminant function and so on. For example, to extract the loadings for the first discriminant function, we can type:\n"
      ]
    },
    {
      "cell_type": "code",
      "execution_count": null,
      "metadata": {
        "id": "jL493J-YYyri"
      },
      "outputs": [],
      "source": [
        "lda.scalings_[:, 0]"
      ]
    },
    {
      "cell_type": "markdown",
      "metadata": {
        "id": "u_i_VokpYyri"
      },
      "source": [
        "Or for “prettier” print, use the dataframe variable created above:"
      ]
    },
    {
      "cell_type": "code",
      "execution_count": null,
      "metadata": {
        "id": "oJX3dFSSYyri"
      },
      "outputs": [],
      "source": [
        "pretty_scalings_.LD1"
      ]
    },
    {
      "cell_type": "markdown",
      "metadata": {
        "id": "KQyPBW9LYyrj"
      },
      "source": [
        "To calculate the values of the first discriminant function, we can define our own function ```calclda()```:"
      ]
    },
    {
      "cell_type": "code",
      "execution_count": 57,
      "metadata": {
        "id": "d7HMsWTRYyrj"
      },
      "outputs": [],
      "source": [
        "def calclda(variables, loadings):\n",
        "    # find the number of samples in the data set and the number of variables\n",
        "    numsamples, numvariables = variables.shape\n",
        "    # make a vector to store the discriminant function\n",
        "    ld = np.zeros(numsamples)\n",
        "    # calculate the value of the discriminant function for each sample\n",
        "    for i in range(numsamples):\n",
        "        valuei = 0\n",
        "        for j in range(numvariables):\n",
        "            valueij = variables.iloc[i, j]\n",
        "            loadingj = loadings[j]\n",
        "            valuei = valuei + (valueij * loadingj)\n",
        "        ld[i] = valuei\n",
        "    # standardise the discriminant function so that its mean value is 0:\n",
        "    ld = scale(ld, with_std=False)\n",
        "    return ld"
      ]
    },
    {
      "cell_type": "markdown",
      "metadata": {
        "id": "tNZ2NdgWYyrj"
      },
      "source": [
        "The function ```calclda()``` simply calculates the value of a discriminant function for each sample in the data set, for example, for the first disriminant function, for each sample we calculate the value using the equation:\n",
        "\n",
        "```-0.403*V2 - 0.165*V3 - 0.369*V4 + 0.155*V5 - 0.002*V6 + 0.618*V7 - 1.661*V8 - 1.496*V9 + 0.134*V10 + 0.355*V11 - 0.818*V12 - 1.158*V13 - 0.003*V14```\n",
        "\n",
        "\n",
        "Furthermore, the ```scale()``` command is used within the ```calclda()``` function in order to standardise the value of a discriminant function (eg. the first discriminant function) so that its mean value (over all the wine samples) is 0.\n",
        "\n",
        "We can use the function ```calclda()``` to calculate the values of the first discriminant function for each sample in our wine data:"
      ]
    },
    {
      "cell_type": "code",
      "execution_count": null,
      "metadata": {
        "id": "SsntGtYlYyrj"
      },
      "outputs": [],
      "source": [
        "calclda(X, lda.scalings_[:, 0])"
      ]
    },
    {
      "cell_type": "markdown",
      "metadata": {
        "id": "I8D19dXQYyrj"
      },
      "source": [
        "In fact, the values of the first linear discriminant function can be calculated using the ```transform(X)``` or ```fit_transform(X, y)``` methods of the ```LDA``` object, so we can compare those to the ones that we calculated, and they should agree:"
      ]
    },
    {
      "cell_type": "code",
      "execution_count": null,
      "metadata": {
        "id": "GKgqcFG5Yyrj"
      },
      "outputs": [],
      "source": [
        "# Try either, they produce the same result, use help() for more info\n",
        "# lda.transform(X)[:, 0]\n",
        "lda.fit_transform(X, y)[:, 0]"
      ]
    },
    {
      "cell_type": "markdown",
      "metadata": {
        "id": "EReZ1fK1Yyrj"
      },
      "source": [
        "We see that they do agree.\n",
        "\n",
        "It doesn’t matter whether the input variables for linear discriminant analysis are standardised or not, unlike for principal components analysis in which it is often necessary to standardise the input variables. However, using standardised variables in linear discriminant analysis makes it easier to interpret the loadings in a linear discriminant function.\n",
        "\n",
        "In linear discriminant analysis, the standardised version of an input variable is defined so that it has mean zero and within-groups variance of 1. Thus, we can calculate the “group-standardised” variable by subtracting the mean from each value of the variable, and dividing by the within-groups standard deviation. To calculate the group-standardised version of a set of variables, we can use the function ```groupStandardise()``` below:"
      ]
    },
    {
      "cell_type": "code",
      "execution_count": 60,
      "metadata": {
        "id": "4nw1Qy7JYyrk"
      },
      "outputs": [],
      "source": [
        "def groupStandardise(variables, groupvariable):\n",
        "    # find the number of samples in the data set and the number of variables\n",
        "    numsamples, numvariables = variables.shape\n",
        "    # find the variable names\n",
        "    variablenames = variables.columns\n",
        "    # calculate the group-standardised version of each variable\n",
        "    variables_new = pd.DataFrame()\n",
        "    for i in range(numvariables):\n",
        "        variable_name = variablenames[i]\n",
        "        variablei = variables[variable_name]\n",
        "        variablei_Vw = calcWithinGroupsVariance(variablei, groupvariable)\n",
        "        variablei_mean = np.mean(variablei)\n",
        "        variablei_new = (variablei - variablei_mean)/(np.sqrt(variablei_Vw))\n",
        "        variables_new[variable_name] = variablei_new\n",
        "    return variables_new"
      ]
    },
    {
      "cell_type": "markdown",
      "metadata": {
        "id": "FZx8PitNYyrk"
      },
      "source": [
        "For example, we can use the ```groupStandardise()``` function to calculate the group-standardised versions of the chemical concentrations in wine samples:"
      ]
    },
    {
      "cell_type": "code",
      "execution_count": 61,
      "metadata": {
        "id": "aiP8U72rYyrk"
      },
      "outputs": [],
      "source": [
        "groupstandardisedX = groupStandardise(X, y)"
      ]
    },
    {
      "cell_type": "markdown",
      "metadata": {
        "id": "hgnpcOt6Yyrk"
      },
      "source": [
        "We can then use the ```LinearDiscriminantAnalysis().fit()``` method to perform linear disriminant analysis on the group-standardised variables:"
      ]
    },
    {
      "cell_type": "code",
      "execution_count": null,
      "metadata": {
        "id": "uj0dUjJrYyrk"
      },
      "outputs": [],
      "source": [
        "lda2 = LinearDiscriminantAnalysis().fit(groupstandardisedX, y)\n",
        "pretty_scalings(lda2, groupstandardisedX)"
      ]
    },
    {
      "cell_type": "markdown",
      "metadata": {
        "id": "Lfz0NkE7Yyrk"
      },
      "source": [
        "It makes sense to interpret the loadings calculated using the group-standardised variables rather than the loadings for the original (unstandardised) variables.\n",
        "\n",
        "In the first discriminant function calculated for the group-standardised variables, the largest loadings (in absolute) value are given to V8 (-0.871), V11 (0.537), V13 (-0.464), V14 (-0.464), and V5 (0.438). The loadings for V8, V13 and V14 are negative, while those for V11 and V5 are positive. Therefore, the discriminant function seems to represent a contrast between the concentrations of V8, V13 and V14, and the concentrations of V11 and V5.\n",
        "\n",
        "We saw above that the individual variables which gave the greatest separations between the groups were V8 (separation 233.93), V14 (207.92), V13 (189.97), V2 (135.08) and V11 (120.66). These were mostly the same variables that had the largest loadings in the linear discriminant function (loading for V8: -0.871, for V14: -0.464, for V13: -0.464, for V11: 0.537).\n",
        "\n",
        "We found above that variables V8 and V11 have a negative between-groups covariance (-60.41) and a positive within-groups covariance (0.29). When the between-groups covariance and within-groups covariance for two variables have opposite signs, it indicates that a better separation between groups can be obtained by using a linear combination of those two variables than by using either variable on its own.\n",
        "\n",
        "Thus, given that the two variables V8 and V11 have between-groups and within-groups covariances of opposite signs, and that these are two of the variables that gave the greatest separations between groups when used individually, it is not surprising that these are the two variables that have the largest loadings in the first discriminant function.\n",
        "\n",
        "Note that although the loadings for the group-standardised variables are easier to interpret than the loadings for the unstandardised variables, the values of the discriminant function are the same regardless of whether we standardise the input variables or not. For example, for wine data, we can calculate the value of the first discriminant function calculated using the unstandardised and group-standardised variables by typing:"
      ]
    },
    {
      "cell_type": "code",
      "execution_count": null,
      "metadata": {
        "id": "2bhYam4nYyrl"
      },
      "outputs": [],
      "source": [
        "lda.fit_transform(X, y)[:, 0]"
      ]
    },
    {
      "cell_type": "code",
      "execution_count": null,
      "metadata": {
        "id": "XYX5kyI2Yyrl"
      },
      "outputs": [],
      "source": [
        "lda2.fit_transform(groupstandardisedX, y)[:, 0]"
      ]
    },
    {
      "cell_type": "markdown",
      "metadata": {
        "id": "nDxMdIYHYyrl"
      },
      "source": [
        "We can see that although the loadings are different for the first discriminant functions calculated using unstandardised and group-standardised data, the actual values of the first discriminant function are the same."
      ]
    },
    {
      "cell_type": "markdown",
      "metadata": {
        "id": "OrbU3RhjYyrl"
      },
      "source": [
        "### Separation Achieved by the Discriminant Functions\n",
        "To calculate the separation achieved by each discriminant function, we first need to calculate the value of each discriminant function, by substituting the values of the variables into the linear combination for the discriminant function (eg. ```-0.403*V2 - 0.165*V3 - 0.369*V4 + 0.155*V5 - 0.002*V6 + 0.618*V7 - 1.661*V8 - 1.496*V9 + 0.134*V10 + 0.355*V11 - 0.818*V12 - 1.158*V13 - 0.003*V14``` for the first discriminant function), and then scaling the values of the discriminant function so that their mean is zero.\n",
        "\n",
        "As mentioned above, we can do this using the ```rpredict()``` function which simulates the output of the predict() function in R. For example, to calculate the value of the discriminant functions for the wine data, we type:"
      ]
    },
    {
      "cell_type": "code",
      "execution_count": null,
      "metadata": {
        "id": "ThiMvoidYyrl"
      },
      "outputs": [],
      "source": [
        "def rpredict(lda, X, y, out=False):\n",
        "    ret = {\"class\": lda.predict(X),\n",
        "           \"posterior\": pd.DataFrame(lda.predict_proba(X), columns=lda.classes_)}\n",
        "    ret[\"x\"] = pd.DataFrame(lda.fit_transform(X, y))\n",
        "    ret[\"x\"].columns = [\"LD\"+str(i+1) for i in range(ret[\"x\"].shape[1])]\n",
        "    if out:\n",
        "        print(\"class\")\n",
        "        print(ret[\"class\"])\n",
        "        print()\n",
        "        print(\"posterior\")\n",
        "        print(ret[\"posterior\"])\n",
        "        print()\n",
        "        print(\"x\")\n",
        "        print(ret[\"x\"])\n",
        "    return ret\n",
        "\n",
        "lda_values = rpredict(lda, standardisedX, y, True)"
      ]
    },
    {
      "cell_type": "markdown",
      "metadata": {
        "id": "rUYhu0fgYyrl"
      },
      "source": [
        "The returned variable has a named element ```x``` which is a matrix containing the linear discriminant functions: the first column of ```x``` contains the first discriminant function, the second column of ```x``` contains the second discriminant function, and so on (if there are more discriminant functions).\n",
        "\n",
        "We can therefore calculate the separations achieved by the two linear discriminant functions for the wine data by using the ```calcSeparations()``` function (see above), which calculates the separation as the ratio of the between-groups variance to the within-groups variance:"
      ]
    },
    {
      "cell_type": "code",
      "execution_count": null,
      "metadata": {
        "id": "WU-WVf6BYyrm"
      },
      "outputs": [],
      "source": [
        "calcSeparations(lda_values[\"x\"], y)"
      ]
    },
    {
      "cell_type": "markdown",
      "metadata": {
        "id": "_2d6myEWYyrm"
      },
      "source": [
        "As mentioned above, the loadings for each discriminant function are calculated in such a way that the within-group variance (```Vw```) for each group (wine cultivar here) is equal to 1, as we see in the output from ```calcSeparations()``` above.\n",
        "\n",
        "The output from ```calcSeparations()``` tells us that the separation achieved by the first (best) discriminant function is 794.7, and the separation achieved by the second (second best) discriminant function is 361.2.\n",
        "\n",
        "Therefore, the total separation is the sum of these, which is (```794.652200566216+361.241041493455=```) 1155.89, rounded to two decimal places. Therefore, the percentage separation achieved by the first discriminant function is (```794.652200566216*100/1155.893=```) 68.75%, and the percentage separation achieved by the second discriminant function is (```361.241041493455*100/1155.893=```) 31.25%.\n",
        "\n",
        "The proportion of trace (as reported in R by the ```lda() model)``` is the percentage separation achieved by each discriminant function. For example, for the wine data we get the same values as just calculated (68.75% and 31.25%). Note that in sklearn the proportion of trace is reported as ```explained_variance_ratio_``` in a ```LinearDiscriminantAnalysis``` model and is computed only for an “eigen” solver, while so far we have been using the default one, which is “svd” (Singular Value Decomposition):"
      ]
    },
    {
      "cell_type": "code",
      "execution_count": null,
      "metadata": {
        "id": "vRsXDHJ-Yyrm"
      },
      "outputs": [],
      "source": [
        "def proportion_of_trace(lda):\n",
        "    ret = pd.DataFrame([round(i, 4) for i in lda.explained_variance_ratio_ if round(i, 4) > 0], columns=[\"ExplainedVariance\"])\n",
        "    ret.index = [\"LD\"+str(i+1) for i in range(ret.shape[0])]\n",
        "    ret = ret.transpose()\n",
        "    print(\"Proportion of trace:\")\n",
        "    print(ret.to_string(index=False))\n",
        "    return ret\n",
        "\n",
        "proportion_of_trace(LinearDiscriminantAnalysis(solver=\"eigen\").fit(X, y));"
      ]
    },
    {
      "cell_type": "markdown",
      "metadata": {
        "id": "D3G135eVYyrm"
      },
      "source": [
        "Therefore, the first discriminant function does achieve a good separation between the three groups (three cultivars), but the second discriminant function does improve the separation of the groups by quite a large amount, so is it worth using the second discriminant function as well. Therefore, to achieve a good separation of the groups (cultivars), it is necessary to use both of the first two discriminant functions.\n",
        "\n",
        "We found above that the largest separation achieved for any of the individual variables (individual chemical concentrations) was 233.9 for V8, which is quite a lot less than 794.7, the separation achieved by the first discriminant function. Therefore, the effect of using more than one variable to calculate the discriminant function is that we can find a discriminant function that achieves a far greater separation between groups than achieved by any one variable alone."
      ]
    },
    {
      "cell_type": "markdown",
      "metadata": {
        "id": "onThCVUeYyrm"
      },
      "source": [
        "### A Stacked Histogram of the LDA Values\n",
        "A nice way of displaying the results of a linear discriminant analysis (LDA) is to make a stacked histogram of the values of the discriminant function for the samples from different groups (different wine cultivars in our example).\n",
        "\n",
        "We can do this using the ```ldahist()``` function defined below."
      ]
    },
    {
      "cell_type": "code",
      "execution_count": 68,
      "metadata": {
        "id": "YB_JQfGhYyrm"
      },
      "outputs": [],
      "source": [
        "def ldahist(data, g, sep=False):\n",
        "    xmin = np.trunc(np.min(data)) - 1\n",
        "    xmax = np.trunc(np.max(data)) + 1\n",
        "    ncol = len(set(g))\n",
        "    binwidth = 0.5\n",
        "    bins=np.arange(xmin, xmax + binwidth, binwidth)\n",
        "    if sep:\n",
        "        fig, axl = plt.subplots(ncol, 1, sharey=True, sharex=True)\n",
        "    else:\n",
        "        fig, axl = plt.subplots(1, 1, sharey=True, sharex=True)\n",
        "        axl = [axl]*ncol\n",
        "    for ax, (group, gdata) in zip(axl, data.groupby(g)):\n",
        "        sns.histplot(gdata.values, bins=10, ax=ax, label=\"group \"+str(group),stat=\"density\", kde=True,kde_kws=dict(cut=1),alpha=.4, edgecolor=(1, 1, 1, .4))\n",
        "        ax.set_xlim([xmin, xmax])\n",
        "        if sep:\n",
        "            ax.set_xlabel(\"group\"+str(group))\n",
        "        else:\n",
        "            ax.legend(loc='center left', bbox_to_anchor=(1, 0.5))\n",
        "    plt.tight_layout()"
      ]
    },
    {
      "cell_type": "markdown",
      "metadata": {
        "id": "9hIzRNGxYyrm"
      },
      "source": [
        "For example, to make a stacked histogram of the first discriminant function’s values for wine samples of the three different wine cultivars, we type:"
      ]
    },
    {
      "cell_type": "code",
      "execution_count": null,
      "metadata": {
        "id": "3iB83ffHYyro"
      },
      "outputs": [],
      "source": [
        "ldahist(lda_values[\"x\"].LD1, y)"
      ]
    },
    {
      "cell_type": "markdown",
      "metadata": {
        "id": "BEHbxBiuYyro"
      },
      "source": [
        "We can see from the histogram that cultivars 1 and 3 are well separated by the first discriminant function, since the values for the first cultivar are between -6 and -1, while the values for cultivar 3 are between 2 and 6, and so there is no overlap in values.\n",
        "\n",
        "However, the separation achieved by the linear discriminant function on the training set may be an overestimate. To get a more accurate idea of how well the first discriminant function separates the groups, we would need to see a stacked histogram of the values for the three cultivars using some unseen “test set”, that is, using a set of data that was not used to calculate the linear discriminant function.\n",
        "\n",
        "We see that the first discriminant function separates cultivars 1 and 3 very well, but does not separate cultivars 1 and 2, or cultivars 2 and 3, so well.\n",
        "\n",
        "We therefore investigate whether the second discriminant function separates those cultivars, by making a stacked histogram of the second discriminant function’s values:"
      ]
    },
    {
      "cell_type": "code",
      "execution_count": null,
      "metadata": {
        "id": "q_Ckse4hYyrp"
      },
      "outputs": [],
      "source": [
        "ldahist(lda_values[\"x\"].LD2, y)"
      ]
    },
    {
      "cell_type": "markdown",
      "metadata": {
        "id": "sBEVi1X2Yyrp"
      },
      "source": [
        "We see that the second discriminant function separates cultivars 1 and 2 quite well, although there is a little overlap in their values. Furthermore, the second discriminant function also separates cultivars 2 and 3 quite well, although again there is a little overlap in their values so it is not perfect.\n",
        "\n",
        "Thus, we see that two discriminant functions are necessary to separate the cultivars, as was discussed above (see the discussion of percentage separation above)."
      ]
    },
    {
      "cell_type": "markdown",
      "metadata": {
        "id": "mwuKPnOyYyrp"
      },
      "source": [
        "### Scatterplots of the Discriminant Functions\n",
        "We can obtain a scatterplot of the best two discriminant functions, with the data points labelled by cultivar, by typing:"
      ]
    },
    {
      "cell_type": "code",
      "execution_count": null,
      "metadata": {
        "id": "oBo0LxZIYyrp"
      },
      "outputs": [],
      "source": [
        "sns.lmplot(lda_values[\"x\"].join(y),x=\"LD1\", y=\"LD2\", hue=\"V1\", fit_reg=False);\n"
      ]
    },
    {
      "cell_type": "markdown",
      "metadata": {
        "id": "tmi9W2zdYyrq"
      },
      "source": [
        "From the scatterplot of the first two discriminant functions, we can see that the wines from the three cultivars are well separated in the scatterplot. The first discriminant function (x-axis) separates cultivars 1 and 3 very well, but doesn’t not perfectly separate cultivars 1 and 3, or cultivars 2 and 3.\n",
        "\n",
        "The second discriminant function (y-axis) achieves a fairly good separation of cultivars 1 and 3, and cultivars 2 and 3, although it is not totally perfect.\n",
        "\n",
        "To achieve a very good separation of the three cultivars, it would be best to use both the first and second discriminant functions together, since the first discriminant function can separate cultivars 1 and 3 very well, and the second discriminant function can separate cultivars 1 and 2, and cultivars 2 and 3, reasonably well."
      ]
    },
    {
      "cell_type": "markdown",
      "metadata": {
        "id": "S3QFo4rDYyrq"
      },
      "source": [
        "### Allocation Rules and Misclassification Rate\n",
        "We can calculate the mean values of the discriminant functions for each of the three cultivars using the printMeanAndSdByGroup() function (see above):"
      ]
    },
    {
      "cell_type": "code",
      "execution_count": null,
      "metadata": {
        "id": "L0dPlzrOYyrq"
      },
      "outputs": [],
      "source": [
        "printMeanAndSdByGroup(lda_values[\"x\"], y);\n"
      ]
    },
    {
      "cell_type": "markdown",
      "metadata": {
        "id": "5K5kG4tVYyrr"
      },
      "source": [
        "We find that the mean value of the first discriminant function is ```-3.42248851``` for cultivar 1, ```-0.07972623``` for cultivar 2, and ```4.32473717``` for cultivar 3. The mid-way point between the mean values for cultivars 1 and 2 is ```(-3.42248851-0.07972623)/2=-1.751107```, and the mid-way point between the mean values for cultivars 2 and 3 is ```(-0.07972623+4.32473717)/2 = 2.122505```.\n",
        "\n",
        "Therefore, we can use the following allocation rule:\n",
        "\n",
        "- if the first discriminant function is ```<= -1.751107```, predict the sample to be from cultivar 1\n",
        "- if the first discriminant function is ```> -1.751107 and <= 2.122505```, predict the sample to be from cultivar 2\n",
        "- if the first discriminant function is ```> 2.122505```, predict the sample to be from cultivar 3\n",
        "\n",
        "We can examine the accuracy of this allocation rule by using the ```calcAllocationRuleAccuracy()``` function below:"
      ]
    },
    {
      "cell_type": "code",
      "execution_count": 73,
      "metadata": {
        "id": "PBldO0NnYyrr"
      },
      "outputs": [],
      "source": [
        "def calcAllocationRuleAccuracy(ldavalue, groupvariable, cutoffpoints):\n",
        "    # find out how many values the group variable can take\n",
        "    levels = sorted(set((groupvariable)))\n",
        "    numlevels = len(levels)\n",
        "    confusion_matrix = []\n",
        "    # calculate the number of true positives and false negatives for each group\n",
        "    for i, leveli in enumerate(levels):\n",
        "        levelidata = ldavalue[groupvariable==leveli]\n",
        "        row = []\n",
        "        # see how many of the samples from this group are classified in each group\n",
        "        for j, levelj in enumerate(levels):\n",
        "            if j == 0:\n",
        "                cutoff1 = cutoffpoints[0]\n",
        "                cutoff2 = \"NA\"\n",
        "                results = (levelidata <= cutoff1).value_counts()\n",
        "            elif j == numlevels-1:\n",
        "                cutoff1 = cutoffpoints[numlevels-2]\n",
        "                cutoff2 = \"NA\"\n",
        "                results = (levelidata > cutoff1).value_counts()\n",
        "            else:\n",
        "                cutoff1 = cutoffpoints[j-1]\n",
        "                cutoff2 = cutoffpoints[j]\n",
        "                results = ((levelidata > cutoff1) & (levelidata <= cutoff2)).value_counts()\n",
        "            try:\n",
        "                trues = results[True]\n",
        "            except KeyError:\n",
        "                trues = 0\n",
        "            print(\"Number of samples of group\", leveli, \"classified as group\", levelj, \":\", trues, \"(cutoffs:\", cutoff1, \",\", cutoff2, \")\")\n",
        "            row.append(trues)\n",
        "        confusion_matrix.append(row)\n",
        "    return confusion_matrix"
      ]
    },
    {
      "cell_type": "markdown",
      "metadata": {
        "id": "PLRSUCCSYyrr"
      },
      "source": [
        "For example, to calculate the accuracy for the wine data based on the allocation rule for the first discriminant function, we type:"
      ]
    },
    {
      "cell_type": "code",
      "execution_count": null,
      "metadata": {
        "id": "GfoH_47gYyrr"
      },
      "outputs": [],
      "source": [
        "confusion_matrix = calcAllocationRuleAccuracy(lda_values[\"x\"].iloc[:, 0], y, [-1.751107, 2.122505])"
      ]
    },
    {
      "cell_type": "markdown",
      "metadata": {
        "id": "sZ62MYwlYyrr"
      },
      "source": [
        "This can be displayed in a confusion matrix:"
      ]
    },
    {
      "cell_type": "code",
      "execution_count": null,
      "metadata": {
        "id": "jYlTCKirYyrr"
      },
      "outputs": [],
      "source": [
        "def webprint_confusion_matrix(confusion_matrix, classes_names):\n",
        "    display(pd.DataFrame(confusion_matrix, index=[\"Is group \"+i for i in classes_names], columns=[\"Allocated to group \"+i for i in classes_names]))\n",
        "\n",
        "webprint_confusion_matrix(confusion_matrix, lda.classes_)"
      ]
    },
    {
      "cell_type": "markdown",
      "metadata": {
        "id": "Kr0fjxyBYyrs"
      },
      "source": [
        "There are 3+5+1=9 wine samples that are misclassified, out of (55+4+4+66+1+48=) 178 wine samples: 4 samples from cultivar 1 are predicted to be from cultivar 2, 4 samples from cultivar 2 are predicted to be from cultivar 1, and 1 sample from cultivar 2 is predicted to be from cultivar 3. Therefore, the misclassification rate is 9/178, or 5.1%. The misclassification rate is quite low, and therefore the accuracy of the allocation rule appears to be relatively high.\n",
        "\n",
        "However, this is probably an underestimate of the misclassification rate, as the allocation rule was based on this data (this is the *training set*). If we calculated the misclassification rate for a separate test set consisting of data other than that used to make the allocation rule, we would probably get a higher estimate of the misclassification rate."
      ]
    },
    {
      "cell_type": "markdown",
      "metadata": {
        "id": "fwWoc8NPYyrs"
      },
      "source": [
        "### The Python way\n",
        "Python allows to do all the above in a much faster way and providing extended automatic report capabilities by using the ```sklearn.metrics``` module. The above confusion matrix and reporting typical performance metrics, such as ```precision```, ```recall```, ```f1-score``` can be done in python as follows:"
      ]
    },
    {
      "cell_type": "code",
      "execution_count": 76,
      "metadata": {
        "id": "qx-PjITgYyrs"
      },
      "outputs": [],
      "source": [
        "import sklearn.metrics as metrics\n",
        "\n",
        "def lda_classify(v, levels, cutoffpoints):\n",
        "    for level, cutoff in zip(reversed(levels), reversed(cutoffpoints)):\n",
        "        if v > cutoff: return level\n",
        "    return levels[0]\n",
        "\n",
        "y_pred = lda_values[\"x\"].iloc[:, 0].apply(lda_classify, args=(lda.classes_, [-1.751107, 2.122505],)).values\n",
        "y_true = y"
      ]
    },
    {
      "cell_type": "code",
      "execution_count": null,
      "metadata": {
        "id": "lU5dOVAPYyrs"
      },
      "outputs": [],
      "source": [
        "# from http://scikit-learn.org/stable/auto_examples/model_selection/plot_confusion_matrix.html#example-model-selection-plot-confusion-matrix-py\n",
        "def plot_confusion_matrix(cm, target_names, title='Confusion matrix', cmap=plt.cm.Blues):\n",
        "    plt.imshow(cm, interpolation='nearest', cmap=cmap)\n",
        "    plt.title(title)\n",
        "    plt.colorbar()\n",
        "    tick_marks = np.arange(len(target_names))\n",
        "    plt.xticks(tick_marks, target_names, rotation=45)\n",
        "    plt.yticks(tick_marks, target_names)\n",
        "    plt.tight_layout()\n",
        "    plt.ylabel('True label')\n",
        "    plt.xlabel('Predicted label')\n",
        "\n",
        "print(metrics.classification_report(y_true, y_pred))\n",
        "cm = metrics.confusion_matrix(y_true, y_pred)\n",
        "webprint_confusion_matrix(cm, lda.classes_)\n",
        "cm_normalized = cm.astype('float') / cm.sum(axis=1)[:, np.newaxis]\n",
        "plot_confusion_matrix(cm_normalized, lda.classes_, title='Normalized confusion matrix')"
      ]
    }
  ],
  "metadata": {
    "kernelspec": {
      "display_name": "course-book",
      "language": "python",
      "name": "python3"
    },
    "language_info": {
      "codemirror_mode": {
        "name": "ipython",
        "version": 3
      },
      "file_extension": ".py",
      "mimetype": "text/x-python",
      "name": "python",
      "nbconvert_exporter": "python",
      "pygments_lexer": "ipython3",
      "version": "3.9.15"
    },
    "orig_nbformat": 4,
    "vscode": {
      "interpreter": {
        "hash": "89d7d07a18bc6bcfb9fd99f9d58ef662eeaa9759129ecdb773c42f07a9c126b5"
      }
    },
    "colab": {
      "provenance": [],
      "include_colab_link": true
    }
  },
  "nbformat": 4,
  "nbformat_minor": 0
}