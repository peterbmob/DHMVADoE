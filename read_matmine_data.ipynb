{
  "nbformat": 4,
  "nbformat_minor": 0,
  "metadata": {
    "colab": {
      "provenance": [],
      "authorship_tag": "ABX9TyPl8BGw6Tfyke3RSm18Np/5",
      "include_colab_link": true
    },
    "kernelspec": {
      "name": "python3",
      "display_name": "Python 3"
    },
    "language_info": {
      "name": "python"
    }
  },
  "cells": [
    {
      "cell_type": "markdown",
      "metadata": {
        "id": "view-in-github",
        "colab_type": "text"
      },
      "source": [
        "<a href=\"https://colab.research.google.com/github/peterbmob/DHMVADoE/blob/main/read_matmine_data.ipynb\" target=\"_parent\"><img src=\"https://colab.research.google.com/assets/colab-badge.svg\" alt=\"Open In Colab\"/></a>"
      ]
    },
    {
      "cell_type": "code",
      "source": [
        "import sys\n",
        "print(sys.path)\n",
        "\n",
        "print(\"Python version\")\n",
        "print(sys.version)"
      ],
      "metadata": {
        "colab": {
          "base_uri": "https://localhost:8080/"
        },
        "id": "imZYw2JErqT2",
        "outputId": "8bbdcd88-ad62-4194-9e97-0f0c9f617a0f"
      },
      "execution_count": 1,
      "outputs": [
        {
          "output_type": "stream",
          "name": "stdout",
          "text": [
            "['/content', '/env/python', '/usr/lib/python310.zip', '/usr/lib/python3.10', '/usr/lib/python3.10/lib-dynload', '', '/usr/local/lib/python3.10/dist-packages', '/usr/lib/python3/dist-packages', '/usr/local/lib/python3.10/dist-packages/IPython/extensions', '/root/.ipython']\n",
            "Python version\n",
            "3.10.12 (main, Jun 11 2023, 05:26:28) [GCC 11.4.0]\n"
          ]
        }
      ]
    },
    {
      "cell_type": "code",
      "source": [
        "!pip3 install numpy --upgrade\n",
        "\n",
        "exit()"
      ],
      "metadata": {
        "id": "eO9_Am_ttX-4",
        "outputId": "d97d892c-fb8a-49a3-c67e-8e28abcacf13",
        "colab": {
          "base_uri": "https://localhost:8080/"
        }
      },
      "execution_count": 2,
      "outputs": [
        {
          "output_type": "stream",
          "name": "stdout",
          "text": [
            "Requirement already satisfied: numpy in /usr/local/lib/python3.10/dist-packages (1.23.5)\n",
            "Collecting numpy\n",
            "  Downloading numpy-1.26.0-cp310-cp310-manylinux_2_17_x86_64.manylinux2014_x86_64.whl (18.2 MB)\n",
            "\u001b[2K     \u001b[90m━━━━━━━━━━━━━━━━━━━━━━━━━━━━━━━━━━━━━━━━\u001b[0m \u001b[32m18.2/18.2 MB\u001b[0m \u001b[31m46.3 MB/s\u001b[0m eta \u001b[36m0:00:00\u001b[0m\n",
            "\u001b[?25hInstalling collected packages: numpy\n",
            "  Attempting uninstall: numpy\n",
            "    Found existing installation: numpy 1.23.5\n",
            "    Uninstalling numpy-1.23.5:\n",
            "      Successfully uninstalled numpy-1.23.5\n",
            "\u001b[31mERROR: pip's dependency resolver does not currently take into account all the packages that are installed. This behaviour is the source of the following dependency conflicts.\n",
            "cupy-cuda11x 11.0.0 requires numpy<1.26,>=1.20, but you have numpy 1.26.0 which is incompatible.\n",
            "numba 0.56.4 requires numpy<1.24,>=1.18, but you have numpy 1.26.0 which is incompatible.\n",
            "tensorflow 2.13.0 requires numpy<=1.24.3,>=1.22, but you have numpy 1.26.0 which is incompatible.\u001b[0m\u001b[31m\n",
            "\u001b[0mSuccessfully installed numpy-1.26.0\n"
          ]
        }
      ]
    },
    {
      "cell_type": "markdown",
      "source": [
        "Viktigt att vänta här, så att \"runtime startar om\". Den skall \"krascha\" så att den bootar om med den nya numpyn, så räkna till 15 innan du exelverar nästa cell."
      ],
      "metadata": {
        "id": "J80dAAThyXh1"
      }
    },
    {
      "cell_type": "code",
      "source": [],
      "metadata": {
        "id": "OHb3rCyYzF-P"
      },
      "execution_count": null,
      "outputs": []
    },
    {
      "cell_type": "code",
      "source": [
        "import numpy\n",
        "print(numpy.__version__)"
      ],
      "metadata": {
        "colab": {
          "base_uri": "https://localhost:8080/"
        },
        "id": "2gbMPQdMoUJx",
        "outputId": "7fa2c944-5ae2-4c93-c975-042d1616a83a"
      },
      "execution_count": 1,
      "outputs": [
        {
          "output_type": "stream",
          "name": "stdout",
          "text": [
            "1.26.0\n"
          ]
        }
      ]
    },
    {
      "cell_type": "markdown",
      "source": [
        "Skall visa 1.26.0 om allt funkar korrekt. Är det så är det bara att köra vidare."
      ],
      "metadata": {
        "id": "ysMJIdU7yhKh"
      }
    },
    {
      "cell_type": "code",
      "source": [
        "%%capture\n",
        "!pip install matminer"
      ],
      "metadata": {
        "id": "UWI0mMNcsPDI"
      },
      "execution_count": 2,
      "outputs": []
    },
    {
      "cell_type": "markdown",
      "source": [
        "Nu kan ni avända Matminers kommandon för att ladda ner dataset. De som finns tillgängliga här:\n",
        "\n",
        "https://hackingmaterials.lbl.gov/matminer/dataset_summary.html\n",
        "\n",
        "Have fun :)\n"
      ],
      "metadata": {
        "id": "MS6AHejjxqA5"
      }
    },
    {
      "cell_type": "code",
      "source": [
        "from matminer.datasets import load_dataset\n",
        "import pandas as pd\n",
        "df = load_dataset(\"dielectric_constant\")\n",
        "df.to_csv('dielectric_constant.csv')"
      ],
      "metadata": {
        "colab": {
          "base_uri": "https://localhost:8080/"
        },
        "id": "KAWTXLlUsmGw",
        "outputId": "951ba6d2-8df4-427b-b34c-0d5d43f9f658"
      },
      "execution_count": 3,
      "outputs": [
        {
          "output_type": "stream",
          "name": "stdout",
          "text": [
            "Fetching dielectric_constant.json.gz from https://ndownloader.figshare.com/files/13213475 to /usr/local/lib/python3.10/dist-packages/matminer/datasets/dielectric_constant.json.gz\n"
          ]
        },
        {
          "output_type": "stream",
          "name": "stderr",
          "text": [
            "Fetching https://ndownloader.figshare.com/files/13213475 in MB: 0.8867839999999999MB [00:00, 125.24MB/s]      \n"
          ]
        }
      ]
    },
    {
      "cell_type": "markdown",
      "source": [
        "För att se filen till vänster måste ni ibland uppdatera folder (andra knappen under Files). Om föregående cell exekverats korrekt så finns filen där. Ladda ner filen till er lokala disk, så har ni tillgång till den för ert projekt utan att behöva ladda ner den varje gång.."
      ],
      "metadata": {
        "id": "M1c8eyqexL-R"
      }
    },
    {
      "cell_type": "code",
      "source": [
        "ls -l\n"
      ],
      "metadata": {
        "id": "ILFLYl4Npaz8"
      },
      "execution_count": null,
      "outputs": []
    }
  ]
}