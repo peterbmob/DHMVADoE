{
  "nbformat": 4,
  "nbformat_minor": 0,
  "metadata": {
    "colab": {
      "provenance": [],
      "authorship_tag": "ABX9TyNbpZzbQobVkXwL1xgDFrnb",
      "include_colab_link": true
    },
    "kernelspec": {
      "name": "python3",
      "display_name": "Python 3"
    },
    "language_info": {
      "name": "python"
    }
  },
  "cells": [
    {
      "cell_type": "markdown",
      "metadata": {
        "id": "view-in-github",
        "colab_type": "text"
      },
      "source": [
        "<a href=\"https://colab.research.google.com/github/peterbmob/DHMVADoE/blob/main/Excercises/resp.ipynb\" target=\"_parent\"><img src=\"https://colab.research.google.com/assets/colab-badge.svg\" alt=\"Open In Colab\"/></a>"
      ]
    },
    {
      "cell_type": "markdown",
      "source": [
        "# Response surface model"
      ],
      "metadata": {
        "id": "zf0gENHqOxNO"
      }
    },
    {
      "cell_type": "code",
      "execution_count": null,
      "metadata": {
        "id": "KY4HpfM2Or-k"
      },
      "outputs": [],
      "source": [
        "import pandas as pd\n",
        "import scipy.stats as stats\n",
        "import statsmodels.api as sm\n",
        "import statsmodels.formula.api as smf\n",
        "import numpy as np\n",
        "from numpy.random import rand"
      ]
    },
    {
      "cell_type": "markdown",
      "source": [
        "Assume that you have found out that the temperature should be about 25C, pH about 8.0, and the amount of enzyme about 19 mg. Define an experimental domain with the centre point according to the values above (or your own best point, and with a range for each variable that is 10% of the full range given above"
      ],
      "metadata": {
        "id": "c-JG5dg5Uw_5"
      }
    },
    {
      "cell_type": "code",
      "source": [
        "def experiment(X):\n",
        "  Xspan=[25, 4, 20]\n",
        "  Xmin=[20, 5, 5]\n",
        "  Xscale=[]\n",
        "  for a, b,c in zip(X, Xmin,Xspan):\n",
        "    Xscale.append((a-b)/c)\n",
        "\n",
        "  koeff=[[0.643, -0.686, -0.341], [0.704, 0.704, -0.087], [0.3, -0.184, 0.936]]\n",
        "  koeff=np.array(koeff)\n",
        "\n",
        "  max1=[0.21, 0.77, 0.68]\n",
        "  cent1=[]\n",
        "  for a,b in zip(Xscale, max1):\n",
        "    cent1.append(a-b)\n",
        "\n",
        "  koord1=np.matmul(koeff.T, cent1)\n",
        "  max2=[0.73, 0.42, 0.19]\n",
        "  cent2=[]\n",
        "  for a, b in zip(Xscale, max2):\n",
        "    cent2.append(a-b)\n",
        "\n",
        "  Resp1=8/(0.1+2*koord1[0]*koord1[0]+0.5*koord1[1]*koord1[1]+0.9*koord1[2]*koord1[2])\n",
        "  Resp2=1/(0.05+10*(np.sum(np.square(cent2), axis=0)))\n",
        "  Resp=(15+Resp1+Resp2)+0.1*(rand()-rand()+rand()-rand()+rand()-rand()+rand()-rand()+rand()-rand()+rand()-rand())\n",
        "  return Resp\n"
      ],
      "metadata": {
        "id": "ae0l2hniP_oa"
      },
      "execution_count": null,
      "outputs": []
    },
    {
      "cell_type": "code",
      "source": [
        "# first try\n",
        "#create list of data for high and low.\n",
        "dat = [('T',20, 21.5, 23),\n",
        "       ('p',5, 5.2, 5.4),\n",
        "       ('A', 15, 15.8, 16.6)]"
      ],
      "metadata": {
        "id": "dR-Sr3tpflUQ"
      },
      "execution_count": null,
      "outputs": []
    },
    {
      "cell_type": "code",
      "source": [
        "# second try\n",
        "max=1\n",
        "#create list of data for high and low.\n",
        "dat = [('T',March_real.iloc[max].Temperature-0.5, March_real.iloc[max].Temperature, March_real.iloc[max].Temperature+0.5),\n",
        "        ('p', March_real.iloc[max].pH-0.5, March_real.iloc[max].pH,  March_real.iloc[max].pH+0.5),\n",
        "        ('A',March_real.iloc[max].Amount-0.5, March_real.iloc[max].Amount, March_real.iloc[max].Amount+0.5 )]"
      ],
      "metadata": {
        "id": "Y-bhSfL3fqg-"
      },
      "execution_count": null,
      "outputs": []
    },
    {
      "cell_type": "code",
      "source": [
        "inputs_labels = {'T' : 'Temperature',\n",
        "                 'p' : 'pH',\n",
        "                 'A':'Amount'}\n",
        "\n",
        "\n",
        "\n",
        "# create pandas dataframe in a pandas dataframe\n",
        "inputs_df = pd.DataFrame(dat,columns=['index','low','center','high'])\n",
        "inputs_df = inputs_df.set_index(['index'])\n",
        "inputs_df['label'] = inputs_df.index.map( lambda z : inputs_labels[z] )\n",
        "\n",
        "#print dataframe\n",
        "inputs_df"
      ],
      "metadata": {
        "id": "zgp-x3NTO0qy"
      },
      "execution_count": null,
      "outputs": []
    },
    {
      "cell_type": "code",
      "source": [
        "# compute averages and span\n",
        "inputs_df['average'] = inputs_df.apply( lambda z : ( z['high'] + z['low'])/2 , axis=1)\n",
        "inputs_df['span'] = inputs_df.apply( lambda z : ( z['high'] - z['low'])/2 , axis=1)\n",
        "\n",
        "# encode the data\n",
        "inputs_df['encoded_low'] = inputs_df.apply( lambda z : ( z['low']  - z['average'] )/( z['span'] ), axis=1)\n",
        "inputs_df['encoded_center'] = inputs_df.apply( lambda z : ( z['center'] - z['average'] )/( z['span'] ), axis=1)\n",
        "inputs_df['encoded_high'] = inputs_df.apply( lambda z : ( z['high'] - z['average'] )/( z['span'] ), axis=1)\n",
        "\n",
        "inputs_df = inputs_df.drop(['average','span'],axis=1)\n",
        "\n",
        "inputs_df"
      ],
      "metadata": {
        "id": "NtJ1fXZMPNKX"
      },
      "execution_count": null,
      "outputs": []
    },
    {
      "cell_type": "code",
      "source": [
        "import itertools\n",
        "encoded_inputs= list(itertools.product([-1,1],[-1,1], [-1,1]))\n",
        "encoded_inputs\n",
        "for i in range(0,1):\n",
        "    encoded_inputs.append((0,0,0))\n",
        "encoded_inputs"
      ],
      "metadata": {
        "id": "93Gi7x86Pbbw"
      },
      "execution_count": null,
      "outputs": []
    },
    {
      "cell_type": "code",
      "source": [
        "results=pd.DataFrame(encoded_inputs)\n",
        "results=results[results.columns[::-1]]\n",
        "results.columns=['T','p', 'A']\n",
        "results"
      ],
      "metadata": {
        "id": "Eb27Tf11PfTl"
      },
      "execution_count": null,
      "outputs": []
    },
    {
      "cell_type": "code",
      "source": [
        "def parse_values(x):\n",
        "    if x < 2:\n",
        "       return x * 10\n",
        "    elif x < 4:\n",
        "       return x ** 2\n",
        "    else:\n",
        "       return x + 10\n",
        "\n",
        "real_experiment = results\n",
        "var_labels = []\n",
        "for var in ['T','p', 'A']:\n",
        "    var_label = inputs_df.loc[var]['label']\n",
        "    var_labels.append(var_label)\n",
        "    real_experiment[var_label] = results.apply(\n",
        "        lambda z : inputs_df.loc[var]['low'] if z[var]<0 else (inputs_df.loc[var]['high'] if z[var]>0 else inputs_df.loc[var]['center']),\n",
        "        axis=1)\n",
        "\n",
        "\n",
        "\n",
        "print(\"The values of each real variable in the experiment:\")\n",
        "real_experiment[var_labels]"
      ],
      "metadata": {
        "id": "5XthooCwPl6g"
      },
      "execution_count": null,
      "outputs": []
    },
    {
      "cell_type": "code",
      "source": [
        "resp=[]\n",
        "for i in range(len(real_experiment.index)):\n",
        "   X=[real_experiment.Temperature[i], real_experiment.pH[i],real_experiment.Amount[i]]\n",
        "   resp.append(experiment(X))\n",
        "\n",
        "results['y']= resp\n",
        "results"
      ],
      "metadata": {
        "id": "2xLFkYCkP54I"
      },
      "execution_count": null,
      "outputs": []
    },
    {
      "cell_type": "code",
      "source": [
        "results['y'].sort_values(ascending=False)\n",
        "order=results['y'].sort_values(ascending=False).index\n",
        "order"
      ],
      "metadata": {
        "id": "Pg_Dpg-yTv2n"
      },
      "execution_count": null,
      "outputs": []
    },
    {
      "cell_type": "code",
      "source": [
        "y1 = results['y']\n",
        "xlabs=['T','p','A']\n",
        "x = results[xlabs]\n",
        "x = sm.add_constant(x)\n",
        "\n",
        "res1 = smf.ols(formula='y ~ T + p + A + T:p + T:A + A:p + T:p:A', data=results).fit()\n",
        "\n",
        "res1.summary()"
      ],
      "metadata": {
        "id": "MRBMCN96Qfqm"
      },
      "execution_count": null,
      "outputs": []
    },
    {
      "cell_type": "markdown",
      "source": [
        "p-values are high for the interaction coefficients"
      ],
      "metadata": {
        "id": "VrjRAx0RRbhe"
      }
    },
    {
      "cell_type": "code",
      "source": [
        "y1 = results['y']\n",
        "xlabs=['T','p','A']\n",
        "x = results[xlabs]\n",
        "x = sm.add_constant(x)\n",
        "\n",
        "res1 = smf.ols(formula='y ~ T + p + A', data=results).fit()\n",
        "\n",
        "res1.summary()"
      ],
      "metadata": {
        "id": "RlukzI4ERbBs"
      },
      "execution_count": null,
      "outputs": []
    },
    {
      "cell_type": "markdown",
      "source": [
        "This leaves with the first order model: ybar = 23.1511 + 0.6881T + 0.7681p +0.3016A  \n",
        "\n",
        "So, now, for any t and T, we can predict y. This fits a flat surface and it tells us that the predicted y is a function of T, pH and A and the coefficients are the gradient of this function. We are working in coded variables, which means that the coefficients are unitless.\n",
        "\n",
        "If we move 0.6881 in the direction of T and then 0.7681 and 0.3016 in the direction of pH and A, this will be the direction of steepest ascent. All we know is that this flat surface is one side of the \"hill\" forming our maxima.\n",
        "\n",
        "With the method of steepest descent, we can now start marching up the hill taking additional measurements at each (T,pH, A) until the response starts to decrease. If we start at 0 (in coded units), then we can do series of single experiments on this path up the hill of the steepest ascent. If swe do this at a step size of t=1, then:\n",
        "\n"
      ],
      "metadata": {
        "id": "INtX9UCiR6UP"
      }
    },
    {
      "cell_type": "code",
      "source": [
        "Origin = [results['T'].iloc[order[0]], results['p'].iloc[order[0]], results['A'].iloc[order[0]]]\n",
        "coeff= res1.params\n",
        "delta=[coeff[1]/coeff[1],coeff[2]/coeff[1],coeff[3]/coeff[1] ]\n",
        "marchT=[Origin[0]];marchp=[Origin[1]];marcha=[Origin[2]]\n",
        "\n",
        "for i in range(0,4):\n",
        "    marchT.append(Origin[0]+(i+1)*delta[0])\n",
        "    marchp.append(Origin[1]+(i+1)*delta[1])\n",
        "    marcha.append(Origin[1]+(i+1)*delta[2])\n",
        "\n",
        "March=pd.DataFrame({'T':marchT, 'p':marchp, 'A':marcha})\n",
        "ypred=res1.predict(March)\n",
        "\n",
        "March['ypred']=ypred\n",
        "\n",
        "\n",
        "# Lets do the real experiment\n",
        "#assume we take steps in T\n",
        "\n",
        "Origin_real=[results['Temperature'].iloc[order[0]], results['pH'].iloc[order[0]], results['Amount'].iloc[order[0]]]\n",
        "marchT_real=[];marchp_real=[];marcha_real=[]\n",
        "for i in range(len(March)):\n",
        "    marchT_real.append(Origin_real[0]+(i+1)*delta[0])\n",
        "    marchp_real.append(Origin_real[1]+(i+1)*delta[1])\n",
        "    marcha_real.append(Origin_real[2]+(i+1)*delta[2])\n",
        "\n",
        "March_real=pd.DataFrame({'Temperature':marchT_real, 'pH':marchp_real, 'Amount':marcha_real})\n",
        "\n",
        "resp=[]\n",
        "for i in range(len(March_real)):\n",
        "   X=[March_real.Temperature[i], March_real.pH[i],March_real.Amount[i]]\n",
        "   resp.append(experiment(X))\n",
        "\n",
        "March['y_real']= resp\n",
        "March\n",
        "\n"
      ],
      "metadata": {
        "id": "X2hzZvJ0RCL2"
      },
      "execution_count": null,
      "outputs": []
    },
    {
      "cell_type": "code",
      "source": [
        "March['ypred'].plot(marker='o')\n",
        "March['y_real'].plot(marker='o')\n"
      ],
      "metadata": {
        "id": "7Dc_NB5xZ27i"
      },
      "execution_count": null,
      "outputs": []
    },
    {
      "cell_type": "code",
      "source": [
        "March['y_real'].sort_values(ascending=False)"
      ],
      "metadata": {
        "id": "-5Y7lq8oe1x9"
      },
      "execution_count": null,
      "outputs": []
    },
    {
      "cell_type": "code",
      "source": [
        "March_real.iloc[1]\n"
      ],
      "metadata": {
        "id": "F_jL-q6xg10m"
      },
      "execution_count": null,
      "outputs": []
    },
    {
      "cell_type": "markdown",
      "source": [
        "When ready, use higher order model...\n"
      ],
      "metadata": {
        "id": "U5jeubACTQl_"
      }
    },
    {
      "cell_type": "code",
      "source": [
        "res1 = smf.ols(formula='y ~ T + p + A + T:p + I(T**2) + I(p**2)', data=results).fit()\n",
        "print(res1.summary())"
      ],
      "metadata": {
        "id": "Orhs4IPOTPjI"
      },
      "execution_count": null,
      "outputs": []
    },
    {
      "cell_type": "code",
      "source": [
        "inputs_df #['low']"
      ],
      "metadata": {
        "id": "TuozKLc4WHjy"
      },
      "execution_count": null,
      "outputs": []
    },
    {
      "cell_type": "code",
      "source": [
        "\n",
        "np.random.uniform(inputs_df['low'][0],inputs_df['high'][0], 100)"
      ],
      "metadata": {
        "id": "AQg1w59BWwzE"
      },
      "execution_count": null,
      "outputs": []
    },
    {
      "cell_type": "code",
      "source": [
        "from mpl_toolkits.mplot3d import Axes3D\n",
        "import matplotlib.pyplot as plt\n",
        "import numpy as np\n",
        "\n",
        "fig = plt.figure()\n",
        "ax = fig.add_subplot(111, projection='3d')\n",
        "\n",
        "T = np.random.uniform(inputs_df['encoded_low'][0],inputs_df['encoded_high'][0], 1000)\n",
        "p = np.random.uniform(inputs_df['encoded_low'][1],inputs_df['encoded_high'][1], 1000)\n",
        "A = np.random.uniform(inputs_df['encoded_low'][2],inputs_df['encoded_high'][2], 1000)\n",
        "data=pd.DataFrame({'T':T, 'p':p, 'A':A})\n",
        "\n",
        "c = res1.predict(data)\n",
        "data['ypred']=c\n",
        "img = ax.scatter(T, p, A, c=c, cmap=plt.hot())\n",
        "fig.colorbar(img)\n",
        "plt.show()"
      ],
      "metadata": {
        "id": "lAPp-PO4TfH-"
      },
      "execution_count": null,
      "outputs": []
    },
    {
      "cell_type": "code",
      "source": [
        "data['ypred'].idxmax()\n",
        "data.iloc[data['ypred'].idxmax()]"
      ],
      "metadata": {
        "id": "69hqLLf_WENZ"
      },
      "execution_count": null,
      "outputs": []
    },
    {
      "cell_type": "code",
      "source": [],
      "metadata": {
        "id": "I5053b3aX1Gc"
      },
      "execution_count": null,
      "outputs": []
    }
  ]
}