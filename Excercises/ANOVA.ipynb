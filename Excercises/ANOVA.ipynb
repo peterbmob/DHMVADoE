{
  "nbformat": 4,
  "nbformat_minor": 0,
  "metadata": {
    "colab": {
      "provenance": [],
      "toc_visible": true,
      "authorship_tag": "ABX9TyMcv1VNd7V2htVSJfNLHC1E",
      "include_colab_link": true
    },
    "kernelspec": {
      "name": "python3",
      "display_name": "Python 3"
    },
    "language_info": {
      "name": "python"
    }
  },
  "cells": [
    {
      "cell_type": "markdown",
      "metadata": {
        "id": "view-in-github",
        "colab_type": "text"
      },
      "source": [
        "<a href=\"https://colab.research.google.com/github/peterbmob/DHMVADoE/blob/main/Untitled34.ipynb\" target=\"_parent\"><img src=\"https://colab.research.google.com/assets/colab-badge.svg\" alt=\"Open In Colab\"/></a>"
      ]
    },
    {
      "cell_type": "markdown",
      "source": [
        "# One-Way ANOVA in Python: One-way ANOVA (also known as “analysis of variance”) is a test that is used to find out whether there exists a statistically significant difference between the mean values of more than one group.\n",
        "\n",
        "Hypothesis involved:\n",
        "A one-way ANOVA has the below given null and alternative hypotheses:\n",
        "\n",
        "- H0 (null hypothesis): μ1 = μ2 = μ3 = … = μk (It implies that the means of all the population are equal)\n",
        "\n",
        "- H1 (null hypothesis): It states that there will be at least one population mean that differs from the rest\n",
        "Statement:\n",
        "\n",
        "Researchers took 20 cars of the same to take part in a study. These cars are randomly doped with one of the four-engine oils and allowed to run freely for 100 kilometers each. At the end of the journey, the performance of each of the cars is noted. Before proceeding further we need to install the SciPy library in our system. You can install this library by using the below command in the terminal:\n",
        "\n"
      ],
      "metadata": {
        "id": "93DoB89PDqB8"
      }
    },
    {
      "cell_type": "markdown",
      "source": [
        "# Step1: load the data"
      ],
      "metadata": {
        "id": "ozZU7UxLL11r"
      }
    },
    {
      "cell_type": "code",
      "source": [
        "# Performance when each of the engine\n",
        "# oil is applied\n",
        "performance1 = [89, 89, 88, 78, 79]\n",
        "performance2 = [93, 92, 94, 89, 88]\n",
        "performance3 = [89, 88, 89, 93, 90]\n",
        "performance4 = [81, 78, 81, 92, 82]\n"
      ],
      "metadata": {
        "id": "rUZtlZO5K3J9"
      },
      "execution_count": 1,
      "outputs": []
    },
    {
      "cell_type": "markdown",
      "source": [
        "# Step 2: Conduct the one-way ANOVA:\n",
        "\n",
        "Python provides us f_oneway() function from SciPy library using which we can conduct the One-Way ANOVA."
      ],
      "metadata": {
        "id": "wLdPPnGKL53I"
      }
    },
    {
      "cell_type": "code",
      "source": [
        "# Importing library\n",
        "from scipy.stats import f_oneway\n",
        "\n",
        "# Performance when each of the engine\n",
        "# oil is applied\n",
        "performance1 = [89, 89, 88, 78, 79]\n",
        "performance2 = [93, 92, 94, 89, 88]\n",
        "performance3 = [89, 88, 89, 93, 90]\n",
        "performance4 = [81, 78, 81, 92, 82]\n",
        "\n",
        "# Conduct the one-way ANOVA\n",
        "f_oneway(performance1, performance2, performance3, performance4)"
      ],
      "metadata": {
        "colab": {
          "base_uri": "https://localhost:8080/"
        },
        "id": "i6jVXDSfLE24",
        "outputId": "0af06455-a68a-47bd-f00b-f75e73863997"
      },
      "execution_count": 2,
      "outputs": [
        {
          "output_type": "execute_result",
          "data": {
            "text/plain": [
              "F_onewayResult(statistic=4.625000000000002, pvalue=0.016336459839780215)"
            ]
          },
          "metadata": {},
          "execution_count": 2
        }
      ]
    },
    {
      "cell_type": "markdown",
      "source": [
        "# Step 3: Analyze the result\n",
        "The F statistic and p-value turn out to be equal to 4.625 and 0.016336498 respectively. Since the p-value is less than 0.05 hence we would reject the null hypothesis. This implies that we have sufficient proof to say that there exists a difference in the performance among four different engine oils."
      ],
      "metadata": {
        "id": "UWrf55r0LKxu"
      }
    },
    {
      "cell_type": "markdown",
      "source": [
        "# Two-Way ANOVA: Two-Way ANOVA\n",
        "\n",
        "In statistics stands for Analysis of Variance and it is used to check whether there is a statistically significant difference between the mean value of three or more that has been divided into two factors. In simple words, ANOVA is a test conducted in statistics and it is used to interpret the difference between the mean value of at least three groups. The main objective of a two-way ANOVA is to find out how two factors affect a response variable and to find out whether there is a relation between the two factors on the response variable.\n"
      ],
      "metadata": {
        "id": "c9nZsrvBKv7z"
      }
    },
    {
      "cell_type": "markdown",
      "source": [
        "Performing a Two-Way ANOVA in Python:\n",
        "Let us consider an example in which scientists need to know whether plant growth is affected by fertilizers and watering frequency. They planted exactly 30 plants and allowed them to grow for six months under different conditions for fertilizers and watering frequency. After exactly six months, they recorded the heights of each plant centimeters. Performing a Two-Way ANOVA in Python is a step by step process and these are discussed below:"
      ],
      "metadata": {
        "id": "qZx3O8xXNSYn"
      }
    },
    {
      "cell_type": "code",
      "source": [
        "\n",
        "# Importing libraries\n",
        "import numpy as np\n",
        "import pandas as pd"
      ],
      "metadata": {
        "id": "QsxS1bgWNNtn"
      },
      "execution_count": 3,
      "outputs": []
    },
    {
      "cell_type": "markdown",
      "source": [
        "# Step 2: Enter the data.\n",
        "\n",
        "Let us create a pandas DataFrame that consist of the following three variables:\n",
        "\n",
        "fertilizers: how frequently each plant was fertilized that is daily or weekly.\n",
        "watering: how frequently each plant was watered that is daily or weekly.\n",
        "height: the height of each plant (in inches) after six months."
      ],
      "metadata": {
        "id": "r91xnmbwNbGl"
      }
    },
    {
      "cell_type": "code",
      "source": [
        "# Create a dataframe\n",
        "dataframe = pd.DataFrame({'Fertilizer': np.repeat(['daily', 'weekly'], 15),\n",
        "                          'Watering': np.repeat(['daily', 'weekly'], 15),\n",
        "                          'height': [14, 16, 15, 15, 16, 13, 12, 11, 14,\n",
        "                                     15, 16, 16, 17, 18, 14, 13, 14, 14,\n",
        "                                     14, 15, 16, 16, 17, 18, 14, 13, 14,\n",
        "                                     14, 14, 15]})"
      ],
      "metadata": {
        "id": "rKzHw_5vNXhJ"
      },
      "execution_count": 47,
      "outputs": []
    },
    {
      "cell_type": "code",
      "source": [
        "import seaborn as sns\n",
        "import matplotlib.pyplot as plt\n",
        "\n",
        "sns.histplot(dataframe, bins=10, stat=\"density\", kde=True,kde_kws=dict(cut=3),alpha=.4, edgecolor=(1, 1, 1, .4))\n",
        "\n",
        "plt.legend()\n",
        "plt.show()"
      ],
      "metadata": {
        "colab": {
          "base_uri": "https://localhost:8080/",
          "height": 472
        },
        "id": "_wQj2esiRzBV",
        "outputId": "9180b879-1559-4e73-fc0b-740cceb4af21"
      },
      "execution_count": 53,
      "outputs": [
        {
          "output_type": "stream",
          "name": "stderr",
          "text": [
            "WARNING:matplotlib.legend:No artists with labels found to put in legend.  Note that artists whose label start with an underscore are ignored when legend() is called with no argument.\n"
          ]
        },
        {
          "output_type": "display_data",
          "data": {
            "text/plain": [
              "<Figure size 640x480 with 1 Axes>"
            ],
            "image/png": "[encoded data removed]"
          },
          "metadata": {}
        }
      ]
    },
    {
      "cell_type": "markdown",
      "source": [
        "# Step 3: Conduct the two-way ANOVA:\n",
        "\n",
        "To perform the two-way ANOVA, the Statsmodels library provides us with anova_lm() function. The syntax of the function is given below,"
      ],
      "metadata": {
        "id": "wf7ztTXENitf"
      }
    },
    {
      "cell_type": "code",
      "source": [
        "\n",
        "# Importing libraries\n",
        "import statsmodels.api as sm\n",
        "from statsmodels.formula.api import ols\n",
        "\n",
        "# Performing two-way ANOVA\n",
        "model = ols(\n",
        "    'height ~ C(Fertilizer) + C(Watering) +\\\n",
        "    C(Fertilizer):C(Watering)', data=dataframe).fit()\n",
        "sm.stats.anova_lm(model, typ=2)"
      ],
      "metadata": {
        "colab": {
          "base_uri": "https://localhost:8080/",
          "height": 175
        },
        "id": "MsPZRV3VNrUr",
        "outputId": "aadf3cab-e602-4fcf-ce6d-7c48acb7af75"
      },
      "execution_count": 6,
      "outputs": [
        {
          "output_type": "execute_result",
          "data": {
            "text/plain": [
              "                                 sum_sq    df             F    PR(>F)\n",
              "C(Fertilizer)              4.390651e-13   1.0  1.589719e-13  1.000000\n",
              "C(Watering)                8.630952e-02   1.0  3.125000e-02  0.860956\n",
              "C(Fertilizer):C(Watering)  3.333333e-02   1.0  1.206897e-02  0.913305\n",
              "Residual                   7.733333e+01  28.0           NaN       NaN"
            ],
            "text/html": [
              "\n",
              "  <div id=\"df-f6b09c5c-94b5-4e1d-ad43-75c909ebf755\" class=\"colab-df-container\">\n",
              "    <div>\n",
              "<style scoped>\n",
              "    .dataframe tbody tr th:only-of-type {\n",
              "        vertical-align: middle;\n",
              "    }\n",
              "\n",
              "    .dataframe tbody tr th {\n",
              "        vertical-align: top;\n",
              "    }\n",
              "\n",
              "    .dataframe thead th {\n",
              "        text-align: right;\n",
              "    }\n",
              "</style>\n",
              "<table border=\"1\" class=\"dataframe\">\n",
              "  <thead>\n",
              "    <tr style=\"text-align: right;\">\n",
              "      <th></th>\n",
              "      <th>sum_sq</th>\n",
              "      <th>df</th>\n",
              "      <th>F</th>\n",
              "      <th>PR(&gt;F)</th>\n",
              "    </tr>\n",
              "  </thead>\n",
              "  <tbody>\n",
              "    <tr>\n",
              "      <th>C(Fertilizer)</th>\n",
              "      <td>4.390651e-13</td>\n",
              "      <td>1.0</td>\n",
              "      <td>1.589719e-13</td>\n",
              "      <td>1.000000</td>\n",
              "    </tr>\n",
              "    <tr>\n",
              "      <th>C(Watering)</th>\n",
              "      <td>8.630952e-02</td>\n",
              "      <td>1.0</td>\n",
              "      <td>3.125000e-02</td>\n",
              "      <td>0.860956</td>\n",
              "    </tr>\n",
              "    <tr>\n",
              "      <th>C(Fertilizer):C(Watering)</th>\n",
              "      <td>3.333333e-02</td>\n",
              "      <td>1.0</td>\n",
              "      <td>1.206897e-02</td>\n",
              "      <td>0.913305</td>\n",
              "    </tr>\n",
              "    <tr>\n",
              "      <th>Residual</th>\n",
              "      <td>7.733333e+01</td>\n",
              "      <td>28.0</td>\n",
              "      <td>NaN</td>\n",
              "      <td>NaN</td>\n",
              "    </tr>\n",
              "  </tbody>\n",
              "</table>\n",
              "</div>\n",
              "    <div class=\"colab-df-buttons\">\n",
              "\n",
              "  <div class=\"colab-df-container\">\n",
              "    <button class=\"colab-df-convert\" onclick=\"convertToInteractive('df-f6b09c5c-94b5-4e1d-ad43-75c909ebf755')\"\n",
              "            title=\"Convert this dataframe to an interactive table.\"\n",
              "            style=\"display:none;\">\n",
              "\n",
              "  <svg xmlns=\"http://www.w3.org/2000/svg\" height=\"24px\" viewBox=\"0 -960 960 960\">\n",
              "    <path d=\"M120-120v-720h720v720H120Zm60-500h600v-160H180v160Zm220 220h160v-160H400v160Zm0 220h160v-160H400v160ZM180-400h160v-160H180v160Zm440 0h160v-160H620v160ZM180-180h160v-160H180v160Zm440 0h160v-160H620v160Z\"/>\n",
              "  </svg>\n",
              "    </button>\n",
              "\n",
              "  <style>\n",
              "    .colab-df-container {\n",
              "      display:flex;\n",
              "      gap: 12px;\n",
              "    }\n",
              "\n",
              "    .colab-df-convert {\n",
              "      background-color: #E8F0FE;\n",
              "      border: none;\n",
              "      border-radius: 50%;\n",
              "      cursor: pointer;\n",
              "      display: none;\n",
              "      fill: #1967D2;\n",
              "      height: 32px;\n",
              "      padding: 0 0 0 0;\n",
              "      width: 32px;\n",
              "    }\n",
              "\n",
              "    .colab-df-convert:hover {\n",
              "      background-color: #E2EBFA;\n",
              "      box-shadow: 0px 1px 2px rgba(60, 64, 67, 0.3), 0px 1px 3px 1px rgba(60, 64, 67, 0.15);\n",
              "      fill: #174EA6;\n",
              "    }\n",
              "\n",
              "    .colab-df-buttons div {\n",
              "      margin-bottom: 4px;\n",
              "    }\n",
              "\n",
              "    [theme=dark] .colab-df-convert {\n",
              "      background-color: #3B4455;\n",
              "      fill: #D2E3FC;\n",
              "    }\n",
              "\n",
              "    [theme=dark] .colab-df-convert:hover {\n",
              "      background-color: #434B5C;\n",
              "      box-shadow: 0px 1px 3px 1px rgba(0, 0, 0, 0.15);\n",
              "      filter: drop-shadow(0px 1px 2px rgba(0, 0, 0, 0.3));\n",
              "      fill: #FFFFFF;\n",
              "    }\n",
              "  </style>\n",
              "\n",
              "    <script>\n",
              "      const buttonEl =\n",
              "        document.querySelector('#df-f6b09c5c-94b5-4e1d-ad43-75c909ebf755 button.colab-df-convert');\n",
              "      buttonEl.style.display =\n",
              "        google.colab.kernel.accessAllowed ? 'block' : 'none';\n",
              "\n",
              "      async function convertToInteractive(key) {\n",
              "        const element = document.querySelector('#df-f6b09c5c-94b5-4e1d-ad43-75c909ebf755');\n",
              "        const dataTable =\n",
              "          await google.colab.kernel.invokeFunction('convertToInteractive',\n",
              "                                                    [key], {});\n",
              "        if (!dataTable) return;\n",
              "\n",
              "        const docLinkHtml = 'Like what you see? Visit the ' +\n",
              "          '<a target=\"_blank\" href=https://colab.research.google.com/notebooks/data_table.ipynb>data table notebook</a>'\n",
              "          + ' to learn more about interactive tables.';\n",
              "        element.innerHTML = '';\n",
              "        dataTable['output_type'] = 'display_data';\n",
              "        await google.colab.output.renderOutput(dataTable, element);\n",
              "        const docLink = document.createElement('div');\n",
              "        docLink.innerHTML = docLinkHtml;\n",
              "        element.appendChild(docLink);\n",
              "      }\n",
              "    </script>\n",
              "  </div>\n",
              "\n",
              "\n",
              "<div id=\"df-8baef1f6-3e64-4995-bb85-743ca194633e\">\n",
              "  <button class=\"colab-df-quickchart\" onclick=\"quickchart('df-8baef1f6-3e64-4995-bb85-743ca194633e')\"\n",
              "            title=\"Suggest charts.\"\n",
              "            style=\"display:none;\">\n",
              "\n",
              "<svg xmlns=\"http://www.w3.org/2000/svg\" height=\"24px\"viewBox=\"0 0 24 24\"\n",
              "     width=\"24px\">\n",
              "    <g>\n",
              "        <path d=\"M19 3H5c-1.1 0-2 .9-2 2v14c0 1.1.9 2 2 2h14c1.1 0 2-.9 2-2V5c0-1.1-.9-2-2-2zM9 17H7v-7h2v7zm4 0h-2V7h2v10zm4 0h-2v-4h2v4z\"/>\n",
              "    </g>\n",
              "</svg>\n",
              "  </button>\n",
              "\n",
              "<style>\n",
              "  .colab-df-quickchart {\n",
              "      --bg-color: #E8F0FE;\n",
              "      --fill-color: #1967D2;\n",
              "      --hover-bg-color: #E2EBFA;\n",
              "      --hover-fill-color: #174EA6;\n",
              "      --disabled-fill-color: #AAA;\n",
              "      --disabled-bg-color: #DDD;\n",
              "  }\n",
              "\n",
              "  [theme=dark] .colab-df-quickchart {\n",
              "      --bg-color: #3B4455;\n",
              "      --fill-color: #D2E3FC;\n",
              "      --hover-bg-color: #434B5C;\n",
              "      --hover-fill-color: #FFFFFF;\n",
              "      --disabled-bg-color: #3B4455;\n",
              "      --disabled-fill-color: #666;\n",
              "  }\n",
              "\n",
              "  .colab-df-quickchart {\n",
              "    background-color: var(--bg-color);\n",
              "    border: none;\n",
              "    border-radius: 50%;\n",
              "    cursor: pointer;\n",
              "    display: none;\n",
              "    fill: var(--fill-color);\n",
              "    height: 32px;\n",
              "    padding: 0;\n",
              "    width: 32px;\n",
              "  }\n",
              "\n",
              "  .colab-df-quickchart:hover {\n",
              "    background-color: var(--hover-bg-color);\n",
              "    box-shadow: 0 1px 2px rgba(60, 64, 67, 0.3), 0 1px 3px 1px rgba(60, 64, 67, 0.15);\n",
              "    fill: var(--button-hover-fill-color);\n",
              "  }\n",
              "\n",
              "  .colab-df-quickchart-complete:disabled,\n",
              "  .colab-df-quickchart-complete:disabled:hover {\n",
              "    background-color: var(--disabled-bg-color);\n",
              "    fill: var(--disabled-fill-color);\n",
              "    box-shadow: none;\n",
              "  }\n",
              "\n",
              "  .colab-df-spinner {\n",
              "    border: 2px solid var(--fill-color);\n",
              "    border-color: transparent;\n",
              "    border-bottom-color: var(--fill-color);\n",
              "    animation:\n",
              "      spin 1s steps(1) infinite;\n",
              "  }\n",
              "\n",
              "  @keyframes spin {\n",
              "    0% {\n",
              "      border-color: transparent;\n",
              "      border-bottom-color: var(--fill-color);\n",
              "      border-left-color: var(--fill-color);\n",
              "    }\n",
              "    20% {\n",
              "      border-color: transparent;\n",
              "      border-left-color: var(--fill-color);\n",
              "      border-top-color: var(--fill-color);\n",
              "    }\n",
              "    30% {\n",
              "      border-color: transparent;\n",
              "      border-left-color: var(--fill-color);\n",
              "      border-top-color: var(--fill-color);\n",
              "      border-right-color: var(--fill-color);\n",
              "    }\n",
              "    40% {\n",
              "      border-color: transparent;\n",
              "      border-right-color: var(--fill-color);\n",
              "      border-top-color: var(--fill-color);\n",
              "    }\n",
              "    60% {\n",
              "      border-color: transparent;\n",
              "      border-right-color: var(--fill-color);\n",
              "    }\n",
              "    80% {\n",
              "      border-color: transparent;\n",
              "      border-right-color: var(--fill-color);\n",
              "      border-bottom-color: var(--fill-color);\n",
              "    }\n",
              "    90% {\n",
              "      border-color: transparent;\n",
              "      border-bottom-color: var(--fill-color);\n",
              "    }\n",
              "  }\n",
              "</style>\n",
              "\n",
              "  <script>\n",
              "    async function quickchart(key) {\n",
              "      const quickchartButtonEl =\n",
              "        document.querySelector('#' + key + ' button');\n",
              "      quickchartButtonEl.disabled = true;  // To prevent multiple clicks.\n",
              "      quickchartButtonEl.classList.add('colab-df-spinner');\n",
              "      try {\n",
              "        const charts = await google.colab.kernel.invokeFunction(\n",
              "            'suggestCharts', [key], {});\n",
              "      } catch (error) {\n",
              "        console.error('Error during call to suggestCharts:', error);\n",
              "      }\n",
              "      quickchartButtonEl.classList.remove('colab-df-spinner');\n",
              "      quickchartButtonEl.classList.add('colab-df-quickchart-complete');\n",
              "    }\n",
              "    (() => {\n",
              "      let quickchartButtonEl =\n",
              "        document.querySelector('#df-8baef1f6-3e64-4995-bb85-743ca194633e button');\n",
              "      quickchartButtonEl.style.display =\n",
              "        google.colab.kernel.accessAllowed ? 'block' : 'none';\n",
              "    })();\n",
              "  </script>\n",
              "</div>\n",
              "    </div>\n",
              "  </div>\n"
            ]
          },
          "metadata": {},
          "execution_count": 6
        }
      ]
    },
    {
      "cell_type": "code",
      "source": [],
      "metadata": {
        "id": "3xCw_qALN8kx"
      },
      "execution_count": 6,
      "outputs": []
    },
    {
      "cell_type": "markdown",
      "source": [
        "# Interpreting the result:\n",
        "\n",
        "Following are the p-values for each of the factors in the output:\n",
        "\n",
        "The fertilizer p-value is equal to 0.913305\n",
        "The Watering p-value is equal to 0.990865\n",
        "The Fertilizer * Watering: p-value is equal to 0.904053\n",
        "The p-values for water and sun turn out to be less than 0.05 which implies that the means of both the factors possess a statistically significant effect on plant height. The p-value for the interaction effect (0.904053) is greater than 0.05 which depicts that there is no significant interaction effect between fertilizer frequency and watering frequency."
      ],
      "metadata": {
        "id": "INhVhm2rN_JK"
      }
    },
    {
      "cell_type": "markdown",
      "source": [
        "# Repeated measures ANOVA in\n",
        "Python is used to find whether there is a statistically significant difference exists between the means of three or more groups in which the same subjects displayed in each group.\n",
        "\n",
        "Hypothesis:\n",
        "A repeated-measures ANOVA has the following null and alternative hypotheses involved:\n",
        "\n",
        "The null hypothesis (H0): µ1 = µ2 = µ3 (In other words, population means are equal)\n",
        "The alternative hypothesis: (Ha): According to it, at least one population mean differs from the rest\n",
        "Perform a repeated-measures ANOVA in Python:\n",
        "Let us consider an example, researchers are curious to know if four different engine oils lead to different mileage of cars. In order to test this, they measured the mileage of 5 cars using four different engine oils. Since each car’s mileage is measured by applying each of the four-engine oils one by one so we can use a repeated-measures ANOVA to check if the mean reaction time differs between drugs."
      ],
      "metadata": {
        "id": "eHDZgiJYQbYx"
      }
    },
    {
      "cell_type": "markdown",
      "source": [
        "# Step 1: Load the data"
      ],
      "metadata": {
        "id": "i-FhoSYnRHTS"
      }
    },
    {
      "cell_type": "code",
      "source": [
        "# Import the library\n",
        "import numpy as np\n",
        "import pandas as pd\n",
        "\n",
        "# Create the data\n",
        "dataframe = pd.DataFrame({'Cars': np.repeat([1, 2, 3, 4, 5], 4),\n",
        "                          'Oil': np.tile([1, 2, 3, 4], 5),\n",
        "                          'Mileage': [36, 38, 30, 29,\n",
        "                                      34, 38, 30, 29,\n",
        "                                      34, 28, 38, 32,\n",
        "                                      38, 34, 20, 44,\n",
        "                                      26, 28, 34, 50]})\n",
        "\n",
        "# Print the dataframe\n",
        "print(dataframe)"
      ],
      "metadata": {
        "colab": {
          "base_uri": "https://localhost:8080/"
        },
        "id": "s1uj3xjxQ8El",
        "outputId": "2031808b-0816-4ae5-d58b-3be888a09d10"
      },
      "execution_count": 59,
      "outputs": [
        {
          "output_type": "stream",
          "name": "stdout",
          "text": [
            "    Cars  Oil  Mileage\n",
            "0      1    1       36\n",
            "1      1    2       38\n",
            "2      1    3       30\n",
            "3      1    4       29\n",
            "4      2    1       34\n",
            "5      2    2       38\n",
            "6      2    3       30\n",
            "7      2    4       29\n",
            "8      3    1       34\n",
            "9      3    2       28\n",
            "10     3    3       38\n",
            "11     3    4       32\n",
            "12     4    1       38\n",
            "13     4    2       34\n",
            "14     4    3       20\n",
            "15     4    4       44\n",
            "16     5    1       26\n",
            "17     5    2       28\n",
            "18     5    3       34\n",
            "19     5    4       50\n"
          ]
        }
      ]
    },
    {
      "cell_type": "code",
      "source": [
        "import seaborn as sns\n",
        "import matplotlib.pyplot as plt\n",
        "\n",
        "sns.histplot(dataframe, bins=10, stat=\"density\", kde=True,kde_kws=dict(cut=3),alpha=.4, edgecolor=(1, 1, 1, .4))\n",
        "\n",
        "#plt.legend()\n",
        "plt.show()"
      ],
      "metadata": {
        "colab": {
          "base_uri": "https://localhost:8080/",
          "height": 430
        },
        "id": "mXgE50_-Xqq4",
        "outputId": "905c0987-daff-4e38-c466-480d3c76991d"
      },
      "execution_count": 60,
      "outputs": [
        {
          "output_type": "display_data",
          "data": {
            "text/plain": [
              "<Figure size 640x480 with 1 Axes>"
            ],
            "image/png": "[encoded data removed]"
          },
          "metadata": {}
        }
      ]
    },
    {
      "cell_type": "markdown",
      "source": [
        "# Step 2: Conduct the repeated measures ANOVA.\n",
        "\n",
        "Python provides us AnovaRM() function from the statsmodels library to measure repeated measures ANOVA."
      ],
      "metadata": {
        "id": "3PRCxyoWRV8P"
      }
    },
    {
      "cell_type": "code",
      "source": [
        "  # Conduct the repeated measures ANOVA\n",
        "print(AnovaRM(data=dataframe, depvar='Mileage',\n",
        "              subject='Cars', within=['Oil']).fit())"
      ],
      "metadata": {
        "colab": {
          "base_uri": "https://localhost:8080/"
        },
        "id": "3t4rO68PRGIU",
        "outputId": "41e5a1ae-adeb-47a8-ecf3-a5d72ab1434c"
      },
      "execution_count": 61,
      "outputs": [
        {
          "output_type": "stream",
          "name": "stdout",
          "text": [
            "              Anova\n",
            "=================================\n",
            "    F Value Num DF  Den DF Pr > F\n",
            "---------------------------------\n",
            "Oil  0.5679 3.0000 12.0000 0.6466\n",
            "=================================\n",
            "\n"
          ]
        }
      ]
    },
    {
      "cell_type": "markdown",
      "source": [
        "# Step 3: Analyse the results.\n",
        "\n",
        "In this example, the F test-statistic comes out to be equal to 0.5679 and the corresponding p-value is 0.6466. Since this p-value is not less than 0.05, we cannot reject the null hypothesis and conclude that there is a not statistically significant difference in mean response times between the four-engine oils.\n",
        "\n",
        "# Step 4: Report the outcome.\n",
        "\n",
        "Let us report the result now: A one-way repeated measures ANOVA is conducted on 5 individuals to interpret the effect of four different engine oils on the mileage. Results showed that the type of drug used led to statistically significant differences in response time (F(3, 12) = 0.5679, p < 0.6466)."
      ],
      "metadata": {
        "id": "pgLgiC3NRogB"
      }
    },
    {
      "cell_type": "code",
      "source": [
        "import matplotlib.pyplot as plt\n",
        "import numpy as np\n",
        "from scipy import stats\n",
        "\n",
        "x=np.arange(-4,4,0.1)\n",
        "df=10\n",
        "t=stats.t.pdf(x,df=df)\n",
        "\n",
        "t_left=[]\n",
        "x_left=[]\n",
        "for xx,tt in zip(x,t):\n",
        "  if tt < 0.05 and xx < 0:\n",
        "    t_left.append(tt)\n",
        "    x_left.append(xx)\n",
        "\n",
        "t_right=[]\n",
        "x_right=[]\n",
        "for xx,tt in zip(x,t):\n",
        "  if tt < 0.05 and xx > 0:\n",
        "    t_right.append(tt)\n",
        "    x_right.append(xx)\n",
        "\n",
        "\n",
        "plt.plot(x,t,label=f'degrees of fredom {df}',linewidth=2,color=\"black\")\n",
        "plt.fill_between(x_left,0,t_left,color=\"red\")\n",
        "plt.fill_between(x_right,0,t_right,color='red')\n",
        "plt.legend()\n",
        "plt.xlabel(\"t-value\")\n",
        "plt.ylabel(\"PDF\")\n"
      ],
      "metadata": {
        "colab": {
          "base_uri": "https://localhost:8080/",
          "height": 466
        },
        "id": "D8s-oial71t6",
        "outputId": "1d75bd31-4a17-47f2-a3fa-e165b1c3eaa9"
      },
      "execution_count": 1,
      "outputs": [
        {
          "output_type": "execute_result",
          "data": {
            "text/plain": [
              "Text(0, 0.5, 'PDF')"
            ]
          },
          "metadata": {},
          "execution_count": 1
        },
        {
          "output_type": "display_data",
          "data": {
            "text/plain": [
              "<Figure size 640x480 with 1 Axes>"
            ],
            "image/png": "[encoded data removed]"
          },
          "metadata": {}
        }
      ]
    },
    {
      "cell_type": "code",
      "source": [
        "N1=5 ; off1 = 0.1 ; w1=0.4\n",
        "N2=4 ; off2 = 0.6 ; w2=0.3\n",
        "N3=6 ; off3 = 0.3 ; w3=0.2\n",
        "\n",
        "data_1 = w1*np.random.rand(N1)+off1\n",
        "data_2 = w2*np.random.rand(N2)+off2\n",
        "data_3 = w3*np.random.rand(N3)+off3\n",
        "\n",
        "F_test, p_value =stats.f_oneway(data_1,data_2,data_3)\n",
        "\n",
        "print(\"t-test: \",F_test,\" -> P-value: \",p_value)\n"
      ],
      "metadata": {
        "colab": {
          "base_uri": "https://localhost:8080/"
        },
        "id": "s1ebw010Dq64",
        "outputId": "971fdfba-3a16-461b-a9c8-a9492c414f52"
      },
      "execution_count": 2,
      "outputs": [
        {
          "output_type": "stream",
          "name": "stdout",
          "text": [
            "t-test:  33.98973440162342  -> P-value:  1.1408180502905759e-05\n"
          ]
        }
      ]
    },
    {
      "cell_type": "code",
      "source": [
        "import seaborn as sns\n",
        "import matplotlib.pyplot as plt\n",
        "\n",
        "sns.histplot(data_1, bins=10, label='#1',stat=\"density\", kde=True,kde_kws=dict(cut=3),alpha=.4, edgecolor=(1, 1, 1, .4))\n",
        "sns.histplot(data_2, bins=10, label='#2',stat=\"density\", kde=True,kde_kws=dict(cut=3),alpha=.4, edgecolor=(1, 1, 1, .4))\n",
        "sns.histplot(data_3, bins=10, label='#3',stat=\"density\", kde=True,kde_kws=dict(cut=3),alpha=.4, edgecolor=(1, 1, 1, .4))\n",
        "\n",
        "plt.legend()\n",
        "plt.show()\n",
        "\n"
      ],
      "metadata": {
        "colab": {
          "base_uri": "https://localhost:8080/",
          "height": 431
        },
        "id": "ml6UIx_dEnm6",
        "outputId": "457682fe-1918-4d05-b853-3fd415c9d0d0"
      },
      "execution_count": 3,
      "outputs": [
        {
          "output_type": "display_data",
          "data": {
            "text/plain": [
              "<Figure size 640x480 with 1 Axes>"
            ],
            "image/png": "[encoded data removed]"
          },
          "metadata": {}
        }
      ]
    },
    {
      "cell_type": "markdown",
      "source": [],
      "metadata": {
        "id": "IAqONYfo9wwI"
      }
    },
    {
      "cell_type": "code",
      "source": [
        "print(\"Pair 1-2\")\n",
        "t_test, p_value = stats.ttest_ind(data_1, data_2)\n",
        "print(t_test,p_value)\n",
        "\n",
        "print(\"Pair 1-3\")\n",
        "t_test, p_value = stats.ttest_ind(data_1, data_3)\n",
        "print(t_test,p_value)\n",
        "\n",
        "print(\"Pair 2-3\")\n",
        "t_test, p_value = stats.ttest_ind(data_2, data_3)\n",
        "print(t_test,p_value)\n",
        "\n"
      ],
      "metadata": {
        "colab": {
          "base_uri": "https://localhost:8080/"
        },
        "id": "yqclrZlXFF0U",
        "outputId": "c0b83ae7-3fcb-421e-f926-d107e8db31f2"
      },
      "execution_count": 4,
      "outputs": [
        {
          "output_type": "stream",
          "name": "stdout",
          "text": [
            "Pair 1-2\n",
            "-5.742520115496465 0.0007038061297225586\n",
            "Pair 1-3\n",
            "-0.1714817884006693 0.8676386253354877\n",
            "Pair 2-3\n",
            "8.875691980021973 2.0523904830527842e-05\n"
          ]
        }
      ]
    },
    {
      "cell_type": "code",
      "source": [
        "# Tukeys test\n",
        "\n",
        "from statsmodels.stats.multicomp import pairwise_tukeyhsd\n",
        "import pandas as pd\n",
        "\n",
        "data_1=pd.DataFrame({\"data-set\": len(data_1)*[\"#1\"], \"data\":data_1 })\n",
        "data_2=pd.DataFrame({\"data-set\": len(data_2)*[\"#2\"],  \"data\":data_2 })\n",
        "data_3=pd.DataFrame({\"data-set\": len(data_3)*[\"#3\"], \"data\":data_3 })\n",
        "\n",
        "data=pd.concat([data_1,data_2,data_3],ignore_index=True)\n",
        "tukey = pairwise_tukeyhsd(endog=data['data'],     # Data\n",
        "                          groups=data['data-set'],   # Groups\n",
        "                          alpha=0.05)          # Significance level\n",
        "\n",
        "tukey.plot_simultaneous()    # Plot group confidence intervals\n",
        "\n",
        "tukey.summary()              # See test summary"
      ],
      "metadata": {
        "colab": {
          "base_uri": "https://localhost:8080/",
          "height": 667
        },
        "id": "B4i3_6_iFyLJ",
        "outputId": "ff5bfcd8-6640-4c67-cbe4-808a951a44bc"
      },
      "execution_count": 5,
      "outputs": [
        {
          "output_type": "execute_result",
          "data": {
            "text/plain": [
              "<class 'statsmodels.iolib.table.SimpleTable'>"
            ],
            "text/html": [
              "<table class=\"simpletable\">\n",
              "<caption>Multiple Comparison of Means - Tukey HSD, FWER=0.05</caption>\n",
              "<tr>\n",
              "  <th>group1</th> <th>group2</th> <th>meandiff</th> <th>p-adj</th>  <th>lower</th>   <th>upper</th>  <th>reject</th>\n",
              "</tr>\n",
              "<tr>\n",
              "    <td>#1</td>     <td>#2</td>    <td>0.4615</td>   <td>0.0</td>  <td>0.2917</td>  <td>0.6313</td>   <td>True</td> \n",
              "</tr>\n",
              "<tr>\n",
              "    <td>#1</td>     <td>#3</td>    <td>0.0089</td>  <td>0.987</td> <td>-0.1444</td> <td>0.1621</td>   <td>False</td>\n",
              "</tr>\n",
              "<tr>\n",
              "    <td>#2</td>     <td>#3</td>    <td>-0.4526</td>  <td>0.0</td>  <td>-0.616</td>  <td>-0.2893</td>  <td>True</td> \n",
              "</tr>\n",
              "</table>"
            ],
            "text/latex": "\\begin{center}\n\\begin{tabular}{ccccccc}\n\\toprule\n\\textbf{group1} & \\textbf{group2} & \\textbf{meandiff} & \\textbf{p-adj} & \\textbf{lower} & \\textbf{upper} & \\textbf{reject}  \\\\\n\\midrule\n      \\#1       &       \\#2       &       0.4615      &      0.0       &     0.2917     &     0.6313     &       True       \\\\\n      \\#1       &       \\#3       &       0.0089      &     0.987      &    -0.1444     &     0.1621     &      False       \\\\\n      \\#2       &       \\#3       &      -0.4526      &      0.0       &     -0.616     &    -0.2893     &       True       \\\\\n\\bottomrule\n\\end{tabular}\n%\\caption{Multiple Comparison of Means - Tukey HSD, FWER=0.05}\n\\end{center}"
          },
          "metadata": {},
          "execution_count": 5
        },
        {
          "output_type": "display_data",
          "data": {
            "text/plain": [
              "<Figure size 1000x600 with 1 Axes>"
            ],
            "image/png": "[encoded data removed]"
          },
          "metadata": {}
        }
      ]
    },
    {
      "cell_type": "code",
      "source": [],
      "metadata": {
        "id": "1W67YnLhF8hV"
      },
      "execution_count": null,
      "outputs": []
    },
    {
      "cell_type": "markdown",
      "source": [
        "# Final task!\n",
        "Generate a population of 30 dogs of an imaginary bread. The following rows of data should be present and stored in a pandas data-frame:\n",
        "\"Bread\": str, name of you bread \"Age\" : integer, age of the dog when it died (I know it is a bit sad...) \"Fur\" : float [0,1] , lenght of fur 0=very short, 1=very long \"Color\" : float [0,1] , 0=light color, 1=dark color\n",
        "\n",
        "Test a claim on you generated data. Can we claim that dogs of our bread become older than 8 years?\n",
        "\n",
        "Save your data as an csv-file and share with at-least two peers to make a larger pool of data.\n",
        "\n",
        "Make statistical ANOVA and pair-wise t-tests of your \"pooled\" data and comment amd reflect on your results. E.g. test a claim if bread A is darker than bread B.\n"
      ],
      "metadata": {
        "id": "u9kOUdHPGDwG"
      }
    },
    {
      "cell_type": "markdown",
      "source": [],
      "metadata": {
        "id": "_GaEzY8rKuAC"
      }
    }
  ]
}
