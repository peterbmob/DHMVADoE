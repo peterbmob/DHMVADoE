{
  "nbformat": 4,
  "nbformat_minor": 0,
  "metadata": {
    "colab": {
      "provenance": [],
      "authorship_tag": "ABX9TyNkKi5JB1K/UjdJHUb3kaKU",
      "include_colab_link": true
    },
    "kernelspec": {
      "name": "python3",
      "display_name": "Python 3"
    },
    "language_info": {
      "name": "python"
    }
  },
  "cells": [
    {
      "cell_type": "markdown",
      "metadata": {
        "id": "view-in-github",
        "colab_type": "text"
      },
      "source": [
        "<a href=\"https://colab.research.google.com/github/peterbmob/DHMVADoE/blob/main/Excercises/PLS.ipynb\" target=\"_parent\"><img src=\"https://colab.research.google.com/assets/colab-badge.svg\" alt=\"Open In Colab\"/></a>"
      ]
    },
    {
      "cell_type": "markdown",
      "source": [
        "# Partial Least Squares - a small example\n",
        "\n",
        "We want to predict the subjective evaluation of a set of 5 wines. The dependent variables that we want to predict for each wine are its likeability, and how\n",
        "well it goes with meat, or dessert (as rated by a panel of experts) (see Table 1). The predictors are the price, the sugar, alcohol, and acidity content of each wine (see Table 2).\n",
        "\n",
        "Table 1 The **Y** matrix of dependent variables.  \n",
        "\n",
        "| Wine    | Hedonic      |  Goes with Meat |  Goes swith dessert |\n",
        "| ------------- | ------------- |------------- | ------------- |\n",
        "| 1 | 14 | 7 |  8 |\n",
        "| 2 | 10 | 7 |  6 |\n",
        "| 3 | 8  | 5 |  5 |\n",
        "| 4 | 2  | 4 |  7 |\n",
        "| 5 | 6  | 2 |  4 |\n",
        "\n",
        "Table 2 The **X** matrix of independent variables (predictors).  \n",
        "\n",
        "| Wine    | Price      |  Sugar |  Alcohol | Acidity |  \n",
        "| ------------- | ------------- |------------- | ------------- | ------------- |\n",
        "| 1 | 7 | 7 |  13 |  7 |  \n",
        "| 2 | 4 | 3 |  14 |  7 |\n",
        "| 3 | 10  | 5 | 12 | 5 |\n",
        "| 4 | 16  | 7 | 11|  3 |\n",
        "| 5 | 13  | 3 | 10  | 3 |\n"
      ],
      "metadata": {
        "id": "0Ov9TsyiOSV4"
      }
    },
    {
      "cell_type": "code",
      "execution_count": null,
      "metadata": {
        "id": "vlmfcCH_ORjf"
      },
      "outputs": [],
      "source": []
    }
  ]
}