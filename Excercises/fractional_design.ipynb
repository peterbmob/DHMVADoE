{
  "cells": [
    {
      "cell_type": "markdown",
      "metadata": {
        "id": "view-in-github",
        "colab_type": "text"
      },
      "source": [
        "<a href=\"https://colab.research.google.com/github/peterbmob/DHMVADoE/blob/main/Excercises/fractional_design.ipynb\" target=\"_parent\"><img src=\"https://colab.research.google.com/assets/colab-badge.svg\" alt=\"Open In Colab\"/></a>"
      ]
    },
    {
      "cell_type": "markdown",
      "id": "7e337631",
      "metadata": {
        "id": "7e337631"
      },
      "source": [
        "#  Fractional 2$^k$  Factorial Designs\n",
        "Motivation\n",
        "The prior section showed an example of what an experimental design might like look like for 6 variables. However, this resulted in a  2$^6$=64\n",
        "  experiment design campaign. This is potentially a major issue - if my experiments take 6 hours, and have to be staggered over working hours on weekdays, you're looking at almost 90 days turnaround time, assuming each experiment is carried out flawlessly. This is simply not a realistic view of experimentation.\n",
        "\n",
        "In addition, we saw that a three-coefficient model captured nearly as much detail as a 64-coefficient model. By reducing the number of input variables we looked at, we turned certain experiments into replicates (because the only thing changed bewteen them were insignificant variables or variable combinations).\n",
        "\n",
        "But we can halve or quarter our effort, and substantially improve our effectiveness in the lab, by carefully selecting experiments at each stage of the experiment to reveal a maximum amount of information, and avoiding as much as possible these kinds of duplicate experiments, through a fractional factorial design."
      ]
    },
    {
      "cell_type": "code",
      "execution_count": null,
      "id": "e4fd5c5a",
      "metadata": {
        "id": "e4fd5c5a"
      },
      "outputs": [],
      "source": [
        "import pandas as pd\n",
        "import itertools\n",
        "import numpy as np\n",
        "import seaborn as sns\n",
        "import pylab\n",
        "\n",
        "import scipy.stats as stats\n",
        "import statsmodels.api as sm"
      ]
    },
    {
      "cell_type": "markdown",
      "id": "28111ed7",
      "metadata": {
        "id": "28111ed7"
      },
      "source": [
        "After re-casting the problem in a general form, we begin with the experimental design matrix. If we were to construct the full factorial for our  2$^6$ factorial example, we would again have 64 rows in our experimental design matrix dataframe, corresponding to 64 experiments to run."
      ]
    },
    {
      "cell_type": "code",
      "execution_count": null,
      "id": "4fe9f68d",
      "metadata": {
        "id": "4fe9f68d"
      },
      "outputs": [],
      "source": [
        "column_labs = ['x%d'%(i+1) for i in range(6)]\n",
        "encoded_inputs = list( itertools.product([-1,1],[-1,1],[-1,1],[-1,1],[-1,1],[-1,1]) )\n",
        "\n",
        "# Create the experiment design table (same as the book):\n",
        "doe=pd.DataFrame(encoded_inputs)\n",
        "doe=doe[doe.columns[::-1]]\n",
        "doe.columns=['x%d'%(i+1) for i in range(6)]\n",
        "\n",
        "print(len(doe))"
      ]
    },
    {
      "cell_type": "markdown",
      "id": "ac120070",
      "metadata": {
        "id": "ac120070"
      },
      "source": [
        "## Design Matrix\n",
        "Let's talk a bit more about the design matrix. Each column of the design matrix corresponds to a unique coded input variable value (−1,+1). But each experiment also has a corresponding coded value for each two-variable interaction  x$_i$,x$_j$, and for each three-variable interaction  x$_k$,x$_m$,x$_n$, and so on.\n",
        "\n",
        "These interactions are simply the product of each coded variable value. For example, if\n",
        "\n",
        "\\begin{equation}\n",
        "x_1=−1 \\\\\n",
        "\\end{equation}\n",
        "\n",
        "\\begin{equation}\n",
        "x_2=+1 \\\\\n",
        "\\end{equation}\n",
        "\n",
        "\\begin{equation}\n",
        "x_3=+1\n",
        "\\end{equation}\n",
        "\n",
        "then two-variable interaction effects can be computed as:\n",
        "\n",
        "\\begin{equation}\n",
        "x_{12}=−1\\times+1 = -1 \\\\\n",
        "\\end{equation}\n",
        "\n",
        "\\begin{equation}\n",
        "x_{13}=−1\\times+1 = −1 \\\\\n",
        "\\end{equation}\n",
        "\n",
        "\\begin{equation}\n",
        "x_{23}=+1\\times+1 = +1 \\\\\n",
        "\\end{equation}\n",
        "\n",
        "and three-variable interaction effects are:\n",
        "\n",
        "\\begin{equation}\n",
        "x_{123}=−1\\times−1\\times+1=+1\n",
        "\\end{equation}\n",
        "\n",
        "Now we can add new columns to our experimental design matrix dataframe, representing coded values for higher-order interaction effects:"
      ]
    },
    {
      "cell_type": "code",
      "execution_count": null,
      "id": "fcbfc8ec",
      "metadata": {
        "id": "fcbfc8ec"
      },
      "outputs": [],
      "source": [
        "doe['x1-x2-x3-x4'] = doe.apply( lambda z : z['x1']*z['x2']*z['x3']*z['x4'] , axis=1)\n",
        "doe['x4-x5-x6']    = doe.apply( lambda z : z['x4']*z['x5']*z['x6'] , axis=1)\n",
        "doe['x2-x4-x5']    = doe.apply( lambda z : z['x2']*z['x4']*z['x5'] , axis=1)\n",
        "\n",
        "doe[0:10]"
      ]
    },
    {
      "cell_type": "markdown",
      "id": "b3e84298",
      "metadata": {
        "id": "b3e84298"
      },
      "source": [
        "The multi-variable columns can be used to fractionate our design."
      ]
    },
    {
      "cell_type": "markdown",
      "id": "dd952bfb",
      "metadata": {
        "id": "dd952bfb"
      },
      "source": [
        "## Half Factorial\n",
        "Suppose we pick a high-order interaction effect at random - e.g., x$_1\\times$x$_2\\times$x$_3\\times$x$_4$ - and assume it will be unimportant. Our assumption allows us to cut out any experiments that are intended to give us information about the effect of  x$_1$x$_2$x$_3$x$_4$.\n",
        "\n",
        "For any two groups of experiments, if one group has\n",
        "\\begin{equation}\n",
        "x_1x_2x_3x_4=+1\n",
        "\\end{equation}\n",
        "\n",
        "and the other group has\n",
        "\\begin{equation}\n",
        "x_1x_2x_3x_4=−1\n",
        "\\end{equation}\n",
        "\n",
        "then based on our assumption that that interaction effect will be unimportant, one of those two groups can be thrown out.\n",
        "\n",
        "Fortunately, the first time a variable is eliminated, no matter which variable it is, the number of experiments is cut in half. Further eliminations of variables continue to cut the number of experiments in half. So a six-factor experimental design could be whittled down as follows:\n",
        "\n",
        "Six-factor, two-level experiment design:\n",
        "\n",
        "- n=2,  k=6,  2$^6$ experimental design\n",
        "- Full factorial:  2$^6$=64 experiments\n",
        "- Half factorial:  2$^{6−1}$=32 experiments\n",
        "- $\\frac{1}{4}$ Fractional factorial:  2$^{6−2}$=16 experiments\n",
        "- $\\frac{1}{8}$ Fractional factorial:  2$^{6−3}$=8  experiments\n",
        "- $\\frac{1}{16}$ Fractional factorial:  2$^{6−4}$=4  experiments\n",
        "\n",
        "In general, for an **n$^k$ experiment design** (n factor, k level), a **$\\frac{1}{2p}$ fractional factorial** can be defined as:\n",
        "- $\\frac{1}{2p}$ Fractional factorial:  2$^{n−p}$  experiments\n",
        "\n",
        "Note that as the fractional factorial gets narrower, and the experiments get fewer, the number of aliased interaction effects gets larger, until not even interaction effects can be distinguished, but only main effects. (Screening designs, such as Plackett-Burman designs, are based on this idea of highly-fractionated experiment design.)\n",
        "\n",
        "For now, let's look at the half factorial: 32 experiments, with the reduction in variables coming from aliasing the interaction effect  x$_1$x$_2$x$_3$x$_4$:"
      ]
    },
    {
      "cell_type": "code",
      "execution_count": null,
      "id": "9ff76478",
      "metadata": {
        "id": "9ff76478"
      },
      "outputs": [],
      "source": [
        "print(len( doe[doe['x1-x2-x3-x4']==1] ))"
      ]
    },
    {
      "cell_type": "markdown",
      "id": "f3166d82",
      "metadata": {
        "id": "f3166d82"
      },
      "source": [
        "## Costs and Benefits\n",
        "The benefits are obvious - we've halved the number of experiments our experiment design requires. But at what cost?\n",
        "\n",
        "The first 32 experiments, where  x$_1$x$_2$x$_3$x$_4$=+1, give us information at a positive level of that input variable combination. To get information at a negative level of that input variable combination (i.e.,  x$_1$x$_2$x$_3$x$_4$=−1\n",
        " ), we need 32 additional experiments.\n",
        "\n",
        "Our assumption is that changing x$_1$x$_2$x$_3$x$_4$ from high to low will have no effect on the observable y.\n",
        "\n",
        "This also modifies the information we get about higher-order interaction effects. For example, we've assumed:\n",
        "\\begin{equation}\n",
        "x_1x_2x_3x_4=+1\n",
        "\\end{equation}\n",
        "\n",
        "We can use this identity to figure out what information we're missing when we cut out the 32 experiments. Our assumption about the fourth-order interaction also changes fifth- and sixth-order interactions:\n",
        "\n",
        "\\begin{equation}\n",
        "(x_1x_2x_3x_4)=(+1) \\\\\n",
        "\\end{equation}\n",
        "\n",
        "\\begin{equation}\n",
        "(x_1x_2x_3x_4)x_5=(+1)x_5 \\\\\n",
        "\\end{equation}\n",
        "\n",
        "\\begin{equation}\n",
        "x_1x_2x_3x_4x_5=x_5\n",
        "\\end{equation}\n",
        "\n",
        "meaning the fifth-order interaction effect x$_1$x$_2$x$_3$x$_4$x$_5$ has been aliased with the first-order main effect x$_5$. This is a safe assumption since it is extremely unlikely that a fifth-order interaction effect could be confounded with a first-order main effect. We can derive other relations, using the fact that any factor squared is equivalent to (+1), so that:\n",
        "\n",
        "\\begin{equation}\n",
        "(x_1x_2x_3x_4)=+1 \\\\\n",
        "\\end{equation}\n",
        "\n",
        "\\begin{equation}\n",
        "(x_1x_2x_3x_4)x_1=(+1)x_1 \\\\\n",
        "\\end{equation}\n",
        "\n",
        "\\begin{equation}\n",
        "(x^2_1x_2x_3x_4)=(+1)x_1 \\\\\n",
        "\\end{equation}\n",
        "\n",
        "\\begin{equation}\n",
        "x_2x_3x_4=x_1\n",
        "\\end{equation}\n",
        "\n",
        "The sequence of variables selected as the interaction effect to be used as the experimental design basis is called the generator, and is denoted $I$:\n",
        "\n",
        "\\begin{equation}\n",
        "I=x_1x_2x_3x_4\n",
        "\\end{equation}\n",
        "\n",
        "and we set $I$=+1 or $I$=−1."
      ]
    },
    {
      "cell_type": "code",
      "execution_count": null,
      "id": "0ca0090b",
      "metadata": {
        "id": "0ca0090b"
      },
      "outputs": [],
      "source": [
        "# Defining multiple DOE matrices:\n",
        "\n",
        "# DOE 1 based on identity I = x1 x2 x3 x4\n",
        "doe1 = doe[doe['x1-x2-x3-x4']==1]\n",
        "\n",
        "# DOE 2 based on identity I = x4 x5 x6\n",
        "doe2 = doe[doe['x4-x5-x6']==-1]\n",
        "\n",
        "# DOE 3 based on identity I = x2 x4 x5\n",
        "doe3 = doe[doe['x2-x4-x5']==-1]"
      ]
    },
    {
      "cell_type": "code",
      "execution_count": null,
      "id": "2386192a",
      "metadata": {
        "id": "2386192a"
      },
      "outputs": [],
      "source": [
        "doe1[column_labs].T"
      ]
    },
    {
      "cell_type": "code",
      "execution_count": null,
      "id": "a5d398e4",
      "metadata": {
        "id": "a5d398e4"
      },
      "outputs": [],
      "source": [
        "doe2[column_labs].T"
      ]
    },
    {
      "cell_type": "code",
      "execution_count": null,
      "id": "b1840fe3",
      "metadata": {
        "id": "b1840fe3"
      },
      "outputs": [],
      "source": [
        "doe3[column_labs].T"
      ]
    },
    {
      "cell_type": "markdown",
      "id": "2cdf79dd",
      "metadata": {
        "id": "2cdf79dd"
      },
      "source": [
        "Each of the dataframes above represents a different fractional factorial design."
      ]
    },
    {
      "cell_type": "markdown",
      "id": "8e22e67e",
      "metadata": {
        "id": "8e22e67e"
      },
      "source": [
        "## $\\frac{1}{4}$ Fractional Designs\n",
        "To further reduce the number of experiments, two identities can be used. The number of experiments is cut in half for each identity. We already have one identity,\n",
        "\\begin{equation}\n",
        "I=x_1x_2x_3x_4=+1\n",
        "\\end{equation}\n",
        "\n",
        "now let's define another one:\n",
        "\\begin{equation}\n",
        "I_2=x_4x_5x_6=1\n",
        "\\end{equation}\n",
        "\n",
        "Our resulting factorial matrix can be reduced the same way. In Python, we use the logical_and function to ensure our two conditions are satisfied."
      ]
    },
    {
      "cell_type": "code",
      "execution_count": null,
      "id": "9b050d72",
      "metadata": {
        "id": "9b050d72"
      },
      "outputs": [],
      "source": [
        "quarter_fractional_doe = doe[ np.logical_and( doe['x1-x2-x3-x4']==1, doe['x4-x5-x6']==1 ) ]\n",
        "print(\"Number of experiments: %d\"%(len(quarter_fractional_doe[column_labs])))\n",
        "quarter_fractional_doe[column_labs].T"
      ]
    },
    {
      "cell_type": "markdown",
      "id": "5af8e688",
      "metadata": {
        "id": "5af8e688"
      },
      "source": [
        "With the quarter-fractional factorial design, what information do we lose? We know already which interaction effects are aliased with main effects:\n",
        "\n",
        "\\begin{equation}\n",
        "x_4x_5x_6=(+1) \\\\\n",
        "\\end{equation}\n",
        "\n",
        "\\begin{equation}\n",
        "(x_4x_5x_6)x_1=(+1)x_1 \\\\\n",
        "\\end{equation}\n",
        "\n",
        "\\begin{equation}\n",
        "x_1x_4x_5x_6=x_1 \\\\\n",
        "\\end{equation}\n",
        "\n",
        "\\begin{equation}\n",
        "x_2x_4x_5x_6=x_2 \\\\\n",
        "\\end{equation}\n",
        "\n",
        "\\begin{equation}\n",
        "x_3x_4x_5x_6=x_3\n",
        "\\end{equation}\n",
        "\n",
        "We can use this information to design our experiments to cover particular interaction effects we know to be important, or ignore others we don't expect to be significant."
      ]
    },
    {
      "cell_type": "markdown",
      "source": [
        "## Estimability and Aliasing\n",
        "\n",
        "Any factorial effect in an alias string is only estimable if all other effects in that string are assumed zero38. Wd can study this further by introducing the alias matrix.\n",
        "\n",
        "**Definition** Assume a linear data generating model\n",
        "$$\n",
        "\\begin{equation}\n",
        "y = X_1β_1 + X_2β_2 + ε,\n",
        "\\end{equation}\n",
        "$$\n",
        "where y is an n-vector of responses, $X_1$ and $X_2$ are n×p$_1$ and n×p$_2$ model matrices,respectively, with $β_1$ and $β_2$ corresponding  p$_1$- and p$_2$-vectors of parameters and random errors ε $N(0,I_nσ^2$).\n",
        "\n",
        "If the submodel\n",
        "$$\n",
        "\\begin{equation}\n",
        "y = X_1β_1 + ε,\n",
        "\\end{equation}\n",
        "$$\n",
        "is fitted to the response data, then  \n",
        "$$\n",
        "\\begin{equation}\n",
        "\\hat{\\beta}_1 =(X^T_1X_1)^{-1}X^T_1y,\n",
        "\\end{equation}\n",
        "$$\n",
        "and\n",
        "$$\n",
        "\\begin{equation}\n",
        "E(\\hat{\\beta}_1) =β_1+(X^T_1X_1)^{-1}X^T_1X_2β_2=β_1+Aβ_2,\n",
        "\\end{equation}\n",
        "$$\n",
        "where\n",
        "$$\n",
        "\\begin{equation}\n",
        "A=(X^T_1X_1)^{-1}X^T_1X_2\n",
        "\\end{equation}\n",
        "$$\n",
        "is the alias matrix.\n",
        "\n",
        "We also introduce an alternative definition of estimability.\n",
        "\n",
        "**Definition** A linear combination of parameters $c^Tθ$ is estimable if and only if there exists a linear combination of the responses $a^Ty$ such that\n",
        "$$\n",
        "\\begin{equation}\n",
        "E(a^Ty)=c^Tθ.\n",
        "\\end{equation}\n",
        "$$\n",
        "\n",
        "Now assume that using a two-level fractional factorial design, we will estimate one factorial effect (equivalently, the corresponding regression coefficient) from each alias string. Then the **A** matrix will have entries 0, -1 or +1, depending on the defining relation of the fraction. Each regression parameter will be biased by the parameters corresponding to other factorial effects in the alias string. Hence, by the **Definition**, each factorial effect is only estimable under the assumption that all other factorial effects in the alias string are zero.\n",
        "\n",
        "The Dexpy package allows for analysis of aliasing."
      ],
      "metadata": {
        "id": "eb2tHVj3zvcF"
      },
      "id": "eb2tHVj3zvcF"
    },
    {
      "cell_type": "code",
      "source": [
        "!pip install dexpy"
      ],
      "metadata": {
        "id": "xy60m4cPzuzs"
      },
      "id": "xy60m4cPzuzs",
      "execution_count": null,
      "outputs": []
    },
    {
      "cell_type": "code",
      "source": [
        "import dexpy.factorial\n",
        "design = dexpy.factorial.build_factorial(4, 8)\n",
        "aliases, alias_coefs = dexpy.alias.alias_list(\"(X1+X2+X3+X4)**2\", design)\n",
        "print(aliases)"
      ],
      "metadata": {
        "id": "GiCu7rki6G8P"
      },
      "id": "GiCu7rki6G8P",
      "execution_count": null,
      "outputs": []
    },
    {
      "cell_type": "markdown",
      "source": [
        "# Other designs\n",
        "https://github.com/danieleongari/awesome-design-of-experiments lists many different DOE packages in python.\n",
        "[DOEPY](https://doepy.readthedocs.io/en/latest/) and [pydoe](https://pypi.org/project/pyDOE/) have many other experimental designs.  \n",
        "\n",
        "Install doepy using pip"
      ],
      "metadata": {
        "id": "eyXy0h3vf-ev"
      },
      "id": "eyXy0h3vf-ev"
    },
    {
      "cell_type": "code",
      "source": [
        "!pip install doepy"
      ],
      "metadata": {
        "id": "A3Lpo67WhDpW"
      },
      "id": "A3Lpo67WhDpW",
      "execution_count": null,
      "outputs": []
    },
    {
      "cell_type": "markdown",
      "source": [
        "## Load the moodules we need"
      ],
      "metadata": {
        "id": "t-Cjyz5ZhMvK"
      },
      "id": "t-Cjyz5ZhMvK"
    },
    {
      "cell_type": "code",
      "source": [
        "from doepy import read_write, build"
      ],
      "metadata": {
        "id": "STjI253GhRQU"
      },
      "id": "STjI253GhRQU",
      "execution_count": null,
      "outputs": []
    },
    {
      "cell_type": "markdown",
      "source": [
        "### Full factorial design\n",
        "Let’s say you have a design problem with the following table for the parameters range. Imagine this as a generic example of a checmical process in a manufacturing plant. You have 3 levels of Pressure, 3 levels of Temperature, 2 levels of FlowRate, and 2 levels of Time."
      ],
      "metadata": {
        "id": "YU8BkzjDhXDJ"
      },
      "id": "YU8BkzjDhXDJ"
    },
    {
      "cell_type": "code",
      "source": [
        "build.full_fact(\n",
        "{'Pressure':[40,55,70],\n",
        "'Temperature':[290, 320, 350],\n",
        "'Flow rate':[0.2,0.4],\n",
        "'Time':[5,8]}\n",
        ")"
      ],
      "metadata": {
        "id": "ICGAYMLQhS83"
      },
      "id": "ICGAYMLQhS83",
      "execution_count": null,
      "outputs": []
    },
    {
      "cell_type": "markdown",
      "source": [
        "### Latin Hypercube design\n",
        "Sometimes, a set of randomized design points within a given range could be attractive for the experimenter to asses the impact of the process variables on the output. Monte Carlo simulations are close example of this approach.\n",
        "\n",
        "However, a Latin Hypercube design is better choice for experimental design rather than building a complete random matrix as it tries to subdivide the sample space in smaller cells and choose only one element out of each subcell. This way, a more uniform spreading’ of the random sample points can be obtained.\n",
        "\n",
        "User can choose the density of sample points. For example, if we choose to generate a Latin Hypercube of 12 experiments from the same input files, that could look like,"
      ],
      "metadata": {
        "id": "VdiFqMBUhnXq"
      },
      "id": "VdiFqMBUhnXq"
    },
    {
      "cell_type": "code",
      "source": [
        "build.space_filling_lhs(\n",
        "{'Pressure':[40,55,70],\n",
        "'Temperature':[290, 320, 350],\n",
        "'Flow rate':[0.2,0.4],\n",
        "'Time':[5,11]},\n",
        "num_samples = 12\n",
        ")"
      ],
      "metadata": {
        "id": "zxL1DjpbhsI5"
      },
      "id": "zxL1DjpbhsI5",
      "execution_count": null,
      "outputs": []
    },
    {
      "cell_type": "markdown",
      "source": [
        "Of course, there is no guarantee that you will get the same matrix if you run this function because this are randomly sampled, but you get the idea!\n",
        "\n",
        "Other functions to try on Try any one of the following designs,\n",
        "\n",
        "- Full factorial: build.full_fact()\n",
        "- 2-level fractional factorial: build.frac_fact_res()\n",
        "- Plackett-Burman: build.plackett_burman()\n",
        "- Sukharev grid: build.sukharev()\n",
        "- Box-Behnken: build.box_behnken()\n",
        "- Box-Wilson (Central-composite) with center-faced option: build.central_composite() with face='ccf' option\n",
        "- Box-Wilson (Central-composite) with center-inscribed option: build.central_composite() with face='cci' option\n",
        "- Box-Wilson (Central-composite) with center-circumscribed option: build.central_composite() with face='ccc' option\n",
        "- Latin hypercube (simple): build.lhs()\n",
        "- Latin hypercube (space-filling): build.space_filling_lhs()\n",
        "- Random k-means cluster: build.random_k_means()\n",
        "- Maximin reconstruction: build.maximin()\n",
        "- Halton sequence based: build.halton()\n",
        "- Uniform random matrix: build.uniform_random()"
      ],
      "metadata": {
        "id": "RPGCaRAQhute"
      },
      "id": "RPGCaRAQhute"
    },
    {
      "cell_type": "markdown",
      "source": [
        "After perfroming the experiments, we analyze in the way we done in previous tutorials."
      ],
      "metadata": {
        "id": "F7quzC-2iiHa"
      },
      "id": "F7quzC-2iiHa"
    },
    {
      "cell_type": "code",
      "source": [],
      "metadata": {
        "id": "nVzoclTVhuDf"
      },
      "id": "nVzoclTVhuDf",
      "execution_count": null,
      "outputs": []
    }
  ],
  "metadata": {
    "kernelspec": {
      "display_name": "Python 3 (ipykernel)",
      "language": "python",
      "name": "python3"
    },
    "language_info": {
      "codemirror_mode": {
        "name": "ipython",
        "version": 3
      },
      "file_extension": ".py",
      "mimetype": "text/x-python",
      "name": "python",
      "nbconvert_exporter": "python",
      "pygments_lexer": "ipython3",
      "version": "3.9.7"
    },
    "colab": {
      "provenance": [],
      "include_colab_link": true
    }
  },
  "nbformat": 4,
  "nbformat_minor": 5
}