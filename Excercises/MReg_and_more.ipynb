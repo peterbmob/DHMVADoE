{
  "nbformat": 4,
  "nbformat_minor": 0,
  "metadata": {
    "colab": {
      "provenance": [],
      "authorship_tag": "ABX9TyPPD4Cqg5P6NredXaookimU",
      "include_colab_link": true
    },
    "kernelspec": {
      "name": "python3",
      "display_name": "Python 3"
    },
    "language_info": {
      "name": "python"
    }
  },
  "cells": [
    {
      "cell_type": "markdown",
      "metadata": {
        "id": "view-in-github",
        "colab_type": "text"
      },
      "source": [
        "<a href=\"https://colab.research.google.com/github/peterbmob/DHMVADoE/blob/main/Excercises/MReg_and_more.ipynb\" target=\"_parent\"><img src=\"https://colab.research.google.com/assets/colab-badge.svg\" alt=\"Open In Colab\"/></a>"
      ]
    },
    {
      "cell_type": "markdown",
      "source": [
        "# Regression with scikit-learn\n",
        "\n",
        "In this notebook, we will take the regression one step further with sci-kit learn. The notebook is adapted from http://www.cse.msu.edu/~ptan/dmbook/tutorials/tutorial5/tutorial5.ipynb."
      ],
      "metadata": {
        "id": "lc8oKqxVaVJn"
      }
    },
    {
      "cell_type": "markdown",
      "source": [
        "We start simple with 1 independent variable and a known function."
      ],
      "metadata": {
        "id": "1ikGqXC5azG-"
      }
    },
    {
      "cell_type": "code",
      "source": [
        "%matplotlib inline\n",
        "import numpy as np\n",
        "import matplotlib.pyplot as plt\n",
        "\n",
        "seed = 1            # seed for random number generation\n",
        "numInstances = 200  # number of data instances\n",
        "np.random.seed(seed)\n",
        "X = np.random.rand(numInstances,1).reshape(-1,1)\n",
        "y_true = -3*X + 1\n",
        "y = y_true + np.random.normal(size=numInstances).reshape(-1,1)\n",
        "\n",
        "plt.scatter(X, y,  color='black')\n",
        "plt.plot(X, y_true, color='blue', linewidth=3)\n",
        "plt.title('True function: y = -3X + 1')\n",
        "plt.xlabel('X')\n",
        "plt.ylabel('y')"
      ],
      "metadata": {
        "id": "BqEdkBHAayLo"
      },
      "execution_count": null,
      "outputs": []
    },
    {
      "cell_type": "markdown",
      "source": [
        "In this example, we illustrate how to use Python scikit-learn package to fit a multiple linear regression (MLR) model. Given a training set {X,y}, MLR is designed to learn the regression function  $$f(X,w)=X^T_w+w_0$$ by minimizing the following loss function given a training set {$X_i$,$y_i$}$^N_{i=1}$:\n",
        "$$\n",
        "L(y,f(X,w))=\\sum_{i=1}^N∥y_i−X_iw−w_0∥^2,\n",
        "$$\n",
        "where  $w$ (slope) and  $w^0$ (intercept) are the regression coefficients.\n",
        "\n",
        "Given the input dataset, the following steps are performed:\n",
        "\n",
        "1. Split the input data into their respective training and test sets.\n",
        "2. Fit multiple linear regression to the training data.\n",
        "3. Apply the model to the test data.\n",
        "4. Evaluate the performance of the model.\n",
        "5. Postprocessing: Visualizing the fitted model."
      ],
      "metadata": {
        "id": "tY_awX9rbBkn"
      }
    },
    {
      "cell_type": "markdown",
      "source": [
        "# Step 1: Split Input Data into Training and Test Sets¶\n"
      ],
      "metadata": {
        "id": "NMdKGZJWbNsq"
      }
    },
    {
      "cell_type": "code",
      "execution_count": 20,
      "metadata": {
        "id": "Yh9Y-V-IaT4m"
      },
      "outputs": [],
      "source": [
        "numTrain = 20   # number of training instances\n",
        "numTest = numInstances - numTrain\n",
        "\n",
        "X_train = X[:-numTest]\n",
        "X_test = X[-numTest:]\n",
        "y_train = y[:-numTest]\n",
        "y_test = y[-numTest:]"
      ]
    },
    {
      "cell_type": "code",
      "source": [
        "len(X_train)"
      ],
      "metadata": {
        "colab": {
          "base_uri": "https://localhost:8080/"
        },
        "id": "LDLrkdug-f0t",
        "outputId": "965afaa7-6378-40aa-95cf-45160e943b7d"
      },
      "execution_count": 15,
      "outputs": [
        {
          "output_type": "execute_result",
          "data": {
            "text/plain": [
              "160"
            ]
          },
          "metadata": {},
          "execution_count": 15
        }
      ]
    },
    {
      "cell_type": "markdown",
      "source": [
        "# Step 2: Fit Regression Model to Training Set"
      ],
      "metadata": {
        "id": "GGyAFN_rbUM0"
      }
    },
    {
      "cell_type": "code",
      "source": [
        "from sklearn import linear_model\n",
        "from sklearn.metrics import mean_squared_error, r2_score\n",
        "\n",
        "# Create linear regression object\n",
        "regr = linear_model.LinearRegression()\n",
        "\n",
        "# Fit regression model to the training set\n",
        "regr.fit(X_train, y_train)"
      ],
      "metadata": {
        "colab": {
          "base_uri": "https://localhost:8080/",
          "height": 74
        },
        "id": "Wl9NB45hbZ6p",
        "outputId": "935dca4e-ceeb-4157-cb32-fc56c683ae79"
      },
      "execution_count": 21,
      "outputs": [
        {
          "output_type": "execute_result",
          "data": {
            "text/plain": [
              "LinearRegression()"
            ],
            "text/html": [
              "<style>#sk-container-id-4 {color: black;background-color: white;}#sk-container-id-4 pre{padding: 0;}#sk-container-id-4 div.sk-toggleable {background-color: white;}#sk-container-id-4 label.sk-toggleable__label {cursor: pointer;display: block;width: 100%;margin-bottom: 0;padding: 0.3em;box-sizing: border-box;text-align: center;}#sk-container-id-4 label.sk-toggleable__label-arrow:before {content: \"▸\";float: left;margin-right: 0.25em;color: #696969;}#sk-container-id-4 label.sk-toggleable__label-arrow:hover:before {color: black;}#sk-container-id-4 div.sk-estimator:hover label.sk-toggleable__label-arrow:before {color: black;}#sk-container-id-4 div.sk-toggleable__content {max-height: 0;max-width: 0;overflow: hidden;text-align: left;background-color: #f0f8ff;}#sk-container-id-4 div.sk-toggleable__content pre {margin: 0.2em;color: black;border-radius: 0.25em;background-color: #f0f8ff;}#sk-container-id-4 input.sk-toggleable__control:checked~div.sk-toggleable__content {max-height: 200px;max-width: 100%;overflow: auto;}#sk-container-id-4 input.sk-toggleable__control:checked~label.sk-toggleable__label-arrow:before {content: \"▾\";}#sk-container-id-4 div.sk-estimator input.sk-toggleable__control:checked~label.sk-toggleable__label {background-color: #d4ebff;}#sk-container-id-4 div.sk-label input.sk-toggleable__control:checked~label.sk-toggleable__label {background-color: #d4ebff;}#sk-container-id-4 input.sk-hidden--visually {border: 0;clip: rect(1px 1px 1px 1px);clip: rect(1px, 1px, 1px, 1px);height: 1px;margin: -1px;overflow: hidden;padding: 0;position: absolute;width: 1px;}#sk-container-id-4 div.sk-estimator {font-family: monospace;background-color: #f0f8ff;border: 1px dotted black;border-radius: 0.25em;box-sizing: border-box;margin-bottom: 0.5em;}#sk-container-id-4 div.sk-estimator:hover {background-color: #d4ebff;}#sk-container-id-4 div.sk-parallel-item::after {content: \"\";width: 100%;border-bottom: 1px solid gray;flex-grow: 1;}#sk-container-id-4 div.sk-label:hover label.sk-toggleable__label {background-color: #d4ebff;}#sk-container-id-4 div.sk-serial::before {content: \"\";position: absolute;border-left: 1px solid gray;box-sizing: border-box;top: 0;bottom: 0;left: 50%;z-index: 0;}#sk-container-id-4 div.sk-serial {display: flex;flex-direction: column;align-items: center;background-color: white;padding-right: 0.2em;padding-left: 0.2em;position: relative;}#sk-container-id-4 div.sk-item {position: relative;z-index: 1;}#sk-container-id-4 div.sk-parallel {display: flex;align-items: stretch;justify-content: center;background-color: white;position: relative;}#sk-container-id-4 div.sk-item::before, #sk-container-id-4 div.sk-parallel-item::before {content: \"\";position: absolute;border-left: 1px solid gray;box-sizing: border-box;top: 0;bottom: 0;left: 50%;z-index: -1;}#sk-container-id-4 div.sk-parallel-item {display: flex;flex-direction: column;z-index: 1;position: relative;background-color: white;}#sk-container-id-4 div.sk-parallel-item:first-child::after {align-self: flex-end;width: 50%;}#sk-container-id-4 div.sk-parallel-item:last-child::after {align-self: flex-start;width: 50%;}#sk-container-id-4 div.sk-parallel-item:only-child::after {width: 0;}#sk-container-id-4 div.sk-dashed-wrapped {border: 1px dashed gray;margin: 0 0.4em 0.5em 0.4em;box-sizing: border-box;padding-bottom: 0.4em;background-color: white;}#sk-container-id-4 div.sk-label label {font-family: monospace;font-weight: bold;display: inline-block;line-height: 1.2em;}#sk-container-id-4 div.sk-label-container {text-align: center;}#sk-container-id-4 div.sk-container {/* jupyter's `normalize.less` sets `[hidden] { display: none; }` but bootstrap.min.css set `[hidden] { display: none !important; }` so we also need the `!important` here to be able to override the default hidden behavior on the sphinx rendered scikit-learn.org. See: https://github.com/scikit-learn/scikit-learn/issues/21755 */display: inline-block !important;position: relative;}#sk-container-id-4 div.sk-text-repr-fallback {display: none;}</style><div id=\"sk-container-id-4\" class=\"sk-top-container\"><div class=\"sk-text-repr-fallback\"><pre>LinearRegression()</pre><b>In a Jupyter environment, please rerun this cell to show the HTML representation or trust the notebook. <br />On GitHub, the HTML representation is unable to render, please try loading this page with nbviewer.org.</b></div><div class=\"sk-container\" hidden><div class=\"sk-item\"><div class=\"sk-estimator sk-toggleable\"><input class=\"sk-toggleable__control sk-hidden--visually\" id=\"sk-estimator-id-4\" type=\"checkbox\" checked><label for=\"sk-estimator-id-4\" class=\"sk-toggleable__label sk-toggleable__label-arrow\">LinearRegression</label><div class=\"sk-toggleable__content\"><pre>LinearRegression()</pre></div></div></div></div></div>"
            ]
          },
          "metadata": {},
          "execution_count": 21
        }
      ]
    },
    {
      "cell_type": "markdown",
      "source": [
        "# Step 3: Apply Model to the Test Set"
      ],
      "metadata": {
        "id": "_XJs38EJbe-e"
      }
    },
    {
      "cell_type": "code",
      "source": [
        "# Apply model to the test set\n",
        "y_pred_test = regr.predict(X_test)"
      ],
      "metadata": {
        "id": "gmAFJ0p2bfYB"
      },
      "execution_count": 22,
      "outputs": []
    },
    {
      "cell_type": "markdown",
      "source": [
        "# Step 4: Evaluate Model Performance on Test Set"
      ],
      "metadata": {
        "id": "_Cy_vVLtboGo"
      }
    },
    {
      "cell_type": "code",
      "source": [
        "# Comparing true versus predicted values\n",
        "plt.scatter(y_test, y_pred_test, color='black')\n",
        "plt.title('Comparing true and predicted values for test set')\n",
        "plt.xlabel('True values for y')\n",
        "plt.ylabel('Predicted values for y')\n",
        "\n",
        "# Model evaluation\n",
        "print(\"Root mean squared error = %.4f\" % np.sqrt(mean_squared_error(y_test, y_pred_test)))\n",
        "print('R-squared = %.4f' % r2_score(y_test, y_pred_test))"
      ],
      "metadata": {
        "id": "8wwgmAsZbtMq"
      },
      "execution_count": null,
      "outputs": []
    },
    {
      "cell_type": "markdown",
      "source": [
        "# Step 5: Postprocessing"
      ],
      "metadata": {
        "id": "XZ0jPi0Qb1Wl"
      }
    },
    {
      "cell_type": "code",
      "source": [
        "# Display model parameters\n",
        "print('Slope = ', regr.coef_[0][0])\n",
        "print('Intercept = ', regr.intercept_[0])### Step 4: Postprocessing\n",
        "\n",
        "# Plot outputs\n",
        "plt.scatter(X_test, y_test,  color='black')\n",
        "plt.plot(X_test, y_pred_test, color='blue', linewidth=3)\n",
        "titlestr = 'Predicted Function: y = %.2fX + %.2f' % (regr.coef_[0], regr.intercept_[0])\n",
        "plt.title(titlestr)\n",
        "plt.xlabel('X')\n",
        "plt.ylabel('y')"
      ],
      "metadata": {
        "id": "6FPOtWPzb55L"
      },
      "execution_count": null,
      "outputs": []
    },
    {
      "cell_type": "markdown",
      "source": [
        "How does the train/test splitting affect the outcome?\n"
      ],
      "metadata": {
        "id": "9K23RYxLAfTi"
      }
    },
    {
      "cell_type": "markdown",
      "source": [
        "# Effect of Correlated Attributes\n",
        "In this example, we illustrate how the presence of correlated attributes can affect the performance of regression models. Specifically, we create 4 additional variables, X2, X3, X4, and X5 that are strongly correlated with the previous variable X created in Section 5.1. The relationship between X and y remains the same as before. We then fit y against the predictor variables and compare their training and test set errors.\n",
        "\n",
        "First, we create the correlated attributes below.\n"
      ],
      "metadata": {
        "id": "dUSKOpStcgeV"
      }
    },
    {
      "cell_type": "code",
      "source": [
        "seed = 1\n",
        "np.random.seed(seed)\n",
        "X2 = 0.5*X + np.random.normal(0, 0.04, size=numInstances).reshape(-1,1)\n",
        "X3 = 0.5*X2 + np.random.normal(0, 0.01, size=numInstances).reshape(-1,1)\n",
        "X4 = 0.5*X3 + np.random.normal(0, 0.01, size=numInstances).reshape(-1,1)\n",
        "X5 = 0.5*X4 + np.random.normal(0, 0.01, size=numInstances).reshape(-1,1)\n",
        "\n",
        "fig, ((ax1, ax2),(ax3,ax4)) = plt.subplots(2, 2, figsize=(12,9))\n",
        "ax1.scatter(X, X2, color='black')\n",
        "ax1.set_xlabel('X')\n",
        "ax1.set_ylabel('X2')\n",
        "c = np.corrcoef(np.column_stack((X[:-numTest],X2[:-numTest])).T)\n",
        "titlestr = 'Correlation between X and X2 = %.4f' % (c[0,1])\n",
        "ax1.set_title(titlestr)\n",
        "\n",
        "ax2.scatter(X2, X3, color='black')\n",
        "ax2.set_xlabel('X2')\n",
        "ax2.set_ylabel('X3')\n",
        "c = np.corrcoef(np.column_stack((X2[:-numTest],X3[:-numTest])).T)\n",
        "titlestr = 'Correlation between X2 and X3 = %.4f' % (c[0,1])\n",
        "ax2.set_title(titlestr)\n",
        "\n",
        "ax3.scatter(X3, X4, color='black')\n",
        "ax3.set_xlabel('X3')\n",
        "ax3.set_ylabel('X4')\n",
        "c = np.corrcoef(np.column_stack((X3[:-numTest],X4[:-numTest])).T)\n",
        "titlestr = 'Correlation between X3 and X4 = %.4f' % (c[0,1])\n",
        "ax3.set_title(titlestr)\n",
        "\n",
        "ax4.scatter(X4, X5, color='black')\n",
        "ax4.set_xlabel('X4')\n",
        "ax4.set_ylabel('X5')\n",
        "c = np.corrcoef(np.column_stack((X4[:-numTest],X5[:-numTest])).T)\n",
        "titlestr = 'Correlation between X4 and X5 = %.4f' % (c[0,1])\n",
        "ax4.set_title(titlestr)"
      ],
      "metadata": {
        "id": "Dxv3Rdu_cfot"
      },
      "execution_count": null,
      "outputs": []
    },
    {
      "cell_type": "markdown",
      "source": [
        "Next, we create 4 additional versions of the training and test sets. The first version, X_train2 and X_test2 have 2 correlated predictor variables, X and X2. The second version, X_train3 and X_test3 have 3 correlated predictor variables, X, X2, and X3. The third version have 4 correlated variables, X, X2, X3, and X4 whereas the last version have 5 correlated variables, X, X2, X3, X4, and X5."
      ],
      "metadata": {
        "id": "Q7hFIFBpcyJM"
      }
    },
    {
      "cell_type": "code",
      "source": [
        "X_train2 = np.column_stack((X[:-numTest],X2[:-numTest]))\n",
        "X_test2 = np.column_stack((X[-numTest:],X2[-numTest:]))\n",
        "X_train3 = np.column_stack((X[:-numTest],X2[:-numTest],X3[:-numTest]))\n",
        "X_test3 = np.column_stack((X[-numTest:],X2[-numTest:],X3[-numTest:]))\n",
        "X_train4 = np.column_stack((X[:-numTest],X2[:-numTest],X3[:-numTest],X4[:-numTest]))\n",
        "X_test4 = np.column_stack((X[-numTest:],X2[-numTest:],X3[-numTest:],X4[-numTest:]))\n",
        "X_train5 = np.column_stack((X[:-numTest],X2[:-numTest],X3[:-numTest],X4[:-numTest],X5[:-numTest]))\n",
        "X_test5 = np.column_stack((X[-numTest:],X2[-numTest:],X3[-numTest:],X4[-numTest:],X5[-numTest:]))"
      ],
      "metadata": {
        "id": "xtQp5oPkcxgk"
      },
      "execution_count": 26,
      "outputs": []
    },
    {
      "cell_type": "markdown",
      "source": [
        "Below, we train 4 new regression models based on the 4 versions of training and test data created in the previous step.\n",
        "\n"
      ],
      "metadata": {
        "id": "udzR6EB0c6pU"
      }
    },
    {
      "cell_type": "code",
      "source": [
        "regr2 = linear_model.LinearRegression()\n",
        "regr2.fit(X_train2, y_train)\n",
        "\n",
        "regr3 = linear_model.LinearRegression()\n",
        "regr3.fit(X_train3, y_train)\n",
        "\n",
        "regr4 = linear_model.LinearRegression()\n",
        "regr4.fit(X_train4, y_train)\n",
        "\n",
        "regr5 = linear_model.LinearRegression()\n",
        "regr5.fit(X_train5, y_train)"
      ],
      "metadata": {
        "id": "DcKahsh6c9zD"
      },
      "execution_count": null,
      "outputs": []
    },
    {
      "cell_type": "markdown",
      "source": [
        "All 4 versions of the regression models are then applied to the training and test sets.\n",
        "\n"
      ],
      "metadata": {
        "id": "rXorGQr1dEU0"
      }
    },
    {
      "cell_type": "code",
      "source": [
        "y_pred_train = regr.predict(X_train)\n",
        "y_pred_test = regr.predict(X_test)\n",
        "y_pred_train2 = regr2.predict(X_train2)\n",
        "y_pred_test2 = regr2.predict(X_test2)\n",
        "y_pred_train3 = regr3.predict(X_train3)\n",
        "y_pred_test3 = regr3.predict(X_test3)\n",
        "y_pred_train4 = regr4.predict(X_train4)\n",
        "y_pred_test4 = regr4.predict(X_test4)\n",
        "y_pred_train5 = regr5.predict(X_train5)\n",
        "y_pred_test5 = regr5.predict(X_test5)"
      ],
      "metadata": {
        "id": "hl0RvoVhdM-A"
      },
      "execution_count": 28,
      "outputs": []
    },
    {
      "cell_type": "markdown",
      "source": [
        "For postprocessing, we compute both the training and test errors of the models. We can also show the resulting model and the sum of the absolute weights of the regression coefficients, i.e.,  ∑dj=0|wj|\n",
        " , where  d\n",
        "  is the number of predictor attributes."
      ],
      "metadata": {
        "id": "_xgIAAxRdSNa"
      }
    },
    {
      "cell_type": "code",
      "source": [
        "import pandas as pd\n",
        "import matplotlib.pyplot as plt\n",
        "\n",
        "columns = ['Model', 'Train error', 'Test error', 'Sum of Absolute Weights']\n",
        "model1 = \"%.2f X + %.2f\" % (regr.coef_[0][0], regr.intercept_[0])\n",
        "values1 = [ model1, np.sqrt(mean_squared_error(y_train, y_pred_train)),\n",
        "           np.sqrt(mean_squared_error(y_test, y_pred_test)),\n",
        "           np.absolute(regr.coef_[0]).sum() + np.absolute(regr.intercept_[0])]\n",
        "\n",
        "model2 = \"%.2f X + %.2f X2 + %.2f\" % (regr2.coef_[0][0], regr2.coef_[0][1], regr2.intercept_[0])\n",
        "values2 = [ model2, np.sqrt(mean_squared_error(y_train, y_pred_train2)),\n",
        "           np.sqrt(mean_squared_error(y_test, y_pred_test2)),\n",
        "           np.absolute(regr2.coef_[0]).sum() + np.absolute(regr2.intercept_[0])]\n",
        "\n",
        "model3 = \"%.2f X + %.2f X2 + %.2f X3 + %.2f\" % (regr3.coef_[0][0], regr3.coef_[0][1],\n",
        "                                                regr3.coef_[0][2], regr3.intercept_[0])\n",
        "values3 = [ model3, np.sqrt(mean_squared_error(y_train, y_pred_train3)),\n",
        "           np.sqrt(mean_squared_error(y_test, y_pred_test3)),\n",
        "           np.absolute(regr3.coef_[0]).sum() + np.absolute(regr3.intercept_[0])]\n",
        "\n",
        "model4 = \"%.2f X + %.2f X2 + %.2f X3 + %.2f X4 + %.2f\" % (regr4.coef_[0][0], regr4.coef_[0][1],\n",
        "                                        regr4.coef_[0][2], regr4.coef_[0][3], regr4.intercept_[0])\n",
        "values4 = [ model4, np.sqrt(mean_squared_error(y_train, y_pred_train4)),\n",
        "           np.sqrt(mean_squared_error(y_test, y_pred_test4)),\n",
        "           np.absolute(regr4.coef_[0]).sum() + np.absolute(regr4.intercept_[0])]\n",
        "\n",
        "model5 = \"%.2f X + %.2f X2 + %.2f X3 + %.2f X4 + %.2f X5 + %.2f\" % (regr5.coef_[0][0],\n",
        "                                        regr5.coef_[0][1], regr5.coef_[0][2],\n",
        "                                        regr5.coef_[0][3], regr5.coef_[0][4], regr5.intercept_[0])\n",
        "values5 = [ model5, np.sqrt(mean_squared_error(y_train, y_pred_train5)),\n",
        "           np.sqrt(mean_squared_error(y_test, y_pred_test5)),\n",
        "           np.absolute(regr5.coef_[0]).sum() + np.absolute(regr5.intercept_[0])]\n",
        "\n",
        "results = pd.DataFrame([values1, values2, values3, values4, values5], columns=columns)\n",
        "\n",
        "plt.plot(results['Sum of Absolute Weights'], results['Train error'], 'ro-')\n",
        "plt.plot(results['Sum of Absolute Weights'], results['Test error'], 'k*--')\n",
        "plt.legend(['Train error', 'Test error'])\n",
        "plt.xlabel('Sum of Absolute Weights')\n",
        "plt.ylabel('Error rate')\n",
        "\n",
        "results"
      ],
      "metadata": {
        "id": "NSbUu-cOdPV6"
      },
      "execution_count": null,
      "outputs": []
    },
    {
      "cell_type": "markdown",
      "source": [
        "The results above show that the first model, which fits `y` against `X` only, has the **largest training error**, *but* **smallest test error**, whereas the fifth model, which fits `y` against `X` and other correlated attributes, has the **smallest training error** *but* **largest test error** . This is due to a phenomenon known as **model overfitting**, in which the low training error of the model does not reflect how well the model will perform on previously unseen test instances. From the plot shown above, observe that the disparity between the training and test errors becomes wider as the sum of absolute weights of the model (which represents the model complexity) increases. Thus, one should control the complexity of the regression model to avoid the model overfitting problem."
      ],
      "metadata": {
        "id": "FKC--nh8dh2W"
      }
    },
    {
      "cell_type": "markdown",
      "source": [
        "# Ridge Regression\n",
        "Ridge regression is a variant of MLR designed to fit a linear model to the dataset by minimizing the following regularized least-square loss function:\n",
        "\n",
        "$$\n",
        "L_{ridge}(y,f(X,w))=\\sum^N_{i=1}∥y_i−X_iw−w_0∥^2+α[∥w∥^2+w^2_0],\n",
        "$$\n",
        "\n",
        "where  **α is the hyperparameter** for ridge regression. Note that the ridge regression model reduces to MLR when  α=0. By increasing the value of  α, we can *control the complexity* of the model as will be shown in the example below.\n",
        "\n",
        "In the example shown below, we fit a ridge regression model to the previously created training set with correlated attributes. We compare the results of the ridge regression model against those obtained using MLR."
      ],
      "metadata": {
        "id": "kLwM5OeMeRfl"
      }
    },
    {
      "cell_type": "code",
      "source": [
        "from sklearn import linear_model\n",
        "\n",
        "ridge = linear_model.Ridge(alpha=0.4)\n",
        "ridge.fit(X_train5, y_train)\n",
        "y_pred_train_ridge = ridge.predict(X_train5)\n",
        "y_pred_test_ridge = ridge.predict(X_test5)\n",
        "\n",
        "model6 = \"%.2f X + %.2f X2 + %.2f X3 + %.2f X4 + %.2f X5 + %.2f\" % (ridge.coef_[0][0],\n",
        "                                        ridge.coef_[0][1], ridge.coef_[0][2],\n",
        "                                        ridge.coef_[0][3], ridge.coef_[0][4], ridge.intercept_[0])\n",
        "values6 = [ model6, np.sqrt(mean_squared_error(y_train, y_pred_train_ridge)),\n",
        "           np.sqrt(mean_squared_error(y_test, y_pred_test_ridge)),\n",
        "           np.absolute(ridge.coef_[0]).sum() + np.absolute(ridge.intercept_[0])]\n",
        "\n",
        "ridge_results = pd.DataFrame([values6], columns=columns, index=['Ridge'])\n",
        "pd.concat([results, ridge_results])"
      ],
      "metadata": {
        "id": "tOj673PIeZ4u"
      },
      "execution_count": null,
      "outputs": []
    },
    {
      "cell_type": "markdown",
      "source": [
        "By setting an appropriate value for the hyperparameter,  α, we can control the sum of absolute weights, thus producing a test error that is quite comparable to that of MLR without the correlated attributes."
      ],
      "metadata": {
        "id": "2PLaNkCJfnlz"
      }
    },
    {
      "cell_type": "markdown",
      "source": [
        "# Lasso Regression\n",
        "One of the limitations of ridge regression is that, although it was able to reduce the regression coefficients associated with the correlated attributes and reduce the effect of model overfitting, the resulting model is still not sparse. Another variation of MLR, called lasso regression, is designed to produce sparser models by imposing an  ℓ$_1$ regularization on the regression coefficients as shown below:\n",
        "\n",
        "$$\n",
        "L_{lasso}(y,f(X,w))=\\sum_{i=1}^N∥y_i−X_iw−w_0∥^2+α[∥w∥_1+|w_0|]\n",
        "$$\n",
        "\n",
        "The example code below shows the results of applying lasso regression to the previously used correlated dataset."
      ],
      "metadata": {
        "id": "2SqSP27Mi9uq"
      }
    },
    {
      "cell_type": "code",
      "source": [
        "from sklearn import linear_model\n",
        "\n",
        "lasso = linear_model.Lasso(alpha=0.02)\n",
        "lasso.fit(X_train5, y_train)\n",
        "y_pred_train_lasso = lasso.predict(X_train5)\n",
        "y_pred_test_lasso = lasso.predict(X_test5)\n",
        "\n",
        "model7 = \"%.2f X + %.2f X2 + %.2f X3 + %.2f X4 + %.2f X5 + %.2f\" % (lasso.coef_[0],\n",
        "                                        lasso.coef_[1], lasso.coef_[2],\n",
        "                                        lasso.coef_[3], lasso.coef_[4], lasso.intercept_[0])\n",
        "values7 = [ model7, np.sqrt(mean_squared_error(y_train, y_pred_train_lasso)),\n",
        "           np.sqrt(mean_squared_error(y_test, y_pred_test_lasso)),\n",
        "           np.absolute(lasso.coef_[0]).sum() + np.absolute(lasso.intercept_[0])]\n",
        "\n",
        "lasso_results = pd.DataFrame([values7], columns=columns, index=['Lasso'])\n",
        "pd.concat([results, ridge_results, lasso_results])"
      ],
      "metadata": {
        "id": "Z5GQxmAAjfXo"
      },
      "execution_count": null,
      "outputs": []
    },
    {
      "cell_type": "markdown",
      "source": [
        "Observe that the lasso regression model sets the coefficients for the correlated attributes, X2, X3, X4, and X5 to exactly zero unlike the ridge regression model. As a result, its test error is significantly better than that for ridge regression."
      ],
      "metadata": {
        "id": "H5YX7JIujxlv"
      }
    },
    {
      "cell_type": "markdown",
      "source": [
        "# Hyperparameter Selection via Cross-Validation\n",
        "While both ridge and lasso regression methods can potentially alleviate the model overfitting problem, one of the challenges is how to select the appropriate hyperparameter value,  α. In the examples shown below, we demonstrate examples of using a 5-fold cross-validation method to select the best hyperparameter of the model.\n",
        "\n",
        "In the first sample code below, we vary the hyperparameter  α for ridge regression to a range between 0.2 and 1.0. Using the RidgeCV() function, we can train a model with 5-fold cross-validation and select the best hyperparameter value."
      ],
      "metadata": {
        "id": "Vl5c2TtVkHbO"
      }
    },
    {
      "cell_type": "code",
      "source": [
        "from sklearn import linear_model\n",
        "\n",
        "ridge = linear_model.RidgeCV(cv=5,alphas=[0.2, 0.4, 0.6, 0.8, 1.0])\n",
        "ridge.fit(X_train5, y_train)\n",
        "y_pred_train_ridge = ridge.predict(X_train5)\n",
        "y_pred_test_ridge = ridge.predict(X_test5)\n",
        "\n",
        "model6 = \"%.2f X + %.2f X2 + %.2f X3 + %.2f X4 + %.2f X5 + %.2f\" % (ridge.coef_[0][0],\n",
        "                                        ridge.coef_[0][1], ridge.coef_[0][2],\n",
        "                                        ridge.coef_[0][3], ridge.coef_[0][4], ridge.intercept_[0])\n",
        "values6 = [ model6, np.sqrt(mean_squared_error(y_train, y_pred_train_ridge)),\n",
        "           np.sqrt(mean_squared_error(y_test, y_pred_test_ridge)),\n",
        "           np.absolute(ridge.coef_[0]).sum() + np.absolute(ridge.intercept_[0])]\n",
        "print(\"Selected alpha = %.2f\" % ridge.alpha_)\n",
        "\n",
        "ridge_results = pd.DataFrame([values6], columns=columns, index=['RidgeCV'])\n",
        "pd.concat([results, ridge_results])"
      ],
      "metadata": {
        "id": "D6tUroRkfkQ4"
      },
      "execution_count": null,
      "outputs": []
    },
    {
      "cell_type": "markdown",
      "source": [
        "In this next example, we illustrate how to apply cross-validation to select the best hyperparameter value for fitting a lasso regression model.\n",
        "\n"
      ],
      "metadata": {
        "id": "cBs16QdclKES"
      }
    },
    {
      "cell_type": "code",
      "source": [
        "from sklearn import linear_model\n",
        "\n",
        "lasso = linear_model.LassoCV(cv=5, alphas=[0.01, 0.02, 0.05, 0.1, 0.3, 0.5, 1.0])\n",
        "lasso.fit(X_train5, y_train.reshape(y_train.shape[0]))\n",
        "y_pred_train_lasso = lasso.predict(X_train5)\n",
        "y_pred_test_lasso = lasso.predict(X_test5)\n",
        "\n",
        "model7 = \"%.2f X + %.2f X2 + %.2f X3 + %.2f X4 + %.2f X5 + %.2f\" % (lasso.coef_[0],\n",
        "                                        lasso.coef_[1], lasso.coef_[2],\n",
        "                                        lasso.coef_[3], lasso.coef_[4], lasso.intercept_)\n",
        "values7 = [ model7, np.sqrt(mean_squared_error(y_train, y_pred_train_lasso)),\n",
        "           np.sqrt(mean_squared_error(y_test, y_pred_test_lasso)),\n",
        "           np.absolute(lasso.coef_[0]).sum() + np.absolute(lasso.intercept_)]\n",
        "print(\"Selected alpha = %.2f\" % lasso.alpha_)\n",
        "\n",
        "lasso_results = pd.DataFrame([values7], columns=columns, index=['LassoCV'])\n",
        "pd.concat([results, ridge_results, lasso_results])"
      ],
      "metadata": {
        "id": "0SaHl8sElM65"
      },
      "execution_count": null,
      "outputs": []
    },
    {
      "cell_type": "markdown",
      "source": [
        "# Summary\n",
        "\n",
        "This section presents example Python code for fitting linear regression models to a dataset. We also illustrate the problem of model overfitting and shows two alternative methods, called ridge and lasso regression, that can help alleviate such problem. While the model overfitting problem shown here is illustrated in the context of correlated attributes, the problem is more general and may arise due to other factors such as noise and other exceptional values in the data."
      ],
      "metadata": {
        "id": "SQVBGMoEd472"
      }
    }
  ]
}