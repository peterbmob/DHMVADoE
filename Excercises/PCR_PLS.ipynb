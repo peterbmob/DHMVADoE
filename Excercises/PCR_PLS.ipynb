{
  "nbformat": 4,
  "nbformat_minor": 0,
  "metadata": {
    "colab": {
      "provenance": [],
      "authorship_tag": "ABX9TyMsZY1v+Y8f0PuTAF2PInYm",
      "include_colab_link": true
    },
    "kernelspec": {
      "name": "python3",
      "display_name": "Python 3"
    },
    "language_info": {
      "name": "python"
    }
  },
  "cells": [
    {
      "cell_type": "markdown",
      "metadata": {
        "id": "view-in-github",
        "colab_type": "text"
      },
      "source": [
        "<a href=\"https://colab.research.google.com/github/peterbmob/DHMVADoE/blob/main/Excercises/PCR_PLS.ipynb\" target=\"_parent\"><img src=\"https://colab.research.google.com/assets/colab-badge.svg\" alt=\"Open In Colab\"/></a>"
      ]
    },
    {
      "cell_type": "markdown",
      "source": [
        "# PCR and PLS  \n",
        "\n",
        "In this example, we will compare the PCR and PLS methods. Our goal is to illustrate how PLS can outperform PCR when the target is strongly correlated with some directions in the data that have a low variance.\n",
        "\n"
      ],
      "metadata": {
        "id": "OT8UoxEmoolu"
      }
    },
    {
      "cell_type": "markdown",
      "source": [
        "First, we load the data and perform a PCA."
      ],
      "metadata": {
        "id": "41_1IvTBpFyK"
      }
    },
    {
      "cell_type": "code",
      "source": [
        "import pandas as pd\n",
        "from sklearn.decomposition import PCA\n",
        "from sklearn.preprocessing import StandardScaler\n",
        "\n",
        "food = pd.read_csv(\"https://userpage.fu-berlin.de/soga/data/raw-data/food-texture.csv\")\n",
        "# exclude first column\n",
        "food = food.iloc[:, 1:]\n",
        "\n",
        "\n",
        "scaler = StandardScaler().fit(food)\n",
        "food_scaled = scaler.transform(food)\n",
        "food_scaled=pd.DataFrame(food_scaled,columns=food.columns)\n",
        "food_scaled.head()"
      ],
      "metadata": {
        "colab": {
          "base_uri": "https://localhost:8080/",
          "height": 206
        },
        "id": "jXEX4hp5pXSe",
        "outputId": "9be16efb-c2f8-48e5-caa8-b9b82bdef970"
      },
      "execution_count": 2,
      "outputs": [
        {
          "output_type": "execute_result",
          "data": {
            "text/plain": [
              "        Oil   Density    Crispy  Fracture  Hardness\n",
              "0 -0.445430  0.790272 -0.864754  0.395481 -1.011854\n",
              "1  0.315989 -1.603262  1.410914 -2.191776  0.351131\n",
              "2 -0.635784  0.100610  0.273080 -0.713344  0.480939\n",
              "3 -0.318527  0.506293 -0.864754  1.873913 -1.076758\n",
              "4 -0.572333  0.952546 -0.295837  0.949893  0.480939"
            ],
            "text/html": [
              "\n",
              "  <div id=\"df-b7948cf0-ddcf-4ebc-b58f-5be1e7c166ef\" class=\"colab-df-container\">\n",
              "    <div>\n",
              "<style scoped>\n",
              "    .dataframe tbody tr th:only-of-type {\n",
              "        vertical-align: middle;\n",
              "    }\n",
              "\n",
              "    .dataframe tbody tr th {\n",
              "        vertical-align: top;\n",
              "    }\n",
              "\n",
              "    .dataframe thead th {\n",
              "        text-align: right;\n",
              "    }\n",
              "</style>\n",
              "<table border=\"1\" class=\"dataframe\">\n",
              "  <thead>\n",
              "    <tr style=\"text-align: right;\">\n",
              "      <th></th>\n",
              "      <th>Oil</th>\n",
              "      <th>Density</th>\n",
              "      <th>Crispy</th>\n",
              "      <th>Fracture</th>\n",
              "      <th>Hardness</th>\n",
              "    </tr>\n",
              "  </thead>\n",
              "  <tbody>\n",
              "    <tr>\n",
              "      <th>0</th>\n",
              "      <td>-0.445430</td>\n",
              "      <td>0.790272</td>\n",
              "      <td>-0.864754</td>\n",
              "      <td>0.395481</td>\n",
              "      <td>-1.011854</td>\n",
              "    </tr>\n",
              "    <tr>\n",
              "      <th>1</th>\n",
              "      <td>0.315989</td>\n",
              "      <td>-1.603262</td>\n",
              "      <td>1.410914</td>\n",
              "      <td>-2.191776</td>\n",
              "      <td>0.351131</td>\n",
              "    </tr>\n",
              "    <tr>\n",
              "      <th>2</th>\n",
              "      <td>-0.635784</td>\n",
              "      <td>0.100610</td>\n",
              "      <td>0.273080</td>\n",
              "      <td>-0.713344</td>\n",
              "      <td>0.480939</td>\n",
              "    </tr>\n",
              "    <tr>\n",
              "      <th>3</th>\n",
              "      <td>-0.318527</td>\n",
              "      <td>0.506293</td>\n",
              "      <td>-0.864754</td>\n",
              "      <td>1.873913</td>\n",
              "      <td>-1.076758</td>\n",
              "    </tr>\n",
              "    <tr>\n",
              "      <th>4</th>\n",
              "      <td>-0.572333</td>\n",
              "      <td>0.952546</td>\n",
              "      <td>-0.295837</td>\n",
              "      <td>0.949893</td>\n",
              "      <td>0.480939</td>\n",
              "    </tr>\n",
              "  </tbody>\n",
              "</table>\n",
              "</div>\n",
              "    <div class=\"colab-df-buttons\">\n",
              "\n",
              "  <div class=\"colab-df-container\">\n",
              "    <button class=\"colab-df-convert\" onclick=\"convertToInteractive('df-b7948cf0-ddcf-4ebc-b58f-5be1e7c166ef')\"\n",
              "            title=\"Convert this dataframe to an interactive table.\"\n",
              "            style=\"display:none;\">\n",
              "\n",
              "  <svg xmlns=\"http://www.w3.org/2000/svg\" height=\"24px\" viewBox=\"0 -960 960 960\">\n",
              "    <path d=\"M120-120v-720h720v720H120Zm60-500h600v-160H180v160Zm220 220h160v-160H400v160Zm0 220h160v-160H400v160ZM180-400h160v-160H180v160Zm440 0h160v-160H620v160ZM180-180h160v-160H180v160Zm440 0h160v-160H620v160Z\"/>\n",
              "  </svg>\n",
              "    </button>\n",
              "\n",
              "  <style>\n",
              "    .colab-df-container {\n",
              "      display:flex;\n",
              "      gap: 12px;\n",
              "    }\n",
              "\n",
              "    .colab-df-convert {\n",
              "      background-color: #E8F0FE;\n",
              "      border: none;\n",
              "      border-radius: 50%;\n",
              "      cursor: pointer;\n",
              "      display: none;\n",
              "      fill: #1967D2;\n",
              "      height: 32px;\n",
              "      padding: 0 0 0 0;\n",
              "      width: 32px;\n",
              "    }\n",
              "\n",
              "    .colab-df-convert:hover {\n",
              "      background-color: #E2EBFA;\n",
              "      box-shadow: 0px 1px 2px rgba(60, 64, 67, 0.3), 0px 1px 3px 1px rgba(60, 64, 67, 0.15);\n",
              "      fill: #174EA6;\n",
              "    }\n",
              "\n",
              "    .colab-df-buttons div {\n",
              "      margin-bottom: 4px;\n",
              "    }\n",
              "\n",
              "    [theme=dark] .colab-df-convert {\n",
              "      background-color: #3B4455;\n",
              "      fill: #D2E3FC;\n",
              "    }\n",
              "\n",
              "    [theme=dark] .colab-df-convert:hover {\n",
              "      background-color: #434B5C;\n",
              "      box-shadow: 0px 1px 3px 1px rgba(0, 0, 0, 0.15);\n",
              "      filter: drop-shadow(0px 1px 2px rgba(0, 0, 0, 0.3));\n",
              "      fill: #FFFFFF;\n",
              "    }\n",
              "  </style>\n",
              "\n",
              "    <script>\n",
              "      const buttonEl =\n",
              "        document.querySelector('#df-b7948cf0-ddcf-4ebc-b58f-5be1e7c166ef button.colab-df-convert');\n",
              "      buttonEl.style.display =\n",
              "        google.colab.kernel.accessAllowed ? 'block' : 'none';\n",
              "\n",
              "      async function convertToInteractive(key) {\n",
              "        const element = document.querySelector('#df-b7948cf0-ddcf-4ebc-b58f-5be1e7c166ef');\n",
              "        const dataTable =\n",
              "          await google.colab.kernel.invokeFunction('convertToInteractive',\n",
              "                                                    [key], {});\n",
              "        if (!dataTable) return;\n",
              "\n",
              "        const docLinkHtml = 'Like what you see? Visit the ' +\n",
              "          '<a target=\"_blank\" href=https://colab.research.google.com/notebooks/data_table.ipynb>data table notebook</a>'\n",
              "          + ' to learn more about interactive tables.';\n",
              "        element.innerHTML = '';\n",
              "        dataTable['output_type'] = 'display_data';\n",
              "        await google.colab.output.renderOutput(dataTable, element);\n",
              "        const docLink = document.createElement('div');\n",
              "        docLink.innerHTML = docLinkHtml;\n",
              "        element.appendChild(docLink);\n",
              "      }\n",
              "    </script>\n",
              "  </div>\n",
              "\n",
              "\n",
              "<div id=\"df-0480fe28-8daa-4477-bb61-1003928eccd6\">\n",
              "  <button class=\"colab-df-quickchart\" onclick=\"quickchart('df-0480fe28-8daa-4477-bb61-1003928eccd6')\"\n",
              "            title=\"Suggest charts\"\n",
              "            style=\"display:none;\">\n",
              "\n",
              "<svg xmlns=\"http://www.w3.org/2000/svg\" height=\"24px\"viewBox=\"0 0 24 24\"\n",
              "     width=\"24px\">\n",
              "    <g>\n",
              "        <path d=\"M19 3H5c-1.1 0-2 .9-2 2v14c0 1.1.9 2 2 2h14c1.1 0 2-.9 2-2V5c0-1.1-.9-2-2-2zM9 17H7v-7h2v7zm4 0h-2V7h2v10zm4 0h-2v-4h2v4z\"/>\n",
              "    </g>\n",
              "</svg>\n",
              "  </button>\n",
              "\n",
              "<style>\n",
              "  .colab-df-quickchart {\n",
              "      --bg-color: #E8F0FE;\n",
              "      --fill-color: #1967D2;\n",
              "      --hover-bg-color: #E2EBFA;\n",
              "      --hover-fill-color: #174EA6;\n",
              "      --disabled-fill-color: #AAA;\n",
              "      --disabled-bg-color: #DDD;\n",
              "  }\n",
              "\n",
              "  [theme=dark] .colab-df-quickchart {\n",
              "      --bg-color: #3B4455;\n",
              "      --fill-color: #D2E3FC;\n",
              "      --hover-bg-color: #434B5C;\n",
              "      --hover-fill-color: #FFFFFF;\n",
              "      --disabled-bg-color: #3B4455;\n",
              "      --disabled-fill-color: #666;\n",
              "  }\n",
              "\n",
              "  .colab-df-quickchart {\n",
              "    background-color: var(--bg-color);\n",
              "    border: none;\n",
              "    border-radius: 50%;\n",
              "    cursor: pointer;\n",
              "    display: none;\n",
              "    fill: var(--fill-color);\n",
              "    height: 32px;\n",
              "    padding: 0;\n",
              "    width: 32px;\n",
              "  }\n",
              "\n",
              "  .colab-df-quickchart:hover {\n",
              "    background-color: var(--hover-bg-color);\n",
              "    box-shadow: 0 1px 2px rgba(60, 64, 67, 0.3), 0 1px 3px 1px rgba(60, 64, 67, 0.15);\n",
              "    fill: var(--button-hover-fill-color);\n",
              "  }\n",
              "\n",
              "  .colab-df-quickchart-complete:disabled,\n",
              "  .colab-df-quickchart-complete:disabled:hover {\n",
              "    background-color: var(--disabled-bg-color);\n",
              "    fill: var(--disabled-fill-color);\n",
              "    box-shadow: none;\n",
              "  }\n",
              "\n",
              "  .colab-df-spinner {\n",
              "    border: 2px solid var(--fill-color);\n",
              "    border-color: transparent;\n",
              "    border-bottom-color: var(--fill-color);\n",
              "    animation:\n",
              "      spin 1s steps(1) infinite;\n",
              "  }\n",
              "\n",
              "  @keyframes spin {\n",
              "    0% {\n",
              "      border-color: transparent;\n",
              "      border-bottom-color: var(--fill-color);\n",
              "      border-left-color: var(--fill-color);\n",
              "    }\n",
              "    20% {\n",
              "      border-color: transparent;\n",
              "      border-left-color: var(--fill-color);\n",
              "      border-top-color: var(--fill-color);\n",
              "    }\n",
              "    30% {\n",
              "      border-color: transparent;\n",
              "      border-left-color: var(--fill-color);\n",
              "      border-top-color: var(--fill-color);\n",
              "      border-right-color: var(--fill-color);\n",
              "    }\n",
              "    40% {\n",
              "      border-color: transparent;\n",
              "      border-right-color: var(--fill-color);\n",
              "      border-top-color: var(--fill-color);\n",
              "    }\n",
              "    60% {\n",
              "      border-color: transparent;\n",
              "      border-right-color: var(--fill-color);\n",
              "    }\n",
              "    80% {\n",
              "      border-color: transparent;\n",
              "      border-right-color: var(--fill-color);\n",
              "      border-bottom-color: var(--fill-color);\n",
              "    }\n",
              "    90% {\n",
              "      border-color: transparent;\n",
              "      border-bottom-color: var(--fill-color);\n",
              "    }\n",
              "  }\n",
              "</style>\n",
              "\n",
              "  <script>\n",
              "    async function quickchart(key) {\n",
              "      const quickchartButtonEl =\n",
              "        document.querySelector('#' + key + ' button');\n",
              "      quickchartButtonEl.disabled = true;  // To prevent multiple clicks.\n",
              "      quickchartButtonEl.classList.add('colab-df-spinner');\n",
              "      try {\n",
              "        const charts = await google.colab.kernel.invokeFunction(\n",
              "            'suggestCharts', [key], {});\n",
              "      } catch (error) {\n",
              "        console.error('Error during call to suggestCharts:', error);\n",
              "      }\n",
              "      quickchartButtonEl.classList.remove('colab-df-spinner');\n",
              "      quickchartButtonEl.classList.add('colab-df-quickchart-complete');\n",
              "    }\n",
              "    (() => {\n",
              "      let quickchartButtonEl =\n",
              "        document.querySelector('#df-0480fe28-8daa-4477-bb61-1003928eccd6 button');\n",
              "      quickchartButtonEl.style.display =\n",
              "        google.colab.kernel.accessAllowed ? 'block' : 'none';\n",
              "    })();\n",
              "  </script>\n",
              "</div>\n",
              "\n",
              "    </div>\n",
              "  </div>\n"
            ],
            "application/vnd.google.colaboratory.intrinsic+json": {
              "type": "dataframe",
              "variable_name": "food_scaled",
              "summary": "{\n  \"name\": \"food_scaled\",\n  \"rows\": 50,\n  \"fields\": [\n    {\n      \"column\": \"Oil\",\n      \"properties\": {\n        \"dtype\": \"number\",\n        \"std\": 1.0101525445522108,\n        \"min\": -2.222072271944817,\n        \"max\": 2.5367918170289503,\n        \"num_unique_values\": 33,\n        \"samples\": [\n          -1.3337509753363803,\n          0.06218249076259217,\n          2.5367918170289503\n        ],\n        \"semantic_type\": \"\",\n        \"description\": \"\"\n      }\n    },\n    {\n      \"column\": \"Density\",\n      \"properties\": {\n        \"dtype\": \"number\",\n        \"std\": 1.0101525445522106,\n        \"min\": -2.333493330335637,\n        \"max\": 2.1695970672174885,\n        \"num_unique_values\": 38,\n        \"samples\": [\n          1.9667551574177982,\n          0.5468617888199658,\n          0.9525456084193465\n        ],\n        \"semantic_type\": \"\",\n        \"description\": \"\"\n      }\n    },\n    {\n      \"column\": \"Crispy\",\n      \"properties\": {\n        \"dtype\": \"number\",\n        \"std\": 1.0101525445522106,\n        \"min\": -2.5715046062427143,\n        \"max\": 1.9798309800275768,\n        \"num_unique_values\": 9,\n        \"samples\": [\n          -2.002587657958928,\n          1.4109140317437905,\n          -1.4336707096751413\n        ],\n        \"semantic_type\": \"\",\n        \"description\": \"\"\n      }\n    },\n    {\n      \"column\": \"Fracture\",\n      \"properties\": {\n        \"dtype\": \"number\",\n        \"std\": 1.0101525445522108,\n        \"min\": -2.191776097283234,\n        \"max\": 2.243521232800882,\n        \"num_unique_values\": 22,\n        \"samples\": [\n          0.3954806785991671,\n          -2.006972041863062,\n          -0.5285395985016903\n        ],\n        \"semantic_type\": \"\",\n        \"description\": \"\"\n      }\n    },\n    {\n      \"column\": \"Hardness\",\n      \"properties\": {\n        \"dtype\": \"number\",\n        \"std\": 1.0101525445522106,\n        \"min\": -2.1152221513622145,\n        \"max\": 2.0710874148502074,\n        \"num_unique_values\": 41,\n        \"samples\": [\n          0.026610649955768662,\n          -2.0503181270798514,\n          0.12396668637931335\n        ],\n        \"semantic_type\": \"\",\n        \"description\": \"\"\n      }\n    }\n  ]\n}"
            }
          },
          "metadata": {},
          "execution_count": 2
        }
      ]
    },
    {
      "cell_type": "code",
      "execution_count": 6,
      "metadata": {
        "id": "jwFcpCGBolmg"
      },
      "outputs": [],
      "source": [
        "from matplotlib import pyplot as plt\n",
        "import seaborn as sns\n",
        "import numpy as np\n",
        "import pandas as pd\n",
        "from sklearn.decomposition import PCA\n",
        "from sklearn.preprocessing import StandardScaler\n",
        "\n",
        "\n",
        "\n",
        "food_pca = PCA().fit(food_scaled)\n",
        "\n",
        "\n",
        "food_pca_eigen = pd.DataFrame(\n",
        "    food_pca.components_.T,\n",
        "    columns=[\"PC1\", \"PC2\", \"PC3\", \"PC4\", \"PC5\"],\n",
        "    index=food_scaled.columns,\n",
        ")\n",
        "\n",
        "# Compute the loadings\n",
        "food_pca_data=pd.DataFrame()\n",
        "food_pca_data[\"PC\"]=food_pca_eigen.columns\n",
        "food_pca_data[\"Explained Variance\"] = food_pca.explained_variance_\n",
        "food_pca_data[\"Explained Variance Ratio\"] = food_pca.explained_variance_ratio_\n",
        "food_pca_data.set_index('PC')\n",
        "\n",
        "# Compute the scores\n",
        "food_pca_scores = pd.DataFrame(\n",
        "    food_pca.transform(food_scaled),\n",
        "    columns=[\"PC1\", \"PC2\", \"PC3\", \"PC4\", \"PC5\"],\n",
        "    index=food_scaled.index,\n",
        ")"
      ]
    },
    {
      "cell_type": "code",
      "source": [
        "# Plot the scores\n",
        "sns.scatterplot(data=food_pca_scores, x=\"PC1\", y=\"PC2\")\n",
        "plt.axhline(0, color=\"blue\")\n",
        "plt.axvline(0, color=\"green\")\n",
        "plt.show()"
      ],
      "metadata": {
        "colab": {
          "base_uri": "https://localhost:8080/",
          "height": 449
        },
        "id": "XxCpLSjkqcED",
        "outputId": "c37426aa-d6da-42ac-c129-fe2f87663e47"
      },
      "execution_count": 9,
      "outputs": [
        {
          "output_type": "display_data",
          "data": {
            "text/plain": [
              "<Figure size 640x480 with 1 Axes>"
            ],
            "image/png": "[encoded data removed]"
          },
          "metadata": {}
        }
      ]
    },
    {
      "cell_type": "code",
      "source": [
        "Lets choose a target..."
      ],
      "metadata": {
        "id": "ob813tiKrNG-"
      },
      "execution_count": null,
      "outputs": []
    },
    {
      "cell_type": "code",
      "source": [
        "# Plot the scores\n",
        "sns.scatterplot(x=food_pca_scores[\"PC1\"], y=food_scaled['Hardness'])\n",
        "plt.axhline(0, color=\"blue\")\n",
        "plt.axvline(0, color=\"green\")\n",
        "plt.show()"
      ],
      "metadata": {
        "colab": {
          "base_uri": "https://localhost:8080/",
          "height": 449
        },
        "id": "Lqn88CQUqwNa",
        "outputId": "43165a1e-fec4-451e-c3b2-da140ecec239"
      },
      "execution_count": 45,
      "outputs": [
        {
          "output_type": "display_data",
          "data": {
            "text/plain": [
              "<Figure size 640x480 with 1 Axes>"
            ],
            "image/png": "[encoded data removed]"
          },
          "metadata": {}
        }
      ]
    },
    {
      "cell_type": "code",
      "source": [
        "# Plot the scores\n",
        "sns.scatterplot(x=food_pca_scores[\"PC2\"], y=food_scaled['Hardness'])\n",
        "plt.axhline(0, color=\"blue\")\n",
        "plt.axvline(0, color=\"green\")\n",
        "plt.show()"
      ],
      "metadata": {
        "colab": {
          "base_uri": "https://localhost:8080/",
          "height": 449
        },
        "id": "RwNTQqzJrvnK",
        "outputId": "ebb7ed50-2d1b-4509-dd82-b90d25ea2f16"
      },
      "execution_count": 37,
      "outputs": [
        {
          "output_type": "display_data",
          "data": {
            "text/plain": [
              "<Figure size 640x480 with 1 Axes>"
            ],
            "image/png": "[encoded data removed]"
          },
          "metadata": {}
        }
      ]
    },
    {
      "cell_type": "code",
      "source": [
        "from sklearn.cross_decomposition import PLSRegression\n",
        "from sklearn.decomposition import PCA\n",
        "from sklearn.linear_model import LinearRegression\n",
        "from sklearn.model_selection import train_test_split\n",
        "from sklearn.pipeline import make_pipeline\n",
        "from sklearn.preprocessing import StandardScaler\n",
        "rng = np.random.RandomState(0)\n",
        "\n",
        "X_train, X_test, y_train, y_test = train_test_split(food_scaled[['Oil',\t'Density', 'Crispy', 'Fracture']], food_scaled['Hardness'],test_size=0.25, random_state=rng)\n",
        "\n",
        "pcr = make_pipeline(StandardScaler(), PCA(n_components=1), LinearRegression())\n",
        "pcr.fit(X_train, y_train)\n",
        "pca = pcr.named_steps[\"pca\"]  # retrieve the PCA step of the pipeline\n",
        "\n",
        "pls = PLSRegression(n_components=1)\n",
        "pls.fit(X_train, y_train)\n",
        "\n",
        "fig, axes = plt.subplots(1, 2, figsize=(10, 3))\n",
        "axes[0].scatter(pca.transform(X_test), y_test, alpha=0.3, label=\"ground truth\")\n",
        "axes[0].scatter(\n",
        "    pca.transform(X_test), pcr.predict(X_test), alpha=0.3, label=\"predictions\"\n",
        ")\n",
        "axes[0].set(\n",
        "    xlabel=\"Projected data onto first PCA component\", ylabel=\"y\", title=\"PCR / PCA\"\n",
        ")\n",
        "axes[0].legend()\n",
        "axes[1].scatter(pls.transform(X_test), y_test, alpha=0.3, label=\"ground truth\")\n",
        "axes[1].scatter(\n",
        "    pls.transform(X_test), pls.predict(X_test), alpha=0.3, label=\"predictions\"\n",
        ")\n",
        "axes[1].set(xlabel=\"Projected data onto first PLS component\", ylabel=\"y\", title=\"PLS\")\n",
        "axes[1].legend()\n",
        "plt.tight_layout()\n",
        "plt.show()\n"
      ],
      "metadata": {
        "colab": {
          "base_uri": "https://localhost:8080/",
          "height": 379
        },
        "id": "8tsWQ_w0rngl",
        "outputId": "88ea72b4-eeda-41c7-dd7f-de8d7ba33637"
      },
      "execution_count": 53,
      "outputs": [
        {
          "output_type": "stream",
          "name": "stderr",
          "text": [
            "/usr/local/lib/python3.10/dist-packages/sklearn/base.py:458: UserWarning: X has feature names, but PCA was fitted without feature names\n",
            "  warnings.warn(\n",
            "/usr/local/lib/python3.10/dist-packages/sklearn/base.py:458: UserWarning: X has feature names, but PCA was fitted without feature names\n",
            "  warnings.warn(\n"
          ]
        },
        {
          "output_type": "display_data",
          "data": {
            "text/plain": [
              "<Figure size 1000x300 with 2 Axes>"
            ],
            "image/png": "[encoded data removed]"
          },
          "metadata": {}
        }
      ]
    },
    {
      "cell_type": "code",
      "source": [
        "print(f\"PCR r-squared {pcr.score(X_test, y_test):.3f}\")\n",
        "print(f\"PLS r-squared {pls.score(X_test, y_test):.3f}\")"
      ],
      "metadata": {
        "colab": {
          "base_uri": "https://localhost:8080/"
        },
        "id": "bTai-PF4s3PJ",
        "outputId": "1acea717-7915-4832-a617-956cb4d8ba10"
      },
      "execution_count": 54,
      "outputs": [
        {
          "output_type": "stream",
          "name": "stdout",
          "text": [
            "PCR r-squared -0.062\n",
            "PLS r-squared -0.109\n"
          ]
        }
      ]
    },
    {
      "cell_type": "code",
      "source": [
        "pca_2 = make_pipeline(PCA(n_components=2), LinearRegression())\n",
        "pca_2.fit(X_train, y_train)\n",
        "pls_2 = PLSRegression(n_components=2)\n",
        "pls_2.fit(X_train, y_train)\n",
        "\n",
        "print(f\"PCR r-squared with 2 components {pca_2.score(X_test, y_test):.3f}\")\n",
        "print(f\"PLS r-squared with 2 components {pls_2.score(X_test, y_test):.3f}\")"
      ],
      "metadata": {
        "colab": {
          "base_uri": "https://localhost:8080/"
        },
        "id": "K05j79v-tiB4",
        "outputId": "70b80891-d725-475d-8e67-3198ecaa65e6"
      },
      "execution_count": 55,
      "outputs": [
        {
          "output_type": "stream",
          "name": "stdout",
          "text": [
            "PCR r-squared with 2 components 0.038\n",
            "PLS r-squared with 2 components 0.034\n"
          ]
        }
      ]
    },
    {
      "cell_type": "code",
      "source": [
        "pca_3 = make_pipeline(PCA(n_components=3), LinearRegression())\n",
        "pca_3.fit(X_train, y_train)\n",
        "pls_3 = PLSRegression(n_components=3)\n",
        "pls_3.fit(X_train, y_train)\n",
        "\n",
        "print(f\"PCR r-squared with 3 components {pca_3.score(X_test, y_test):.3f}\")\n",
        "print(f\"PLS r-squared with 3 components {pls_3.score(X_test, y_test):.3f}\")"
      ],
      "metadata": {
        "colab": {
          "base_uri": "https://localhost:8080/"
        },
        "id": "gzvXupgTtqec",
        "outputId": "acf087ea-2ba5-489c-9db1-217c021844e2"
      },
      "execution_count": 56,
      "outputs": [
        {
          "output_type": "stream",
          "name": "stdout",
          "text": [
            "PCR r-squared with 3 components -0.028\n",
            "PLS r-squared with 3 components 0.075\n"
          ]
        }
      ]
    },
    {
      "cell_type": "code",
      "source": [
        "pca_4 = make_pipeline(PCA(n_components=4), LinearRegression())\n",
        "pca_4.fit(X_train, y_train)\n",
        "pls_4 = PLSRegression(n_components=4)\n",
        "pls_4.fit(X_train, y_train)\n",
        "\n",
        "print(f\"PCR r-squared with 3 components {pca_4.score(X_test, y_test):.3f}\")\n",
        "print(f\"PLS r-squared with 3 components {pls_4.score(X_test, y_test):.3f}\")"
      ],
      "metadata": {
        "colab": {
          "base_uri": "https://localhost:8080/"
        },
        "id": "MIxJzVLYwKQX",
        "outputId": "33c0c438-7e0f-49fe-9e5c-32f668393cc2"
      },
      "execution_count": 52,
      "outputs": [
        {
          "output_type": "stream",
          "name": "stdout",
          "text": [
            "PCR r-squared with 3 components 0.167\n",
            "PLS r-squared with 3 components 0.167\n"
          ]
        }
      ]
    }
  ]
}