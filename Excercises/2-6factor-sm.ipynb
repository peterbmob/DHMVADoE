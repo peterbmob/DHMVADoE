{
  "nbformat": 4,
  "nbformat_minor": 0,
  "metadata": {
    "colab": {
      "provenance": [],
      "authorship_tag": "ABX9TyP/8C1Nqq6rwxSVWPIAN9bk",
      "include_colab_link": true
    },
    "kernelspec": {
      "name": "python3",
      "display_name": "Python 3"
    },
    "language_info": {
      "name": "python"
    }
  },
  "cells": [
    {
      "cell_type": "markdown",
      "metadata": {
        "id": "view-in-github",
        "colab_type": "text"
      },
      "source": [
        "<a href=\"https://colab.research.google.com/github/peterbmob/DHMVADoE/blob/main/Excercises/2-6factor-sm.ipynb\" target=\"_parent\"><img src=\"https://colab.research.google.com/assets/colab-badge.svg\" alt=\"Open In Colab\"/></a>"
      ]
    },
    {
      "cell_type": "markdown",
      "source": [
        "# A Two-Level, Six-Factor Full Factorial Design with statsmodels\n",
        "Introduction\n",
        "\n",
        "This notebook roughly follows content from Box and Draper's Empirical Model-Building and Response Surfaces (Wiley, 1984). This content is covered by Chapter 4 of Box and Draper.\n",
        "\n",
        "In this notebook, we'll carry out an anaylsis of a full factorial design, but instead of using Yates method, we use the statsmodels package and perform a OLS regression."
      ],
      "metadata": {
        "id": "LPk1i-SbbnEq"
      }
    },
    {
      "cell_type": "markdown",
      "source": [
        "We start with the same procedure as in the previous example, which is to generate the desifn matrix and load the response data."
      ],
      "metadata": {
        "id": "Ee-v4VZ0Xk_4"
      }
    },
    {
      "cell_type": "code",
      "execution_count": 2,
      "metadata": {
        "id": "0WIVKeDdbin3"
      },
      "outputs": [],
      "source": [
        "%matplotlib inline\n",
        "\n",
        "import pandas as pd\n",
        "import numpy as np\n",
        "from numpy.random import rand, seed\n",
        "import seaborn as sns\n",
        "import scipy.stats as stats\n",
        "from matplotlib.pyplot import *\n",
        "import statsmodels.formula.api as smf\n",
        "seed(10)"
      ]
    },
    {
      "cell_type": "code",
      "source": [
        "import itertools\n",
        "\n",
        "# Create the inputs:\n",
        "encoded_inputs = list( itertools.product([-1,1],[-1,1],[-1,1],[-1,1],[-1,1],[-1,1]) )\n",
        "\n",
        "# Create the experiment design table (same as the book):\n",
        "doe=pd.DataFrame(encoded_inputs)\n",
        "doe=doe[doe.columns[::-1]]\n",
        "doe.columns=['x%d'%(i+1) for i in range(6)]\n",
        "doe"
      ],
      "metadata": {
        "id": "xvKg510cb5av"
      },
      "execution_count": null,
      "outputs": []
    },
    {
      "cell_type": "code",
      "source": [
        "# y-data from book.\n",
        "doe['y1'] = [3.4, 9.7, 7.4, 10.6, 6.5, 7.9, 10.3, 9.5, 14.3, 10.5, 7.8, 17.2, 9.4, 12.1, 9.5, 15.8, 8.3, 8.0, 7.9, 10.7, 7.2, 7.2, 7.9, 10.2, 10.3, 9.9, 7.4, 10.5, 9.6, 15.1, 8.7, 12.1, 12.6, 10.5, 11.3, 10.6, 8.1, 12.5, 11.1, 12.9, 14.6, 12.7, 10.8, 17.1, 13.6, 14.6, 13.3, 14.4, 11.0, 12.5, 8.9, 13.1, 7.6, 8.6, 11.8, 12.4, 13.4, 14.6, 14.9, 11.8, 15.6, 12.8, 13.5, 15.8]\n",
        "doe['y2'] = [15,5,23, 8,20, 9, 13, 5, 23, 1, 11, 5, 15, 8, 15, 1, 22, 8, 16, 7, 25, 5, 17, 8, 10, 3, 22, 6, 24, 4, 10, 5, 32, 10, 28, 18, 22, 31, 17, 16, 38, 12, 34, 19, 12, 14, 25, 16, 31, 14, 23, 23, 28, 20, 18, 11, 39, 30, 31, 6, 33, 23, 31, 11]\n",
        "doe['y3'] = [36, 35, 37, 34, 30, 32, 28, 38, 40, 32, 32, 28, 34, 26,  30, 28, 40, 30, 35, 35, 32, 35, 36, 32, 20, 35, 35, 28, 27, 36, 36, 35, 32, 34, 30, 24, 30, 20, 32, 25, 20, 20, 22, 35, 26, 15, 19, 24, 22, 23, 22, 18, 20, 20, 20, 36, 20, 11, 20, 35, 16, 32, 20, 20]\n",
        "print(doe[['y1','y2','y3']])"
      ],
      "metadata": {
        "id": "unQizkcUb8du"
      },
      "execution_count": null,
      "outputs": []
    },
    {
      "cell_type": "code",
      "source": [
        "labels = {}\n",
        "labels[1] = ['x1','x2','x3','x4','x5','x6']\n",
        "for i in [2,3,4,5,6]:\n",
        "    labels[i] = list(itertools.combinations(labels[1], i))\n",
        "\n",
        "obs_list = ['y1','y2','y3']\n",
        "print(str(labels[1][0:6]))"
      ],
      "metadata": {
        "id": "VPWbT6H0cEli"
      },
      "execution_count": null,
      "outputs": []
    },
    {
      "cell_type": "markdown",
      "source": [
        "Here, we need to generate the formula (preferably in an automatic way."
      ],
      "metadata": {
        "id": "-6MUifY5X3yH"
      }
    },
    {
      "cell_type": "code",
      "source": [
        "\n",
        "a = lambda z : print(str(labels[1][z]), end=' + ')\n",
        "b = lambda z : print(str(labels[2][z][0]+':'+labels[2][z][1]), end=' + ')\n",
        "c = lambda z : print(str(labels[3][z][0]+':'+labels[3][z][1]+':'+labels[3][z][2]), end=' + ')\n",
        "d = lambda z : print(str(labels[4][z][0]+':'+labels[4][z][1]+':'+labels[4][z][2]+':'+labels[4][z][3]), end=' + ')\n",
        "e = lambda z : print(str(labels[5][z][0]+':'+labels[5][z][1]+':'+labels[5][z][2]+':'+labels[5][z][3]+':'+labels[5][z][4]), end=' + ')\n",
        "f = lambda z : print(str(labels[6][z][0]+':'+labels[6][z][1]+':'+labels[6][z][2]+':'+labels[6][z][3]+':'+labels[6][z][4]+':'+labels[6][z][5]), end=' ')\n",
        "\n",
        "\n",
        "for j in range(0,len(labels[1])):\n",
        "  a(j)\n",
        "for j in range(0,len(labels[2])):\n",
        "  b(j)\n",
        "for j in range(0,len(labels[3])):\n",
        "  c(j)\n",
        "for j in range(0,len(labels[4])):\n",
        "  d(j)\n",
        "for j in range(0,len(labels[5])):\n",
        "  e(j)\n",
        "for j in range(0,len(labels[6])):\n",
        "  f(j)\n"
      ],
      "metadata": {
        "id": "fxIQmp32cIq1"
      },
      "execution_count": null,
      "outputs": []
    },
    {
      "cell_type": "code",
      "source": [
        "\n",
        "mod = smf.ols(formula='y1 ~ x1 + x2 + x3 + x4 + x5 + x6 + x1:x2 + x1:x3 + x1:x4 + x1:x5 + x1:x6 + x2:x3 + x2:x4 + x2:x5 + x2:x6 + x3:x4 + x3:x5 + x3:x6 + x4:x5 + x4:x6 + x5:x6 + x1:x2:x3 + x1:x2:x4 + x1:x2:x5 + x1:x2:x6 + x1:x3:x4 + x1:x3:x5 + x1:x3:x6 + x1:x4:x5 + x1:x4:x6 + x1:x5:x6 + x2:x3:x4 + x2:x3:x5 + x2:x3:x6 + x2:x4:x5 + x2:x4:x6 + x2:x5:x6 + x3:x4:x5 + x3:x4:x6 + x3:x5:x6 + x4:x5:x6 + x1:x2:x3:x4 + x1:x2:x3:x5 + x1:x2:x3:x6 + x1:x2:x4:x5 + x1:x2:x4:x6 + x1:x2:x5:x6 + x1:x3:x4:x5 + x1:x3:x4:x6 + x1:x3:x5:x6 + x1:x4:x5:x6 + x2:x3:x4:x5 + x2:x3:x4:x6 + x2:x3:x5:x6 + x2:x4:x5:x6 + x3:x4:x5:x6 + x1:x2:x3:x4:x5 + x1:x2:x3:x4:x6 + x1:x2:x3:x5:x6 + x1:x2:x4:x5:x6 + x1:x3:x4:x5:x6 + x2:x3:x4:x5:x6', data=doe)\n",
        "\n",
        "res = mod.fit()\n",
        "res.summary()"
      ],
      "metadata": {
        "id": "Ms58dJxwcKvW"
      },
      "execution_count": null,
      "outputs": []
    },
    {
      "cell_type": "code",
      "source": [
        "import matplotlib.pyplot as plt\n",
        "from matplotlib.ticker import PercentFormatter\n",
        "\n",
        "\n",
        "effects=pd.DataFrame()\n",
        "\n",
        "# the standardised effects are the absolute values of the coefficients obtained from the OLS.\n",
        "effects['Standardized effect']=pd.DataFrame(np.abs(res.params[1:]))\n",
        "\n",
        "\n",
        "effects_sorted = effects.sort_values(by='Standardized effect', ascending=False)\n",
        "\n",
        "\n",
        "# Add cumulative percentage column.\n",
        "effects_sorted[\"cum_percentage\"] = round(effects_sorted[\"Standardized effect\"].cumsum()/effects_sorted[\"Standardized effect\"].sum()*100,2)\n",
        "\n",
        "# and plot Pareto Chart\n",
        "plt.rcParams.update({'font.size': 22})\n",
        "# Set figure and axis\n",
        "fig, ax = plt.subplots(figsize=(22,10))\n",
        "\n",
        "# Plot bars (i.e. frequencies)\n",
        "ax.set_title(\"Pareto Chart\")\n",
        "ax.set_xlabel(\"Parameter\")\n",
        "ax.set_ylabel(\"Frequency\");\n",
        "effects_sorted['Standardized effect'].plot.bar(ax=ax)\n",
        "\n",
        "# Second y axis (i.e. cumulative percentage)\n",
        "ax2 = ax.twinx()\n",
        "ax2.plot(effects_sorted.index, effects_sorted[\"cum_percentage\"], color=\"red\", marker=\"D\", ms=7)\n",
        "effects_sorted.plot(y=\"cum_percentage\", color=\"red\", marker=\"D\", ms=7, ax=ax2)\n",
        "ax2.yaxis.set_major_formatter(PercentFormatter())\n",
        "ax2.set_ylabel(\"Cumulative Percentage\");\n",
        "ax2.axhline(80, color=\"orange\", linestyle=\"dashed\")"
      ],
      "metadata": {
        "id": "29YJF6Yty_Wn"
      },
      "execution_count": null,
      "outputs": []
    },
    {
      "cell_type": "code",
      "source": [
        "effects_sorted"
      ],
      "metadata": {
        "id": "jqvpEchgvmAS"
      },
      "execution_count": null,
      "outputs": []
    },
    {
      "cell_type": "markdown",
      "source": [
        "How to Draw a Normal Probability Plot By Hand\n",
        "\n",
        "- Arrange your x-values in ascending order (smallest to largest).\n",
        "\n",
        "- Calculate fi = (i – 0.375)/(n + 0.25), where i is the position of the data value in the ordered list and n is the number of observations.\n",
        "\n",
        "- Find the z-score for each fi\n",
        "\n",
        "- Plot your x-values on the horizontal axis and the corresponding z-score\n",
        "on the vertical axis."
      ],
      "metadata": {
        "id": "uafN8OGEw-Z7"
      }
    },
    {
      "cell_type": "markdown",
      "source": [
        "# what do we see?"
      ],
      "metadata": {
        "id": "tnJt3awSyX_c"
      }
    },
    {
      "cell_type": "code",
      "source": [
        "import numpy as np\n",
        "import matplotlib.pyplot as plt\n",
        "import seaborn as sns\n",
        "import scipy.stats as sc\n",
        "import statsmodels.graphics.gofplots as sm\n",
        "\n",
        "# define distributions\n",
        "sample_size = 10000\n",
        "standard_norm = np.random.normal(size=sample_size)\n",
        "heavy_tailed_norm = np.random.normal(loc=0, scale=2, size=sample_size)\n",
        "skewed_norm = sc.skewnorm.rvs(a=5, size=sample_size)\n",
        "skew_left_norm = sc.skewnorm.rvs(a=-5, size=sample_size)\n",
        "\n",
        "\n",
        "# plots for standard distribution\n",
        "fig, ax = plt.subplots(1, 2, figsize=(12, 7))\n",
        "sns.histplot(standard_norm,kde=True, color ='blue',ax=ax[0])\n",
        "sm.ProbPlot(standard_norm).qqplot(line='s', ax=ax[1])\n",
        "\n",
        "# plot for right-tailed distribution\n",
        "fig, ax = plt.subplots(1, 2, figsize=(12, 7))\n",
        "sm.ProbPlot(skewed_norm).qqplot(line='s', ax=ax[1]);\n",
        "sns.histplot(skewed_norm,kde=True, color ='blue',ax=ax[0])\n",
        "\n",
        "# plot for left-tailed distribution\n",
        "fig, ax = plt.subplots(1, 2, figsize=(12, 7))\n",
        "sm.ProbPlot(skew_left_norm).qqplot(line='s',color='red', ax=ax[1]);\n",
        "sns.histplot(skew_left_norm,kde=True, color ='red',ax=ax[0])\n",
        "\n",
        "# plot for heavy tailed distribution\n",
        "fig, ax = plt.subplots(1, 2, figsize=(12, 7))\n",
        "sm.ProbPlot(heavy_tailed_norm).qqplot(line='s',color ='green', ax=ax[1]);\n",
        "sns.histplot(heavy_tailed_norm,kde=True, color ='green',ax=ax[0])\n",
        "sns.histplot(standard_norm,kde=True, color ='red',ax=ax[0])"
      ],
      "metadata": {
        "id": "GGO8EzqGybGq"
      },
      "execution_count": null,
      "outputs": []
    },
    {
      "cell_type": "code",
      "source": [
        "fig, ax = plt.subplots(1, 2, figsize=(12, 7))\n",
        "sns.histplot(effects_sorted['Standardized effect'],kde=True, color ='blue',ax=ax[0])\n",
        "sm.ProbPlot(effects_sorted['Standardized effect']).qqplot(line='s', ax=ax[1])\n"
      ],
      "metadata": {
        "id": "S-CneXizyrrk"
      },
      "execution_count": null,
      "outputs": []
    },
    {
      "cell_type": "code",
      "source": [
        "mod_final = smf.ols(formula='y1 ~ x1 + x4 + x6', data=doe)\n",
        "\n",
        "res_final = mod_final.fit()\n",
        "res_final.summary()"
      ],
      "metadata": {
        "id": "_pdozWN3jICb"
      },
      "execution_count": null,
      "outputs": []
    },
    {
      "cell_type": "markdown",
      "source": [
        "The standard deviation of the model is calculated through:"
      ],
      "metadata": {
        "id": "xKgV1GtI4hwf"
      }
    },
    {
      "cell_type": "code",
      "source": [
        "res_final.scale**.5"
      ],
      "metadata": {
        "id": "xW2HSwlVk9NW"
      },
      "execution_count": null,
      "outputs": []
    },
    {
      "cell_type": "markdown",
      "source": [
        "which is dentical to np.sqrt(np.sum(res_final.resid**2)/res_final.df_resid)\n",
        "\n",
        "In final, let's plt the regression plot."
      ],
      "metadata": {
        "id": "TSORXVfL4Qx7"
      }
    },
    {
      "cell_type": "code",
      "source": [
        "\n",
        "ypred = res_final.predict(doe.loc[:,'x1':'x6'])\n",
        "#print(ypred)\n",
        "\n",
        "d = pd.DataFrame({'y_pred':ypred,'y_real':doe['y1']})\n",
        "d.plot.scatter(x='y_real', y='y_pred')\n",
        "\n",
        "x=np.linspace(5,20,101)\n",
        "\n",
        "plt.plot(x,x,'k-') # identity line"
      ],
      "metadata": {
        "id": "wXTIBpyE4Yoi"
      },
      "execution_count": null,
      "outputs": []
    },
    {
      "cell_type": "markdown",
      "source": [
        "and the residual plot"
      ],
      "metadata": {
        "id": "rtSg21vo-2AQ"
      }
    },
    {
      "cell_type": "code",
      "source": [
        "plt.scatter(ypred,res_final.resid)\n",
        "plt.xlabel('ypred')\n",
        "plt.ylabel('residual')"
      ],
      "metadata": {
        "id": "UmQZHwWq5Lwj"
      },
      "execution_count": null,
      "outputs": []
    }
  ]
}