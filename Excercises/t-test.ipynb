{
  "nbformat": 4,
  "nbformat_minor": 0,
  "metadata": {
    "colab": {
      "provenance": [],
      "authorship_tag": "ABX9TyNIfC6LArAz2zZO3yhuwyJu",
      "include_colab_link": true
    },
    "kernelspec": {
      "name": "python3",
      "display_name": "Python 3"
    },
    "language_info": {
      "name": "python"
    }
  },
  "cells": [
    {
      "cell_type": "markdown",
      "metadata": {
        "id": "view-in-github",
        "colab_type": "text"
      },
      "source": [
        "<a href=\"https://colab.research.google.com/github/peterbmob/DHMVADoE/blob/main/Excercises/t-test.ipynb\" target=\"_parent\"><img src=\"https://colab.research.google.com/assets/colab-badge.svg\" alt=\"Open In Colab\"/></a>"
      ]
    },
    {
      "cell_type": "markdown",
      "source": [
        "# t-test in Python\n",
        "\n",
        "Before we delve deeper into the details of the t-test, let us quickly understand some of the associated terminologies that will help strengthen your conceptual grasp of this statistical test.\n",
        "\n",
        "## Hypothesis testing\n",
        "\n",
        "Hypothesis testing is the process of starting with an **assumption** or **null hypothesis** and attempting to find evidence to reject it. The null hypothesis represents the status quo, while the alternative hypothesis represents the opposite of the null hypothesis.\n",
        "\n",
        "## P-Value\n",
        "The p-value is the **probability** of obtaining **results as extreme** as the observed ones, assuming the null hypothesis is true. A small p-value indicates that the probability of obtaining the observed results is very low, given that the null hypothesis is correct.\n",
        "\n",
        "## Significance Level\n",
        "The significance level, denoted by $\\alpha$, represents the probability of rejecting the null hypothesis, assuming it is true. It is also known as a Type 1 error.\n",
        "\n",
        "## Statistical Significance\n",
        "Statistical significance refers to the confidence that the observed result is not due to chance. It is important to note that statistical significance does not necessarily mean practical significance, as the observed result could still be negligible in practical terms. Sampling error can also contribute to statistical significance if the sample does not accurately represent the larger population."
      ],
      "metadata": {
        "id": "CypOurlmLE0P"
      }
    },
    {
      "cell_type": "markdown",
      "source": [
        "## Assumptions\n",
        "Understanding the assumptions of a statistical test is crucial to ensure accurate and reliable results. The t-test is no exception. Any violation of its assumptions could lead to misleading conclusions, which would be counterproductive. Let's explore the four assumptions of the t-test in detail:\n",
        "\n",
        "- **Property of Independence** Firstly, the property of independence states that observations are not influenced by any implicit factor in the data and are not correlated over time.\n",
        "\n",
        "- **Identically Distributed** Secondly, the presence of outliers, or anomalous data records, can impact the lower t-statistic value and lead to increased variance in the data, affecting the probability of rejecting the null hypothesis. Therefore, it's crucial to identify and understand the underlying reasons for anomalous behavior to determine whether it is legitimate or erroneous data. Consulting a domain expert can help in comprehending the data's true behavior.\n",
        "\n",
        "- **Normally Distributed** Thirdly, the t-test is only valid for normally distributed data. Skewed data may lead to incorrect rejection of the null hypothesis. However, it's difficult to test for normal distribution with limited data points. In such cases, nonparametric tests that do not assume the data's distribution can be used, or data transformation can be performed as a corrective measure to achieve normality.cases, it is suggested to either use a nonparametric test (which does not make a distributional assumption of data) or perform data transformation as a corrective measure toward normality.\n",
        "\n",
        "- **Equal Variances** Finally, the two populations being compared should have equal variances for the t-test to hold. This can be tested graphically using a Q-Q plot. Now that we have a better understanding of the t-test assumptions, let's explore different types of t-tests through a Python example. By the end of this tutorial, you will have the necessary knowledge to perform t-tests and interpret their results with confidence.\n"
      ],
      "metadata": {
        "id": "sovM8xrdMa0w"
      }
    },
    {
      "cell_type": "markdown",
      "source": [
        "# One/Sample t-test\n",
        "\n",
        "The one-sample t-test is a statistical hypothesis test that helps determine if an unknown population mean (mu) does not equal a claimed value.\n",
        "\n",
        "\\begin{equation}\n",
        "t=\\frac{\\bar{x}-\\mu}{s/\\sqrt{n}}\n",
        "\\end{equation}\n",
        "\n",
        "$\\bar{x}$ = sample mean\n",
        "\n",
        "$\\mu$ = population mean\n",
        "\n",
        "s = sample standard deviation\n",
        "\n",
        "n = population size\n",
        "\n",
        "t = t-statistic\n",
        "\n",
        "Let’s understand this by using an **example**. A company claims to produce ball bearings of 10 cm diameter (null hypothesis), and you decide to audit if that is true. You collect 21 ball bearings from multiple shops around the city and measure their diameter. You must determine if the company’s claim is false (alternate hypothesis) based on the measurements.\n",
        "\n",
        "The test is designed as follows:\n",
        "\n",
        "Null Hypothesis, $$ H_0:  x = mu $$\n",
        "Alternative Hypothesis, $$ H_a : x \\neq \\mu$$  \n",
        "\n",
        "To declare the claims as false, you need to statistically prove that the measurements from the sample of bearings are different from the 10 cm claimed by the company. As the sample size is 21 (which is less than 30), we use a t-test. Here the sample mean is 11 cm, and the standard deviation is 1 cm.\n",
        "\n",
        "Let's see how to conduct this one/sample t/test in Python using function\n",
        "\n",
        "```\n",
        "scipy.stats.ttest_1samp()\n",
        "```\n",
        "\n"
      ],
      "metadata": {
        "id": "UqM2smU1OHCa"
      }
    },
    {
      "cell_type": "code",
      "execution_count": 2,
      "metadata": {
        "id": "D6QZ9kjXQcyC"
      },
      "outputs": [],
      "source": [
        "# import necessary libraries numpy and scipy.stats\n",
        "import numpy as np\n",
        "from scipy import stats"
      ]
    },
    {
      "cell_type": "code",
      "source": [
        "# Population mean\n",
        "mu = 10   # set the variable population mean to 10\n",
        "\n",
        "# Sample size\n",
        "N1 = 10  # set the variable sample size to 21\n",
        "\n",
        "# Degrees of Freedom\n",
        "dof = N1 - 1 #degrees of freedom is calculated as the sample size - 1\n",
        "\n",
        "# Generate a random sample with mean = 11 and standard deviation = 1\n",
        "x = np.random.randn(N1) + 11 # Next, a random sample of size 21 is generated using numpy's random.randn function, with a mean of 11 and standard deviation of 1.\n",
        "                             # The np.random.randn() function generates random numbers from a standard normal distribution, and the + operator shifts the mean to the desired value.\n",
        "\n",
        "# Using the Stats Library, compute t-statistic and p-value\n",
        "t_stat, p_val = stats.ttest_1samp(a=x, popmean = mu) #the t-statistic and p-value are calculated using the stats.ttest_1samp function from the scipy.stats library.\n",
        "print('t-statistic =', t_stat) # The results are printed to the console using the print function.\n",
        "\n",
        "print('p-values =', p_val) # The results are printed to the console using the print function."
      ],
      "metadata": {
        "colab": {
          "base_uri": "https://localhost:8080/"
        },
        "id": "i8LruRP7Qh-1",
        "outputId": "a0f2d48a-5fec-4a25-dff1-a5453b7809ed"
      },
      "execution_count": 3,
      "outputs": [
        {
          "output_type": "stream",
          "name": "stdout",
          "text": [
            "t-statistic = 2.649761667998453\n",
            "p-values = 0.026486543332793166\n"
          ]
        }
      ]
    },
    {
      "cell_type": "markdown",
      "source": [
        "The t-statistic measures the difference between the sample mean and the population mean in units of the standard error, while the p-value represents the probability of obtaining a t-statistic as extreme or more extreme than the observed value, assuming the null hypothesis (that the population mean is equal to the sample mean) is true.\n",
        "\n",
        "## Interpretation of the results\n",
        "The value of t-statistic comes out to be large which seems to be very far from the mean of zero in a t-distribution. To quantify such extreme value, we refer to a p-value (which is introduced in the terminology section). The p-value is less than the default significance level of 0.05, which indicates that the probability of such an extreme outcome is close to zero and that the null hypothesis can be rejected.\n",
        "\n",
        "Note that the significance level is set at the beginning of the experiment.\n",
        "\n",
        "In the example above, we used the library scipy.stats. We can of course compute it directly using the formulas:"
      ],
      "metadata": {
        "id": "tjIEPbpIT9we"
      }
    },
    {
      "cell_type": "code",
      "source": [
        "\n",
        "# Sample Mean\n",
        "x_bar = x.mean()\n",
        "\n",
        "# Standard Deviation\n",
        "std = np.std(x, ddof=1)\n",
        "\n",
        "# Standard Error\n",
        "ste = std/np.sqrt(N1)\n",
        "\n",
        "# Calculating the T-Statistics\n",
        "t_stat = (x_bar - mu) / ste\n",
        "\n",
        "# p-value of the t-statistic\n",
        "p_val = 2*(1 - stats.t.cdf(abs(t_stat), df = dof))\n",
        "print(\"t-statistic = \" + str(t_stat))\n",
        "print(\"p-value = \" + str(p_val))"
      ],
      "metadata": {
        "colab": {
          "base_uri": "https://localhost:8080/"
        },
        "id": "cIOH94oqQ9u2",
        "outputId": "97d0d4c2-9968-487b-b3bf-1d9a5a25fb7e"
      },
      "execution_count": 4,
      "outputs": [
        {
          "output_type": "stream",
          "name": "stdout",
          "text": [
            "t-statistic = 2.649761667998453\n",
            "p-value = 0.02648654333279321\n"
          ]
        }
      ]
    },
    {
      "cell_type": "markdown",
      "source": [
        "# Two-sample t-test in Python\n",
        "\n",
        "Let’s extend our example by assuming that the company sets up another factory to produce identical ball bearings. We need to find out if the ball bearings from the two factories are of different sizes. For such a scenario, we use the two-sample test. Here the t-statistic is defined as below.\n",
        "\n",
        "\\begin{equation}\n",
        "t=\\frac{\\bar{X_1}-\\bar{X_2}}{\\sqrt{\\frac{s_1^2}{N_1}+\\frac{s_2^2}{N_2}}}\n",
        "\\end{equation}\n",
        "\n",
        "$\\bar{X_1}$ = First sample mean\n",
        "\n",
        "$\\bar{X_1}$ = First sample mean\n",
        "\n",
        "$s_1$ = First sample standard deviation\n",
        "\n",
        "$s_2$ = Second sample standard deviation\n",
        "\n",
        "$N_1$ = First population size\n",
        "\n",
        "$N_2$ = Second population size\n",
        "\n",
        "t = t-statistic\n",
        "\n",
        "Let's again take an example...\n",
        "Let’s consider that the first factory shares 21 samples of ball bearings where the mean diameter of the sample comes out to be 10.5 cm. On the other hand, the second factory shares 25 samples with a mean diameter of 9.5 cm. Both have a standard deviation of 1 cm.\n"
      ],
      "metadata": {
        "id": "x-Vi9sVyU_Au"
      }
    },
    {
      "cell_type": "code",
      "source": [
        "# Sample Sizes\n",
        "N1, N2 = 21, 25 # the sample sizes are defined as N1=21 and N2=25.\n",
        "\n",
        "# Degrees of freedom\n",
        "dof = min(N1,N2) - 1 # the degrees of freedom are calculated as the minimum of N1 and N2 minus 1.\n",
        "\n",
        "# Gaussian distributed data with mean = 10.5 and var = 1\n",
        "x = np.random.randn(N1) + 10.5 #  First sets of data are generated using NumPy's random.randn() function.\n",
        "\n",
        "# Gaussian distributed data with mean = 9.5 and var = 1\n",
        "y = np.random.randn(N2) + 9.5 #  second sets of data are generated using NumPy's random.randn() function.\n",
        "\n",
        "## Using the internal function from SciPy Package\n",
        "t_stat, p_val = stats.ttest_ind(x, y)  # the ttest_ind() function from the SciPy package is used to perform a two-sample t-test on the two sets of data.\n",
        "print(\"t-statistic = \" + str(t_stat))\n",
        "print(\"p-value = \" + str(p_val))"
      ],
      "metadata": {
        "colab": {
          "base_uri": "https://localhost:8080/"
        },
        "id": "wPrkSqAFW_XY",
        "outputId": "fda655cf-b86d-424b-db99-3b4be8b10ea1"
      },
      "execution_count": 5,
      "outputs": [
        {
          "output_type": "stream",
          "name": "stdout",
          "text": [
            "t-statistic = 2.596385279058884\n",
            "p-value = 0.012759648044052939\n"
          ]
        }
      ]
    },
    {
      "cell_type": "markdown",
      "source": [
        "Referring to the p-value which is less than the significance level of 0.05, we reject the null hypothesis stating that the bearings from the two factories are not identical."
      ],
      "metadata": {
        "id": "acxg0lICXruI"
      }
    },
    {
      "cell_type": "markdown",
      "source": [
        "# Paired t-test in Python\n",
        "\n",
        "Upon sharing these results with the company, it decides to improve its manufacturing technology by introducing a new casting machine. It starts this pilot from one of the factories and conducts a test to identify if the new casting machine leads to a change in the diameter of the bearings by comparing two samples of 25 bearings – one before the new machine was introduced and the other sample after it.\n",
        "\n",
        "The mean diameter comes out to be 10.5cm and 9.9cm, respectively.\n",
        "\n",
        "Let’s perform a paired t-test to verify if the change is statistically significant."
      ],
      "metadata": {
        "id": "7R_u6wIGYyZk"
      }
    },
    {
      "cell_type": "code",
      "source": [
        "# Sample Sizes\n",
        "N = 25\n",
        "\n",
        "# Degrees of freedom\n",
        "dof = N - 1\n",
        "\n",
        "# Gaussian distributed data with mean = 10.5 and var = 1\n",
        "x = np.random.randn(N) + 10.5\n",
        "\n",
        "# Gaussian distributed data with mean = 9.9 and var = 1\n",
        "y = np.random.randn(N) + 9.9\n",
        "\n",
        "t_stat, p_val = stats.ttest_rel(x,y) # The stats.ttest_rel() function from the SciPy library performs a paired t-test on the two sets of data.\n",
        "print(\"t-statistic = \" + str(t_stat))\n",
        "print(\"p-value = \" + str(p_val))"
      ],
      "metadata": {
        "colab": {
          "base_uri": "https://localhost:8080/"
        },
        "id": "Ok70UB_rsuG7",
        "outputId": "5b387859-f400-4ed8-9f7e-8547d1719e38"
      },
      "execution_count": 6,
      "outputs": [
        {
          "output_type": "stream",
          "name": "stdout",
          "text": [
            "t-statistic = 2.2331220438790997\n",
            "p-value = 0.03512678531177078\n"
          ]
        }
      ]
    },
    {
      "cell_type": "markdown",
      "source": [
        "The low p-value indicates that the null hypothesis is rejected, i.e., there is no change in the diameter of the ball bearings after introducing the new casting machine.\n",
        "\n",
        "# Caveats of a paired t-test\n",
        "The assumptions paired t-test are valid on the differences of the pair and not on the original observations. Hence, it is important to ensure that the differences between the pairs are symmetrically distributed and do not have outliers among them.\n",
        "\n"
      ],
      "metadata": {
        "id": "tvt8iOMqtPzh"
      }
    },
    {
      "cell_type": "markdown",
      "source": [
        "# Welch's t-test in Python\n",
        "After a successful pilot from the new casting machine at one factory, the company wants to try another pilot at its second factory with a new rubbing machine. This machine is known to produce highly accurate ball bearings but is affected by temperature changes and power fluctuations. The company needs to identify if the ball bearings from the two factories are different by comparing  21 samples from the first factory and 25 from the second factory.\n",
        "\n",
        "\n",
        "The mean diameter of bearings from the first factory turns out to be 9.9 cm with a standard deviation of 1 cm, whereas the mean diameter from the second factory turns out to be 10 cm with a standard deviation of 3 cm.  As the standard deviation of the two samples is different, we will use Welch’s t-test."
      ],
      "metadata": {
        "id": "hCReLu1StpBI"
      }
    },
    {
      "cell_type": "code",
      "source": [
        "# Sample Sizes\n",
        "N1, N2 = 21, 25\n",
        "\n",
        "# Degrees of freedom\n",
        "dof = min(N1,N2) - 1\n",
        "\n",
        "# Gaussian distributed data with mean = 9.9 and var = 1\n",
        "x = np.random.randn(N1) + 9.9\n",
        "\n",
        "# Gaussian distributed data with mean = 10 and var = 3\n",
        "y = 3*np.random.randn(N2) + 10\n",
        "\n",
        "## Using SciPy Package\n",
        "t_stat, p_val = stats.ttest_ind(x, y, equal_var = False)\n",
        "print(\"t-statistic = \" + str(t_stat))\n",
        "print(\"p-value = \" + str(p_val))"
      ],
      "metadata": {
        "colab": {
          "base_uri": "https://localhost:8080/"
        },
        "id": "rqXs08gft5qa",
        "outputId": "4e9b24ce-a236-4dba-e8b2-58671f3694c1"
      },
      "execution_count": 7,
      "outputs": [
        {
          "output_type": "stream",
          "name": "stdout",
          "text": [
            "t-statistic = 0.37434812299423337\n",
            "p-value = 0.7107903375826337\n"
          ]
        }
      ]
    },
    {
      "cell_type": "markdown",
      "source": [
        "The observed p-value is greater than the significance level of 0.05 which indicates that we fail to reject the null hypothesis implying that the bearings from the two factories are identical. We can not be sure of the results due to the high standard deviation of the samples from the second factory; hence we will need to collect more samples to perform the z-test.\n",
        "\n",
        "\n",
        "# Caveats of Welch's t-test\n",
        "Unlike other t-tests, Welch's t-test is applicable for unequal population variances\n"
      ],
      "metadata": {
        "id": "mVFvI440uJmn"
      }
    },
    {
      "cell_type": "markdown",
      "source": [
        "# Conclusion\n",
        "Data has the power to uncover the true underlying phenomenon impacting business decisions only if interrogated rightly. It requires a robust understanding of different statistical tests to know which one to apply and when. This tutorial focuses on t-tests and explains their underlying assumptions, such as independent and identically distributed observations and normal distribution.\n",
        "\n",
        "Besides giving a quick primer on hypothesis testing, this tutorial also gives a comprehensive view of different types of t-tests with the help of an example. You are highly encouraged to practice conducting a t-test using python and evaluate which one should be used to assess the statistical significance of your experiment.    "
      ],
      "metadata": {
        "id": "kxjssr_ZuV_W"
      }
    },
    {
      "cell_type": "code",
      "source": [],
      "metadata": {
        "id": "yyQJiRT_uI0Y"
      },
      "execution_count": null,
      "outputs": []
    }
  ]
}
