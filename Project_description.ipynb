{
  "nbformat": 4,
  "nbformat_minor": 0,
  "metadata": {
    "colab": {
      "provenance": [],
      "authorship_tag": "ABX9TyNDLN/xaIUn8h1Rut/hLiHU",
      "include_colab_link": true
    },
    "kernelspec": {
      "name": "python3",
      "display_name": "Python 3"
    },
    "language_info": {
      "name": "python"
    }
  },
  "cells": [
    {
      "cell_type": "markdown",
      "metadata": {
        "id": "view-in-github",
        "colab_type": "text"
      },
      "source": [
        "<a href=\"https://colab.research.google.com/github/peterbmob/DHMVADoE/blob/main/Project_description.ipynb\" target=\"_parent\"><img src=\"https://colab.research.google.com/assets/colab-badge.svg\" alt=\"Open In Colab\"/></a>"
      ]
    },
    {
      "cell_type": "markdown",
      "source": [
        "# Project in the course Design of Experiemnts, Data Handling and Statistical Analysis for Material Scientists\n",
        "\n",
        "matminer is a Python library for data mining the properties of materials.\n",
        "\n",
        "Matminer contains routines for 40+ datasets (described [here](https://hackingmaterials.lbl.gov/matminer/dataset_summary.html))\n",
        "\n",
        "The datasets available by loading the following modules:\n",
        "\n",
        "- load_boltztrap_mp()\n",
        "- load_brgoch_superhard_training()\n",
        "- load_castelli_perovskites()\n",
        "- load_citrine_thermal_conductivity()\n",
        "- load_dielectric_constant()\n",
        "- load_double_perovskites_gap()\n",
        "- load_double_perovskites_gap_lumo()\n",
        "- load_elastic_tensor()\n",
        "- load_expt_formation_enthalpy()\n",
        "- load_expt_gap()\n",
        "- load_flla()\n",
        "- load_glass_binary()\n",
        "- load_glass_ternary_hipt()\n",
        "- load_glass_ternary_landolt()\n",
        "- load_heusler_magnetic()\n",
        "- load_jarvis_dft_2d()\n",
        "- load_jarvis_dft_3d()\n",
        "- load_jarvis_ml_dft_training()\n",
        "- load_m2ax()\n",
        "- load_mp()\n",
        "- load_phonon_dielectric_mp()\n",
        "- load_piezoelectric_tensor()\n",
        "- load_steel_strength()\n",
        "- load_wolverton_oxides()\n",
        "\n",
        "To load the data set:\n",
        "\n",
        "\n",
        "\n",
        "```\n",
        "from matminer.datasets.convenience_loaders import load_elastic_tensor\n",
        "df = load_elastic_tensor()  # loads dataset in a pandas DataFrame object\n",
        "\n",
        "```\n",
        "\n",
        "Watch columns:\n",
        "\n",
        "\n",
        "\n",
        "```\n",
        "df.head()\n",
        "```\n",
        "\n",
        "Drop unwanted columns:\n",
        "\n",
        "\n",
        "```\n",
        "unwanted_columns = [\"volume\", \"nsites\", \"compliance_tensor\", \"elastic_tensor\",\n",
        "                    \"elastic_tensor_original\", \"K_Voigt\", \"G_Voigt\", \"K_Reuss\", \"G_Reuss\"]\n",
        "df = df.drop(unwanted_columns, axis=1)\n",
        "```\n",
        "\n",
        "Matminer has its own featurizer described [here](https://hackingmaterials.lbl.gov/matminer/featurizer_summary.html). More features can be obtained using the [CBFV package](https://github.com/Kaaiian/CBFV).\n",
        "\n",
        "## Task:\n",
        "1. Choose a suitable material property.\n",
        "2. Investigate what features are important to describe it.\n",
        "3. Build a model with as few variables as possible that describe the property you selected.\n",
        "4. Predict/optimize the property at hand... here you must have an \"imaginary\" application for the property you have choosen. Try to figure out a case where you want a certain value for the proerty at hand.\n",
        "\n",
        "\n",
        "In the report, I want to see how you set up the workflow (from data aqcuisition to sharing the results) for solving the problem. Try to write an introduction from a materials science point of view.\n",
        "\n",
        "\n",
        "\n"
      ],
      "metadata": {
        "id": "O0PvyUG0sBFU"
      }
    },
    {
      "cell_type": "code",
      "execution_count": null,
      "metadata": {
        "id": "WNN2-ZWAsAaH"
      },
      "outputs": [],
      "source": []
    }
  ]
}