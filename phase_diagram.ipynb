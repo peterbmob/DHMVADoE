{
  "nbformat": 4,
  "nbformat_minor": 0,
  "metadata": {
    "colab": {
      "provenance": [],
      "authorship_tag": "ABX9TyOpDrgKs9pC2Yj8ik0LwXmI",
      "include_colab_link": true
    },
    "kernelspec": {
      "name": "python3",
      "display_name": "Python 3"
    },
    "language_info": {
      "name": "python"
    }
  },
  "cells": [
    {
      "cell_type": "markdown",
      "metadata": {
        "id": "view-in-github",
        "colab_type": "text"
      },
      "source": [
        "<a href=\"https://colab.research.google.com/github/peterbmob/DHMVADoE/blob/main/phase_diagram.ipynb\" target=\"_parent\"><img src=\"https://colab.research.google.com/assets/colab-badge.svg\" alt=\"Open In Colab\"/></a>"
      ]
    },
    {
      "cell_type": "markdown",
      "source": [
        "# Estimate density from binary phase diagram"
      ],
      "metadata": {
        "id": "Qj9OenXt3og4"
      }
    },
    {
      "cell_type": "code",
      "execution_count": 1,
      "metadata": {
        "colab": {
          "base_uri": "https://localhost:8080/"
        },
        "id": "a-n8HFwe1Wnd",
        "outputId": "49a92f9b-a60f-42b5-e0ae-c28b1b011379"
      },
      "outputs": [
        {
          "output_type": "stream",
          "name": "stdout",
          "text": [
            "Collecting bayesian-optimization\n",
            "  Downloading bayesian_optimization-1.4.3-py3-none-any.whl (18 kB)\n",
            "Requirement already satisfied: numpy>=1.9.0 in /usr/local/lib/python3.10/dist-packages (from bayesian-optimization) (1.23.5)\n",
            "Requirement already satisfied: scipy>=1.0.0 in /usr/local/lib/python3.10/dist-packages (from bayesian-optimization) (1.11.2)\n",
            "Requirement already satisfied: scikit-learn>=0.18.0 in /usr/local/lib/python3.10/dist-packages (from bayesian-optimization) (1.2.2)\n",
            "Collecting colorama>=0.4.6 (from bayesian-optimization)\n",
            "  Downloading colorama-0.4.6-py2.py3-none-any.whl (25 kB)\n",
            "Requirement already satisfied: joblib>=1.1.1 in /usr/local/lib/python3.10/dist-packages (from scikit-learn>=0.18.0->bayesian-optimization) (1.3.2)\n",
            "Requirement already satisfied: threadpoolctl>=2.0.0 in /usr/local/lib/python3.10/dist-packages (from scikit-learn>=0.18.0->bayesian-optimization) (3.2.0)\n",
            "Installing collected packages: colorama, bayesian-optimization\n",
            "Successfully installed bayesian-optimization-1.4.3 colorama-0.4.6\n"
          ]
        }
      ],
      "source": [
        "!pip install bayesian-optimization"
      ]
    },
    {
      "cell_type": "code",
      "source": [
        "!pip install ase"
      ],
      "metadata": {
        "colab": {
          "base_uri": "https://localhost:8080/"
        },
        "id": "FyGFN6ix14ZW",
        "outputId": "9e8ad77d-e3ca-48b4-c36a-9f0fe804fde0"
      },
      "execution_count": 3,
      "outputs": [
        {
          "output_type": "stream",
          "name": "stdout",
          "text": [
            "Collecting ase\n",
            "  Downloading ase-3.22.1-py3-none-any.whl (2.2 MB)\n",
            "\u001b[?25l     \u001b[90m━━━━━━━━━━━━━━━━━━━━━━━━━━━━━━━━━━━━━━━━\u001b[0m \u001b[32m0.0/2.2 MB\u001b[0m \u001b[31m?\u001b[0m eta \u001b[36m-:--:--\u001b[0m\r\u001b[2K     \u001b[91m━━━━━━━━━━━\u001b[0m\u001b[90m╺\u001b[0m\u001b[90m━━━━━━━━━━━━━━━━━━━━━━━━━━━━\u001b[0m \u001b[32m0.6/2.2 MB\u001b[0m \u001b[31m17.9 MB/s\u001b[0m eta \u001b[36m0:00:01\u001b[0m\r\u001b[2K     \u001b[90m━━━━━━━━━━━━━━━━━━━━━━━━━━━━━━━━━━━━━━━━\u001b[0m \u001b[32m2.2/2.2 MB\u001b[0m \u001b[31m36.9 MB/s\u001b[0m eta \u001b[36m0:00:00\u001b[0m\n",
            "\u001b[?25hRequirement already satisfied: matplotlib>=3.1.0 in /usr/local/lib/python3.10/dist-packages (from ase) (3.7.1)\n",
            "Requirement already satisfied: numpy>=1.15.0 in /usr/local/lib/python3.10/dist-packages (from ase) (1.23.5)\n",
            "Requirement already satisfied: scipy>=1.1.0 in /usr/local/lib/python3.10/dist-packages (from ase) (1.11.2)\n",
            "Requirement already satisfied: contourpy>=1.0.1 in /usr/local/lib/python3.10/dist-packages (from matplotlib>=3.1.0->ase) (1.1.0)\n",
            "Requirement already satisfied: cycler>=0.10 in /usr/local/lib/python3.10/dist-packages (from matplotlib>=3.1.0->ase) (0.11.0)\n",
            "Requirement already satisfied: fonttools>=4.22.0 in /usr/local/lib/python3.10/dist-packages (from matplotlib>=3.1.0->ase) (4.42.1)\n",
            "Requirement already satisfied: kiwisolver>=1.0.1 in /usr/local/lib/python3.10/dist-packages (from matplotlib>=3.1.0->ase) (1.4.5)\n",
            "Requirement already satisfied: packaging>=20.0 in /usr/local/lib/python3.10/dist-packages (from matplotlib>=3.1.0->ase) (23.1)\n",
            "Requirement already satisfied: pillow>=6.2.0 in /usr/local/lib/python3.10/dist-packages (from matplotlib>=3.1.0->ase) (9.4.0)\n",
            "Requirement already satisfied: pyparsing>=2.3.1 in /usr/local/lib/python3.10/dist-packages (from matplotlib>=3.1.0->ase) (3.1.1)\n",
            "Requirement already satisfied: python-dateutil>=2.7 in /usr/local/lib/python3.10/dist-packages (from matplotlib>=3.1.0->ase) (2.8.2)\n",
            "Requirement already satisfied: six>=1.5 in /usr/local/lib/python3.10/dist-packages (from python-dateutil>=2.7->matplotlib>=3.1.0->ase) (1.16.0)\n",
            "Installing collected packages: ase\n",
            "Successfully installed ase-3.22.1\n"
          ]
        }
      ]
    },
    {
      "cell_type": "code",
      "source": [
        "from bayes_opt import BayesianOptimization\n",
        "from bayes_opt import UtilityFunction\n",
        "import numpy as np\n",
        "\n",
        "import ase\n",
        "from ase import phasediagram\n",
        "from ase.calculators import emt\n",
        "from ase.visualize import view\n",
        "from ase import optimize\n",
        "import random\n",
        "\n",
        "\n",
        "import matplotlib.pyplot as plt\n",
        "from matplotlib import gridspec\n",
        "%matplotlib inline"
      ],
      "metadata": {
        "id": "DD1WuDmw1k5-"
      },
      "execution_count": 7,
      "outputs": []
    },
    {
      "cell_type": "code",
      "source": [
        "class Tpsd(optimize.optimize.Optimizer):\n",
        "  \"\"\"Two-point steepest descent optimiser.  Optimises both the atomic\n",
        "  coordinates and the unit cell\n",
        "  \"\"\"\n",
        "  def __init__(self, atoms, restart=None, logfile='-', trajectory=None,\n",
        "               master=None):\n",
        "    super().__init__(atoms, restart, logfile, trajectory, master)\n",
        "    self.delta_pos = np.zeros(atoms.positions.shape)\n",
        "\n",
        "    self.f0 = np.ones(atoms.positions.shape)\n",
        "    self.delta_force = np.zeros(atoms.positions.shape)\n",
        "\n",
        "    self.pressure = 0.0001\n",
        "    self.pressure_mtx = np.zeros((3, 3))\n",
        "    np.fill_diagonal(self.pressure_mtx, self.pressure)\n",
        "    self.delta_lattice = np.zeros((3, 3))\n",
        "\n",
        "    self.s0 = np.zeros((3, 3))\n",
        "    self.stepsize = 0.001\n",
        "    self.stress_max = 0.001\n",
        "    self.residual_stress = None\n",
        "\n",
        "  def step(self, f=None):\n",
        "    atoms = self.atoms\n",
        "\n",
        "    cell_mtx = atoms.get_cell()[:]\n",
        "    stress_mtx = atoms.get_stress(voigt=False)\n",
        "    forces = atoms.get_forces()\n",
        "\n",
        "    s = np.matmul(-stress_mtx, cell_mtx)\n",
        "    # H = U + pV\n",
        "    h = atoms.get_potential_energy() + self.pressure * atoms.get_volume() # Enthalpy\n",
        "\n",
        "    # Calculate differences since last step\n",
        "    delta_force = forces - self.f0\n",
        "    delta_s = s - self.s0\n",
        "\n",
        "    xg = np.sum(np.multiply(self.delta_pos, delta_force)) + np.sum(np.multiply(self.delta_lattice, delta_s))\n",
        "    gg = np.sum(np.multiply(delta_force, delta_force)) + np.sum(np.multiply(delta_s, delta_s))\n",
        "\n",
        "    if (abs(xg) > 0):\n",
        "      self.stepsize = abs(xg / gg)\n",
        "\n",
        "    # Move the positions\n",
        "    self.delta_pos = self.stepsize * forces\n",
        "    atoms.set_positions(atoms.positions + self.delta_pos)\n",
        "\n",
        "    # Move the unit cell\n",
        "    self.residual_stress = stress_mtx + self.pressure_mtx\n",
        "    self.delta_lattice = self.stepsize * np.matmul(-self.residual_stress, cell_mtx)\n",
        "    atoms.set_cell(cell=cell_mtx + self.delta_lattice, scale_atoms=True)\n",
        "\n",
        "    atoms.wrap()\n",
        "\n",
        "    # Save things for next step\n",
        "    self.f0 = forces\n",
        "    self.s0 = s\n",
        "\n",
        "  def converged(self, forces=None):\n",
        "    if self.residual_stress is not None:\n",
        "      residual_pressure = self.residual_stress.max()\n",
        "      if residual_pressure > self.stress_max:\n",
        "        return False\n",
        "\n",
        "    return super().converged(forces=forces)\n",
        "\n",
        "# The calculator\n",
        "calc = emt.EMT()\n",
        "\n",
        "def get_random_cell(length_range: tuple, angle_range: tuple):\n",
        "  \"\"\"Return random lattice parameters within the given ranges\"\"\"\n",
        "  return (\n",
        "      random.uniform(*length_range), # a\n",
        "      random.uniform(*length_range), # b\n",
        "      random.uniform(*length_range), # c\n",
        "      random.uniform(*angle_range), # alpha\n",
        "      random.uniform(*angle_range), # beta\n",
        "      random.uniform(*angle_range) # gamma\n",
        "  )\n",
        "\n",
        "def scale(atoms: ase.Atoms, volume: float):\n",
        "  \"\"\"Scale an atoms object to a given target volume\"\"\"\n",
        "  factor = (volume / atoms.get_volume())**(1/3)\n",
        "  atoms.set_cell(cell=atoms.get_cell() * factor)\n",
        "  return atoms"
      ],
      "metadata": {
        "id": "VJ6yXUA81kPl"
      },
      "execution_count": 5,
      "outputs": []
    },
    {
      "cell_type": "code",
      "source": [
        "# 1. Get a random unit cell with 'reasonable' parameters\n",
        "# (see https://wiki.fysik.dtu.dk/ase/index.html for explanations)\n",
        "cell = get_random_cell((20, 25), (80, 110))\n",
        "atoms = ase.Atoms(pbc=True, cell=cell)\n",
        "\n",
        "# 2. Now, decide how many atoms you want in your unit cell, we find that 18A^3\n",
        "# per atoms is a decent starting volume but feel free to play around.  Maybe\n",
        "# look up existing calculations on www.materialsproject.com??? or any other\n",
        "# database for materials science.\n",
        "NUM_ATOMS = 4\n",
        "atoms = scale(atoms, NUM_ATOMS * 18)\n",
        "\n",
        "# 3. Put atoms in your atoms object\n",
        "species = ('Au', 'Al')\n",
        "for _ in range(NUM_ATOMS):\n",
        "  atoms.append(ase.Atom(random.choice(species))) # Notice we don't set the position\n",
        "\n",
        "# 4. Randomise the starting positions of the atoms, have a look at the rattle()\n",
        "# method of Atoms, here: https://wiki.fysik.dtu.dk/ase/ase/atoms.html#ase.Atoms.rattle\n",
        "# for one way to do this. Make sure to choose a large enough standard deviation\n",
        "# that your atoms can be almost anywhere in the cell\n",
        "atoms.rattle(20)\n",
        "\n",
        "# We'll wrap the coordinates in case some cartesian coordinates went outside the cell\n",
        "atoms.wrap()\n",
        "\n",
        "# 5. Attach the emt calculator to the atoms object, have a look at the last\n",
        "# exercise for how to do this\n",
        "atoms.calc = emt.EMT()\n",
        "\n",
        "# Now, let's call the optimiser and minimise the atomic positions\n",
        "opt = Tpsd(atoms)\n",
        "opt.run(fmax=0.01)  # unit of force is eV/Å\n",
        "\n",
        "# You can also have a look at the optimized structure, does it look OK?\n",
        "#view(atoms) #, viewer='x3d')\n",
        "\n",
        "# Can you develop a new strategy/algorithm which is more efficient in finding low energy structures?"
      ],
      "metadata": {
        "colab": {
          "base_uri": "https://localhost:8080/"
        },
        "id": "RndbeXad2dMW",
        "outputId": "d21c34e5-3991-40b7-b4a3-ac34abf205a1"
      },
      "execution_count": 99,
      "outputs": [
        {
          "output_type": "stream",
          "name": "stdout",
          "text": [
            "      Step     Time          Energy         fmax\n",
            "Tpsd:    0 10:46:04       71.755608      399.1026\n",
            "Tpsd:    1 10:46:04       99.856561      105.3426\n",
            "Tpsd:    2 10:46:04       70.681103      110.5803\n",
            "Tpsd:    3 10:46:04       21.242890       75.5936\n",
            "Tpsd:    4 10:46:04        6.683478       14.5674\n",
            "Tpsd:    5 10:46:04        4.507529        5.3788\n",
            "Tpsd:    6 10:46:04        3.868470        2.7382\n",
            "Tpsd:    7 10:46:04        3.514752        2.2281\n",
            "Tpsd:    8 10:46:04        3.094789        2.0717\n",
            "Tpsd:    9 10:46:04        2.366471        1.5243\n",
            "Tpsd:   10 10:46:04        1.858690        0.7445\n",
            "Tpsd:   11 10:46:04        1.606223        0.6576\n",
            "Tpsd:   12 10:46:04        1.421665        0.5616\n",
            "Tpsd:   13 10:46:05        1.295858        0.5073\n",
            "Tpsd:   14 10:46:05        1.202221        0.4575\n",
            "Tpsd:   15 10:46:05        1.116924        0.4216\n",
            "Tpsd:   16 10:46:05        0.980019        0.3991\n",
            "Tpsd:   17 10:46:05        0.715461        0.3479\n",
            "Tpsd:   18 10:46:05        0.682157        0.7916\n",
            "Tpsd:   19 10:46:05        0.609350        0.2514\n",
            "Tpsd:   20 10:46:05        0.591668        0.1233\n",
            "Tpsd:   21 10:46:05        0.575037        0.0988\n",
            "Tpsd:   22 10:46:05        0.532139        0.0742\n",
            "Tpsd:   23 10:46:05        0.467879        0.0721\n",
            "Tpsd:   24 10:46:05        0.446834        0.2304\n",
            "Tpsd:   25 10:46:05        0.435036        0.0667\n",
            "Tpsd:   26 10:46:05        0.430221        0.0246\n",
            "Tpsd:   27 10:46:05        0.426671        0.0148\n",
            "Tpsd:   28 10:46:05        0.416807        0.0097\n",
            "Tpsd:   29 10:46:05        0.392883        0.0160\n",
            "Tpsd:   30 10:46:05        0.370367        0.0969\n",
            "Tpsd:   31 10:46:05        0.368641        0.1354\n",
            "Tpsd:   32 10:46:05        0.365599        0.0282\n",
            "Tpsd:   33 10:46:05        0.364806        0.0078\n",
            "Tpsd:   34 10:46:05        0.364202        0.0062\n",
            "Tpsd:   35 10:46:05        0.362881        0.0066\n",
            "Tpsd:   36 10:46:05        0.359507        0.0080\n",
            "Tpsd:   37 10:46:05        0.356161        0.0115\n",
            "Tpsd:   38 10:46:05        0.355844        0.0109\n",
            "Tpsd:   39 10:46:05        0.355748        0.0108\n",
            "Tpsd:   40 10:46:05        0.354797        0.0104\n",
            "Tpsd:   41 10:46:05        0.353330        0.0115\n",
            "Tpsd:   42 10:46:05        0.348418        0.0173\n",
            "Tpsd:   43 10:46:05        0.342572        0.0479\n",
            "Tpsd:   44 10:46:05        0.341635        0.0247\n",
            "Tpsd:   45 10:46:05        0.340550        0.0223\n",
            "Tpsd:   46 10:46:05        0.339692        0.0223\n",
            "Tpsd:   47 10:46:05        0.319954        0.0362\n",
            "Tpsd:   48 10:46:05        0.305801        0.0794\n",
            "Tpsd:   49 10:46:05        0.302255        0.0485\n",
            "Tpsd:   50 10:46:05        0.299171        0.0403\n",
            "Tpsd:   51 10:46:05        0.296466        0.0395\n",
            "Tpsd:   52 10:46:05        0.282886        0.0422\n",
            "Tpsd:   53 10:46:05        0.227681        0.0739\n",
            "Tpsd:   54 10:46:05        0.129727        0.1536\n",
            "Tpsd:   55 10:46:05        0.103217        0.1412\n",
            "Tpsd:   56 10:46:05        0.089166        0.0850\n",
            "Tpsd:   57 10:46:05        0.081009        0.0374\n",
            "Tpsd:   58 10:46:06        0.074133        0.0290\n",
            "Tpsd:   59 10:46:06        0.050492        0.0095\n",
            "Tpsd:   60 10:46:06        0.028637        0.0146\n",
            "Tpsd:   61 10:46:06        0.012055        0.0660\n",
            "Tpsd:   62 10:46:06        0.008433        0.0359\n",
            "Tpsd:   63 10:46:06        0.006386        0.0023\n",
            "Tpsd:   64 10:46:06        0.004587        0.0020\n",
            "Tpsd:   65 10:46:06       -0.016522        0.0023\n",
            "Tpsd:   66 10:46:06       -0.033317        0.0205\n",
            "Tpsd:   67 10:46:06       -0.035692        0.0461\n",
            "Tpsd:   68 10:46:06       -0.036975        0.0088\n",
            "Tpsd:   69 10:46:06       -0.037721        0.0033\n",
            "Tpsd:   70 10:46:06       -0.038412        0.0018\n",
            "Tpsd:   71 10:46:06       -0.039601        0.0008\n",
            "Tpsd:   72 10:46:06       -0.045209        0.0032\n",
            "Tpsd:   73 10:46:06       -0.051500        0.0571\n",
            "Tpsd:   74 10:46:06       -0.052390        0.0136\n",
            "Tpsd:   75 10:46:06       -0.052708        0.0011\n",
            "Tpsd:   76 10:46:06       -0.052983        0.0009\n",
            "Tpsd:   77 10:46:06       -0.059594        0.0033\n",
            "Tpsd:   78 10:46:06       -0.058939        0.0781\n",
            "Tpsd:   79 10:46:06       -0.061332        0.0338\n",
            "Tpsd:   80 10:46:06       -0.061494        0.0201\n",
            "Tpsd:   81 10:46:06       -0.061572        0.0030\n"
          ]
        },
        {
          "output_type": "execute_result",
          "data": {
            "text/plain": [
              "True"
            ]
          },
          "metadata": {},
          "execution_count": 99
        }
      ]
    },
    {
      "cell_type": "code",
      "source": [
        "atoms"
      ],
      "metadata": {
        "colab": {
          "base_uri": "https://localhost:8080/"
        },
        "id": "uEIKC03G29EM",
        "outputId": "0018a462-47ae-48ef-c85c-6d20db64e178"
      },
      "execution_count": 94,
      "outputs": [
        {
          "output_type": "execute_result",
          "data": {
            "text/plain": [
              "Atoms(symbols='Al2Au2', pbc=True, cell=[[4.885748169805635, 0.573397671511808, 0.004838888467572465], [1.0060652841268694, 4.880459906131843, -0.16035573211084433], [-0.014745050196845948, 0.09646173997481242, 2.8620123151139407]], calculator=EMT(...))"
            ]
          },
          "metadata": {},
          "execution_count": 94
        }
      ]
    },
    {
      "cell_type": "code",
      "source": [
        "from ase.phasediagram import PhaseDiagram\n"
      ],
      "metadata": {
        "id": "c5-RRfP33EC9"
      },
      "execution_count": 12,
      "outputs": []
    },
    {
      "cell_type": "code",
      "source": [
        "refs=[('Al',0.0), ('Au', 0.0)]"
      ],
      "metadata": {
        "id": "atgwIL894Bj5"
      },
      "execution_count": 35,
      "outputs": []
    },
    {
      "cell_type": "code",
      "source": [
        "refs.append((atoms.get_chemical_formula(),atoms.get_total_energy()))"
      ],
      "metadata": {
        "id": "CRiSFUhg4eDQ"
      },
      "execution_count": 100,
      "outputs": []
    },
    {
      "cell_type": "code",
      "source": [
        "refs"
      ],
      "metadata": {
        "colab": {
          "base_uri": "https://localhost:8080/"
        },
        "id": "WwEY19El5CMK",
        "outputId": "e84780ce-17ba-4a1f-9949-7adac214d458"
      },
      "execution_count": 101,
      "outputs": [
        {
          "output_type": "execute_result",
          "data": {
            "text/plain": [
              "[('Al', 0.0),\n",
              " ('Au', 0.0),\n",
              " ('AlAu3', -0.0472893200349489),\n",
              " ('Al2Au3', -0.09230338630035106),\n",
              " ('AlAu2', -0.05374793660957522),\n",
              " ('AlAu', -0.030032179485678157),\n",
              " ('Al4', -0.019513304874882564),\n",
              " ('Al2Au2', -0.1332019554578725),\n",
              " ('Al2Au2', -0.061571771536973685)]"
            ]
          },
          "metadata": {},
          "execution_count": 101
        }
      ]
    },
    {
      "cell_type": "code",
      "source": [
        "pd=PhaseDiagram(refs)"
      ],
      "metadata": {
        "colab": {
          "base_uri": "https://localhost:8080/"
        },
        "id": "zYPYOo4Q5a2U",
        "outputId": "51ae8224-61d4-4d9b-ac01-0b2848a7187b"
      },
      "execution_count": 97,
      "outputs": [
        {
          "output_type": "stream",
          "name": "stdout",
          "text": [
            "Species: Al, Au\n",
            "References: 8\n",
            "0    Al             0.000\n",
            "1    Au             0.000\n",
            "2    AlAu3         -0.047\n",
            "3    Al2Au3        -0.092\n",
            "4    AlAu2         -0.054\n",
            "5    AlAu          -0.030\n",
            "6    Al4           -0.020\n",
            "7    Al2Au2        -0.133\n",
            "Simplices: 2\n"
          ]
        }
      ]
    },
    {
      "cell_type": "code",
      "source": [
        "pd.plot(show=True)"
      ],
      "metadata": {
        "colab": {
          "base_uri": "https://localhost:8080/",
          "height": 467
        },
        "id": "uN1fdKEf5iEg",
        "outputId": "20bd33e8-b80d-4851-b53c-8b8a4cf1d771"
      },
      "execution_count": 102,
      "outputs": [
        {
          "output_type": "display_data",
          "data": {
            "text/plain": [
              "<Figure size 640x480 with 1 Axes>"
            ],
            "image/png": "[encoded data removed]"
          },
          "metadata": {}
        },
        {
          "output_type": "execute_result",
          "data": {
            "text/plain": [
              "<Axes: xlabel='Au', ylabel='energy [eV/atom]'>"
            ]
          },
          "metadata": {},
          "execution_count": 102
        }
      ]
    },
    {
      "cell_type": "code",
      "source": [
        "from ase.db import connect\n",
        "from ase.io import read, write\n",
        "\n",
        "db = connect('my_db.db')"
      ],
      "metadata": {
        "id": "xximtNDK74oY"
      },
      "execution_count": 77,
      "outputs": []
    },
    {
      "cell_type": "code",
      "source": [
        "db.write(atoms)"
      ],
      "metadata": {
        "colab": {
          "base_uri": "https://localhost:8080/"
        },
        "id": "VIR0O8Ee8qXx",
        "outputId": "fc418441-5b4c-4d5a-ac2a-1de9e23b29c9"
      },
      "execution_count": 103,
      "outputs": [
        {
          "output_type": "execute_result",
          "data": {
            "text/plain": [
              "6"
            ]
          },
          "metadata": {},
          "execution_count": 103
        }
      ]
    },
    {
      "cell_type": "code",
      "source": [
        "import pandas as pd\n",
        "features_from_atoms=pd.DataFrame({})\n",
        "symbols=[]; energy=[]; density=[]; com=[]; conc_Au=[]; average_dist=[]\n",
        "\n",
        "\n",
        "for row in db.select():\n",
        "  atoms=row.toatoms()\n",
        "  symbols.append(atoms.get_chemical_formula())\n",
        "\n",
        "  energy.append(row.energy)\n",
        "  atoms.get_volume()\n",
        "  sum(atoms.get_masses())\n",
        "  density.append(atoms.get_volume()/sum(atoms.get_masses()))\n",
        "\n",
        "  com.append(sum(atoms.get_center_of_mass()))\n",
        "  nlist= atoms.get_chemical_symbols()\n",
        "  conc_Au.append(nlist.count('Au')/(nlist.count('Au')+nlist.count('Al')))\n",
        "\n",
        "  average_dist.append(sum(sum(atoms.get_all_distances()))/len(nlist)**2)\n",
        "\n",
        "\n",
        "features_from_atoms['symbols']=symbols\n",
        "features_from_atoms['energy']=energy\n",
        "features_from_atoms['denisty']=density\n",
        "features_from_atoms['com']=com\n",
        "features_from_atoms['conc_Au']=conc_Au\n",
        "features_from_atoms['average_dist']=average_dist\n",
        "\n",
        "\n",
        "\n",
        "\n",
        "features_from_atoms"
      ],
      "metadata": {
        "colab": {
          "base_uri": "https://localhost:8080/",
          "height": 237
        },
        "id": "2kAwZVQ06eNJ",
        "outputId": "2a6b7699-0019-4c0f-9696-3a21619b4ff3"
      },
      "execution_count": 132,
      "outputs": [
        {
          "output_type": "execute_result",
          "data": {
            "text/plain": [
              "  symbols    energy   denisty       com   conc_Au  average_dist\n",
              "0   AlAu3 -0.047289  0.108154  5.896651  0.750000      2.152098\n",
              "1  Al2Au3 -0.092303  0.129751  4.982349  0.600000      2.729840\n",
              "2   AlAu2 -0.053748  0.119298  5.906825  0.666667      1.913362\n",
              "3    AlAu -0.030032  0.149383  2.396496  0.500000      1.476097\n",
              "4  Al2Au2 -0.133202  0.148853  5.909866  0.500000      2.294519\n",
              "5  Al2Au2 -0.061572  0.149312  4.778794  0.500000      2.152740"
            ],
            "text/html": [
              "\n",
              "  <div id=\"df-aa92a690-94dc-4d98-979f-3eaf40629f5d\" class=\"colab-df-container\">\n",
              "    <div>\n",
              "<style scoped>\n",
              "    .dataframe tbody tr th:only-of-type {\n",
              "        vertical-align: middle;\n",
              "    }\n",
              "\n",
              "    .dataframe tbody tr th {\n",
              "        vertical-align: top;\n",
              "    }\n",
              "\n",
              "    .dataframe thead th {\n",
              "        text-align: right;\n",
              "    }\n",
              "</style>\n",
              "<table border=\"1\" class=\"dataframe\">\n",
              "  <thead>\n",
              "    <tr style=\"text-align: right;\">\n",
              "      <th></th>\n",
              "      <th>symbols</th>\n",
              "      <th>energy</th>\n",
              "      <th>denisty</th>\n",
              "      <th>com</th>\n",
              "      <th>conc_Au</th>\n",
              "      <th>average_dist</th>\n",
              "    </tr>\n",
              "  </thead>\n",
              "  <tbody>\n",
              "    <tr>\n",
              "      <th>0</th>\n",
              "      <td>AlAu3</td>\n",
              "      <td>-0.047289</td>\n",
              "      <td>0.108154</td>\n",
              "      <td>5.896651</td>\n",
              "      <td>0.750000</td>\n",
              "      <td>2.152098</td>\n",
              "    </tr>\n",
              "    <tr>\n",
              "      <th>1</th>\n",
              "      <td>Al2Au3</td>\n",
              "      <td>-0.092303</td>\n",
              "      <td>0.129751</td>\n",
              "      <td>4.982349</td>\n",
              "      <td>0.600000</td>\n",
              "      <td>2.729840</td>\n",
              "    </tr>\n",
              "    <tr>\n",
              "      <th>2</th>\n",
              "      <td>AlAu2</td>\n",
              "      <td>-0.053748</td>\n",
              "      <td>0.119298</td>\n",
              "      <td>5.906825</td>\n",
              "      <td>0.666667</td>\n",
              "      <td>1.913362</td>\n",
              "    </tr>\n",
              "    <tr>\n",
              "      <th>3</th>\n",
              "      <td>AlAu</td>\n",
              "      <td>-0.030032</td>\n",
              "      <td>0.149383</td>\n",
              "      <td>2.396496</td>\n",
              "      <td>0.500000</td>\n",
              "      <td>1.476097</td>\n",
              "    </tr>\n",
              "    <tr>\n",
              "      <th>4</th>\n",
              "      <td>Al2Au2</td>\n",
              "      <td>-0.133202</td>\n",
              "      <td>0.148853</td>\n",
              "      <td>5.909866</td>\n",
              "      <td>0.500000</td>\n",
              "      <td>2.294519</td>\n",
              "    </tr>\n",
              "    <tr>\n",
              "      <th>5</th>\n",
              "      <td>Al2Au2</td>\n",
              "      <td>-0.061572</td>\n",
              "      <td>0.149312</td>\n",
              "      <td>4.778794</td>\n",
              "      <td>0.500000</td>\n",
              "      <td>2.152740</td>\n",
              "    </tr>\n",
              "  </tbody>\n",
              "</table>\n",
              "</div>\n",
              "    <div class=\"colab-df-buttons\">\n",
              "\n",
              "  <div class=\"colab-df-container\">\n",
              "    <button class=\"colab-df-convert\" onclick=\"convertToInteractive('df-aa92a690-94dc-4d98-979f-3eaf40629f5d')\"\n",
              "            title=\"Convert this dataframe to an interactive table.\"\n",
              "            style=\"display:none;\">\n",
              "\n",
              "  <svg xmlns=\"http://www.w3.org/2000/svg\" height=\"24px\" viewBox=\"0 -960 960 960\">\n",
              "    <path d=\"M120-120v-720h720v720H120Zm60-500h600v-160H180v160Zm220 220h160v-160H400v160Zm0 220h160v-160H400v160ZM180-400h160v-160H180v160Zm440 0h160v-160H620v160ZM180-180h160v-160H180v160Zm440 0h160v-160H620v160Z\"/>\n",
              "  </svg>\n",
              "    </button>\n",
              "\n",
              "  <style>\n",
              "    .colab-df-container {\n",
              "      display:flex;\n",
              "      gap: 12px;\n",
              "    }\n",
              "\n",
              "    .colab-df-convert {\n",
              "      background-color: #E8F0FE;\n",
              "      border: none;\n",
              "      border-radius: 50%;\n",
              "      cursor: pointer;\n",
              "      display: none;\n",
              "      fill: #1967D2;\n",
              "      height: 32px;\n",
              "      padding: 0 0 0 0;\n",
              "      width: 32px;\n",
              "    }\n",
              "\n",
              "    .colab-df-convert:hover {\n",
              "      background-color: #E2EBFA;\n",
              "      box-shadow: 0px 1px 2px rgba(60, 64, 67, 0.3), 0px 1px 3px 1px rgba(60, 64, 67, 0.15);\n",
              "      fill: #174EA6;\n",
              "    }\n",
              "\n",
              "    .colab-df-buttons div {\n",
              "      margin-bottom: 4px;\n",
              "    }\n",
              "\n",
              "    [theme=dark] .colab-df-convert {\n",
              "      background-color: #3B4455;\n",
              "      fill: #D2E3FC;\n",
              "    }\n",
              "\n",
              "    [theme=dark] .colab-df-convert:hover {\n",
              "      background-color: #434B5C;\n",
              "      box-shadow: 0px 1px 3px 1px rgba(0, 0, 0, 0.15);\n",
              "      filter: drop-shadow(0px 1px 2px rgba(0, 0, 0, 0.3));\n",
              "      fill: #FFFFFF;\n",
              "    }\n",
              "  </style>\n",
              "\n",
              "    <script>\n",
              "      const buttonEl =\n",
              "        document.querySelector('#df-aa92a690-94dc-4d98-979f-3eaf40629f5d button.colab-df-convert');\n",
              "      buttonEl.style.display =\n",
              "        google.colab.kernel.accessAllowed ? 'block' : 'none';\n",
              "\n",
              "      async function convertToInteractive(key) {\n",
              "        const element = document.querySelector('#df-aa92a690-94dc-4d98-979f-3eaf40629f5d');\n",
              "        const dataTable =\n",
              "          await google.colab.kernel.invokeFunction('convertToInteractive',\n",
              "                                                    [key], {});\n",
              "        if (!dataTable) return;\n",
              "\n",
              "        const docLinkHtml = 'Like what you see? Visit the ' +\n",
              "          '<a target=\"_blank\" href=https://colab.research.google.com/notebooks/data_table.ipynb>data table notebook</a>'\n",
              "          + ' to learn more about interactive tables.';\n",
              "        element.innerHTML = '';\n",
              "        dataTable['output_type'] = 'display_data';\n",
              "        await google.colab.output.renderOutput(dataTable, element);\n",
              "        const docLink = document.createElement('div');\n",
              "        docLink.innerHTML = docLinkHtml;\n",
              "        element.appendChild(docLink);\n",
              "      }\n",
              "    </script>\n",
              "  </div>\n",
              "\n",
              "\n",
              "<div id=\"df-5307f15f-4c21-473a-876c-0d48105b16b3\">\n",
              "  <button class=\"colab-df-quickchart\" onclick=\"quickchart('df-5307f15f-4c21-473a-876c-0d48105b16b3')\"\n",
              "            title=\"Suggest charts.\"\n",
              "            style=\"display:none;\">\n",
              "\n",
              "<svg xmlns=\"http://www.w3.org/2000/svg\" height=\"24px\"viewBox=\"0 0 24 24\"\n",
              "     width=\"24px\">\n",
              "    <g>\n",
              "        <path d=\"M19 3H5c-1.1 0-2 .9-2 2v14c0 1.1.9 2 2 2h14c1.1 0 2-.9 2-2V5c0-1.1-.9-2-2-2zM9 17H7v-7h2v7zm4 0h-2V7h2v10zm4 0h-2v-4h2v4z\"/>\n",
              "    </g>\n",
              "</svg>\n",
              "  </button>\n",
              "\n",
              "<style>\n",
              "  .colab-df-quickchart {\n",
              "      --bg-color: #E8F0FE;\n",
              "      --fill-color: #1967D2;\n",
              "      --hover-bg-color: #E2EBFA;\n",
              "      --hover-fill-color: #174EA6;\n",
              "      --disabled-fill-color: #AAA;\n",
              "      --disabled-bg-color: #DDD;\n",
              "  }\n",
              "\n",
              "  [theme=dark] .colab-df-quickchart {\n",
              "      --bg-color: #3B4455;\n",
              "      --fill-color: #D2E3FC;\n",
              "      --hover-bg-color: #434B5C;\n",
              "      --hover-fill-color: #FFFFFF;\n",
              "      --disabled-bg-color: #3B4455;\n",
              "      --disabled-fill-color: #666;\n",
              "  }\n",
              "\n",
              "  .colab-df-quickchart {\n",
              "    background-color: var(--bg-color);\n",
              "    border: none;\n",
              "    border-radius: 50%;\n",
              "    cursor: pointer;\n",
              "    display: none;\n",
              "    fill: var(--fill-color);\n",
              "    height: 32px;\n",
              "    padding: 0;\n",
              "    width: 32px;\n",
              "  }\n",
              "\n",
              "  .colab-df-quickchart:hover {\n",
              "    background-color: var(--hover-bg-color);\n",
              "    box-shadow: 0 1px 2px rgba(60, 64, 67, 0.3), 0 1px 3px 1px rgba(60, 64, 67, 0.15);\n",
              "    fill: var(--button-hover-fill-color);\n",
              "  }\n",
              "\n",
              "  .colab-df-quickchart-complete:disabled,\n",
              "  .colab-df-quickchart-complete:disabled:hover {\n",
              "    background-color: var(--disabled-bg-color);\n",
              "    fill: var(--disabled-fill-color);\n",
              "    box-shadow: none;\n",
              "  }\n",
              "\n",
              "  .colab-df-spinner {\n",
              "    border: 2px solid var(--fill-color);\n",
              "    border-color: transparent;\n",
              "    border-bottom-color: var(--fill-color);\n",
              "    animation:\n",
              "      spin 1s steps(1) infinite;\n",
              "  }\n",
              "\n",
              "  @keyframes spin {\n",
              "    0% {\n",
              "      border-color: transparent;\n",
              "      border-bottom-color: var(--fill-color);\n",
              "      border-left-color: var(--fill-color);\n",
              "    }\n",
              "    20% {\n",
              "      border-color: transparent;\n",
              "      border-left-color: var(--fill-color);\n",
              "      border-top-color: var(--fill-color);\n",
              "    }\n",
              "    30% {\n",
              "      border-color: transparent;\n",
              "      border-left-color: var(--fill-color);\n",
              "      border-top-color: var(--fill-color);\n",
              "      border-right-color: var(--fill-color);\n",
              "    }\n",
              "    40% {\n",
              "      border-color: transparent;\n",
              "      border-right-color: var(--fill-color);\n",
              "      border-top-color: var(--fill-color);\n",
              "    }\n",
              "    60% {\n",
              "      border-color: transparent;\n",
              "      border-right-color: var(--fill-color);\n",
              "    }\n",
              "    80% {\n",
              "      border-color: transparent;\n",
              "      border-right-color: var(--fill-color);\n",
              "      border-bottom-color: var(--fill-color);\n",
              "    }\n",
              "    90% {\n",
              "      border-color: transparent;\n",
              "      border-bottom-color: var(--fill-color);\n",
              "    }\n",
              "  }\n",
              "</style>\n",
              "\n",
              "  <script>\n",
              "    async function quickchart(key) {\n",
              "      const quickchartButtonEl =\n",
              "        document.querySelector('#' + key + ' button');\n",
              "      quickchartButtonEl.disabled = true;  // To prevent multiple clicks.\n",
              "      quickchartButtonEl.classList.add('colab-df-spinner');\n",
              "      try {\n",
              "        const charts = await google.colab.kernel.invokeFunction(\n",
              "            'suggestCharts', [key], {});\n",
              "      } catch (error) {\n",
              "        console.error('Error during call to suggestCharts:', error);\n",
              "      }\n",
              "      quickchartButtonEl.classList.remove('colab-df-spinner');\n",
              "      quickchartButtonEl.classList.add('colab-df-quickchart-complete');\n",
              "    }\n",
              "    (() => {\n",
              "      let quickchartButtonEl =\n",
              "        document.querySelector('#df-5307f15f-4c21-473a-876c-0d48105b16b3 button');\n",
              "      quickchartButtonEl.style.display =\n",
              "        google.colab.kernel.accessAllowed ? 'block' : 'none';\n",
              "    })();\n",
              "  </script>\n",
              "</div>\n",
              "    </div>\n",
              "  </div>\n"
            ]
          },
          "metadata": {},
          "execution_count": 132
        }
      ]
    }
  ]
}